{
 "cells": [
  {
   "cell_type": "markdown",
   "metadata": {},
   "source": [
    "# Capstone Project: Create a Customer Segmentation Report for Arvato Financial Services\n",
    "\n",
    "\n",
    "## Table of Contents\n",
    "\n",
    "0. [Introduction](#intro)<br>\n",
    "    0.1 [Get to Know the Data](#data)<br>\n",
    "    \n",
    "1. [Customer Segmentation Report](#customer)<br> \n",
    "    1.1 [Preprocessing](#preprocessing)<br>   \n",
    "    1.2 [Assess Mining Data](#assess)<br>   \n",
    "    1.3 [Creating a Cleaning Function](#clean)<br> \n",
    "    \n",
    "2. [Feature Transformation](#feature)<br>   \n",
    "    2.1 [Dimensionality Reduction](#reduction)<br>   \n",
    "    2.2 [Principal Components Interpretation](#principal)<br>  \n",
    "   \n",
    "3. [Clustering](#clustering)<br>   \n",
    "    3.1 [Applying Clustering to General Pupulation Data using k-means](#kmeans)<br>   \n",
    "    3.2 [Applying all Steps to Customer Data](#customer)<br> \n",
    "    \n",
    "4. [Supervised Learning Model](#model)<br>   \n",
    "    4.1 [Model training](#training)<br>\n",
    "    4.2 [Model Tuning](#tuning)<br>\n",
    "    4.3 [Feature Importance](#importance)<br>"
   ]
  },
  {
   "cell_type": "markdown",
   "metadata": {},
   "source": [
    "<a id='intro'></a>\n",
    "\n",
    "### Part 0. Introduction\n",
    "\n",
    "In this project, you will analyze demographics data for customers of a mail-order sales company in Germany, comparing it against demographics information for the general population. You'll use unsupervised learning techniques to perform customer segmentation, identifying the parts of the population that best describe the core customer base of the company. Then, you'll apply what you've learned on a third dataset with demographics information for targets of a marketing campaign for the company, and use a model to predict which individuals are most likely to convert into becoming customers for the company. The data that you will use has been provided by our partners at Bertelsmann Arvato Analytics, and represents a real-life data science task.\n",
    "\n",
    "If you completed the first term of this program, you will be familiar with the first part of this project, from the unsupervised learning project. The versions of those two datasets used in this project will include many more features and has not been pre-cleaned. You are also free to choose whatever approach you'd like to analyzing the data rather than follow pre-determined steps. In your work on this project, make sure that you carefully document your steps and decisions, since your main deliverable for this project will be a blog post reporting your findings."
   ]
  },
  {
   "cell_type": "code",
   "execution_count": 30,
   "metadata": {},
   "outputs": [],
   "source": [
    "\n",
    "# import libraries here; add more as necessary\n",
    "import numpy as np\n",
    "import pandas as pd\n",
    "import matplotlib.pyplot as plt\n",
    "import seaborn as sns\n",
    "import pickle\n",
    "import ast\n",
    "# magic word for producing visualizations in notebook\n",
    "%matplotlib inline\n",
    "from sklearn.preprocessing import Imputer, StandardScaler\n",
    "from sklearn.decomposition import PCA \n",
    "import pprint\n",
    "from sklearn.cluster import KMeans\n",
    "import time\n",
    "from sklearn.model_selection import train_test_split, RandomizedSearchCV\n",
    "from sklearn.metrics import accuracy_score, precision_score, recall_score, f1_score\n",
    "from sklearn.ensemble import RandomForestClassifier, AdaBoostClassifier\n",
    "from sklearn.ensemble import RandomForestClassifier, AdaBoostClassifier, GradientBoostingClassifier\n",
    "from sklearn.linear_model import LogisticRegression\n",
    "from sklearn.svm import SVC\n",
    "from sklearn.model_selection import GridSearchCV"
   ]
  },
  {
   "cell_type": "markdown",
   "metadata": {},
   "source": [
    "<a id='data'></a>\n",
    "### 0.1 Get to Know the Data\n",
    "\n",
    "There are four data files associated with this project:\n",
    "\n",
    "- `Udacity_AZDIAS_052018.csv`: Demographics data for the general population of Germany; 891 211 persons (rows) x 366 features (columns).\n",
    "- `Udacity_CUSTOMERS_052018.csv`: Demographics data for customers of a mail-order company; 191 652 persons (rows) x 369 features (columns).\n",
    "- `Udacity_MAILOUT_052018_TRAIN.csv`: Demographics data for individuals who were targets of a marketing campaign; 42 982 persons (rows) x 367 (columns).\n",
    "- `Udacity_MAILOUT_052018_TEST.csv`: Demographics data for individuals who were targets of a marketing campaign; 42 833 persons (rows) x 366 (columns).\n",
    "\n",
    "Each row of the demographics files represents a single person, but also includes information outside of individuals, including information about their household, building, and neighborhood. Use the information from the first two files to figure out how customers (\"CUSTOMERS\") are similar to or differ from the general population at large (\"AZDIAS\"), then use your analysis to make predictions on the other two files (\"MAILOUT\"), predicting which recipients are most likely to become a customer for the mail-order company.\n",
    "\n",
    "The \"CUSTOMERS\" file contains three extra columns ('CUSTOMER_GROUP', 'ONLINE_PURCHASE', and 'PRODUCT_GROUP'), which provide broad information about the customers depicted in the file. The original \"MAILOUT\" file included one additional column, \"RESPONSE\", which indicated whether or not each recipient became a customer of the company. For the \"TRAIN\" subset, this column has been retained, but in the \"TEST\" subset it has been removed; it is against that withheld column that your final predictions will be assessed in the Kaggle competition.\n",
    "\n",
    "Otherwise, all of the remaining columns are the same between the three data files. For more information about the columns depicted in the files, you can refer to two Excel spreadsheets provided in the workspace. [One of them](./DIAS Information Levels - Attributes 2017.xlsx) is a top-level list of attributes and descriptions, organized by informational category. [The other](./DIAS Attributes - Values 2017.xlsx) is a detailed mapping of data values for each feature in alphabetical order.\n",
    "\n",
    "In the below cell, we've provided some initial code to load in the first two datasets. Note for all of the `.csv` data files in this project that they're semicolon (`;`) delimited, so an additional argument in the [`read_csv()`](https://pandas.pydata.org/pandas-docs/stable/generated/pandas.read_csv.html) call has been included to read in the data properly. Also, considering the size of the datasets, it may take some time for them to load completely.\n",
    "\n",
    "You'll notice when the data is loaded in that a warning message will immediately pop up. Before you really start digging into the modeling and analysis, you're going to need to perform some cleaning. Take some time to browse the structure of the data and look over the informational spreadsheets to understand the data values. Make some decisions on which features to keep, which features to drop, and if any revisions need to be made on data formats. It'll be a good idea to create a function with pre-processing steps, since you'll need to clean all of the datasets before you work with them."
   ]
  },
  {
   "cell_type": "code",
   "execution_count": 9,
   "metadata": {},
   "outputs": [
    {
     "data": {
      "text/plain": [
       "'Udacity_AZDIAS_052018.csv'"
      ]
     },
     "execution_count": 9,
     "metadata": {},
     "output_type": "execute_result"
    }
   ],
   "source": [
    "from shutil import copyfile\n",
    "\n",
    "copyfile('../../data/Term2/capstone/arvato_data/Udacity_AZDIAS_052018.csv', 'Udacity_AZDIAS_052018.csv')"
   ]
  },
  {
   "cell_type": "code",
   "execution_count": 2,
   "metadata": {},
   "outputs": [],
   "source": [
    "# load in the data\n",
    "azdias = pd.read_csv('../../data/Term2/capstone/arvato_data/Udacity_AZDIAS_052018.csv', sep=';', dtype={18:'str',19:'str'})\n",
    "customers = pd.read_csv('../../data/Term2/capstone/arvato_data/Udacity_CUSTOMERS_052018.csv', sep=';', dtype={18:'str',19:'str'})"
   ]
  },
  {
   "cell_type": "code",
   "execution_count": 3,
   "metadata": {},
   "outputs": [
    {
     "data": {
      "text/html": [
       "<div>\n",
       "<style scoped>\n",
       "    .dataframe tbody tr th:only-of-type {\n",
       "        vertical-align: middle;\n",
       "    }\n",
       "\n",
       "    .dataframe tbody tr th {\n",
       "        vertical-align: top;\n",
       "    }\n",
       "\n",
       "    .dataframe thead th {\n",
       "        text-align: right;\n",
       "    }\n",
       "</style>\n",
       "<table border=\"1\" class=\"dataframe\">\n",
       "  <thead>\n",
       "    <tr style=\"text-align: right;\">\n",
       "      <th></th>\n",
       "      <th>LNR</th>\n",
       "      <th>AGER_TYP</th>\n",
       "      <th>AKT_DAT_KL</th>\n",
       "      <th>ALTER_HH</th>\n",
       "      <th>ALTER_KIND1</th>\n",
       "      <th>ALTER_KIND2</th>\n",
       "      <th>ALTER_KIND3</th>\n",
       "      <th>ALTER_KIND4</th>\n",
       "      <th>ALTERSKATEGORIE_FEIN</th>\n",
       "      <th>ANZ_HAUSHALTE_AKTIV</th>\n",
       "      <th>...</th>\n",
       "      <th>VHN</th>\n",
       "      <th>VK_DHT4A</th>\n",
       "      <th>VK_DISTANZ</th>\n",
       "      <th>VK_ZG11</th>\n",
       "      <th>W_KEIT_KIND_HH</th>\n",
       "      <th>WOHNDAUER_2008</th>\n",
       "      <th>WOHNLAGE</th>\n",
       "      <th>ZABEOTYP</th>\n",
       "      <th>ANREDE_KZ</th>\n",
       "      <th>ALTERSKATEGORIE_GROB</th>\n",
       "    </tr>\n",
       "  </thead>\n",
       "  <tbody>\n",
       "    <tr>\n",
       "      <th>0</th>\n",
       "      <td>910215</td>\n",
       "      <td>-1</td>\n",
       "      <td>NaN</td>\n",
       "      <td>NaN</td>\n",
       "      <td>NaN</td>\n",
       "      <td>NaN</td>\n",
       "      <td>NaN</td>\n",
       "      <td>NaN</td>\n",
       "      <td>NaN</td>\n",
       "      <td>NaN</td>\n",
       "      <td>...</td>\n",
       "      <td>NaN</td>\n",
       "      <td>NaN</td>\n",
       "      <td>NaN</td>\n",
       "      <td>NaN</td>\n",
       "      <td>NaN</td>\n",
       "      <td>NaN</td>\n",
       "      <td>NaN</td>\n",
       "      <td>3</td>\n",
       "      <td>1</td>\n",
       "      <td>2</td>\n",
       "    </tr>\n",
       "    <tr>\n",
       "      <th>1</th>\n",
       "      <td>910220</td>\n",
       "      <td>-1</td>\n",
       "      <td>9.0</td>\n",
       "      <td>0.0</td>\n",
       "      <td>NaN</td>\n",
       "      <td>NaN</td>\n",
       "      <td>NaN</td>\n",
       "      <td>NaN</td>\n",
       "      <td>21.0</td>\n",
       "      <td>11.0</td>\n",
       "      <td>...</td>\n",
       "      <td>4.0</td>\n",
       "      <td>8.0</td>\n",
       "      <td>11.0</td>\n",
       "      <td>10.0</td>\n",
       "      <td>3.0</td>\n",
       "      <td>9.0</td>\n",
       "      <td>4.0</td>\n",
       "      <td>5</td>\n",
       "      <td>2</td>\n",
       "      <td>1</td>\n",
       "    </tr>\n",
       "    <tr>\n",
       "      <th>2</th>\n",
       "      <td>910225</td>\n",
       "      <td>-1</td>\n",
       "      <td>9.0</td>\n",
       "      <td>17.0</td>\n",
       "      <td>NaN</td>\n",
       "      <td>NaN</td>\n",
       "      <td>NaN</td>\n",
       "      <td>NaN</td>\n",
       "      <td>17.0</td>\n",
       "      <td>10.0</td>\n",
       "      <td>...</td>\n",
       "      <td>2.0</td>\n",
       "      <td>9.0</td>\n",
       "      <td>9.0</td>\n",
       "      <td>6.0</td>\n",
       "      <td>3.0</td>\n",
       "      <td>9.0</td>\n",
       "      <td>2.0</td>\n",
       "      <td>5</td>\n",
       "      <td>2</td>\n",
       "      <td>3</td>\n",
       "    </tr>\n",
       "    <tr>\n",
       "      <th>3</th>\n",
       "      <td>910226</td>\n",
       "      <td>2</td>\n",
       "      <td>1.0</td>\n",
       "      <td>13.0</td>\n",
       "      <td>NaN</td>\n",
       "      <td>NaN</td>\n",
       "      <td>NaN</td>\n",
       "      <td>NaN</td>\n",
       "      <td>13.0</td>\n",
       "      <td>1.0</td>\n",
       "      <td>...</td>\n",
       "      <td>0.0</td>\n",
       "      <td>7.0</td>\n",
       "      <td>10.0</td>\n",
       "      <td>11.0</td>\n",
       "      <td>NaN</td>\n",
       "      <td>9.0</td>\n",
       "      <td>7.0</td>\n",
       "      <td>3</td>\n",
       "      <td>2</td>\n",
       "      <td>4</td>\n",
       "    </tr>\n",
       "    <tr>\n",
       "      <th>4</th>\n",
       "      <td>910241</td>\n",
       "      <td>-1</td>\n",
       "      <td>1.0</td>\n",
       "      <td>20.0</td>\n",
       "      <td>NaN</td>\n",
       "      <td>NaN</td>\n",
       "      <td>NaN</td>\n",
       "      <td>NaN</td>\n",
       "      <td>14.0</td>\n",
       "      <td>3.0</td>\n",
       "      <td>...</td>\n",
       "      <td>2.0</td>\n",
       "      <td>3.0</td>\n",
       "      <td>5.0</td>\n",
       "      <td>4.0</td>\n",
       "      <td>2.0</td>\n",
       "      <td>9.0</td>\n",
       "      <td>3.0</td>\n",
       "      <td>4</td>\n",
       "      <td>1</td>\n",
       "      <td>3</td>\n",
       "    </tr>\n",
       "  </tbody>\n",
       "</table>\n",
       "<p>5 rows × 366 columns</p>\n",
       "</div>"
      ],
      "text/plain": [
       "      LNR  AGER_TYP  AKT_DAT_KL  ALTER_HH  ALTER_KIND1  ALTER_KIND2  \\\n",
       "0  910215        -1         NaN       NaN          NaN          NaN   \n",
       "1  910220        -1         9.0       0.0          NaN          NaN   \n",
       "2  910225        -1         9.0      17.0          NaN          NaN   \n",
       "3  910226         2         1.0      13.0          NaN          NaN   \n",
       "4  910241        -1         1.0      20.0          NaN          NaN   \n",
       "\n",
       "   ALTER_KIND3  ALTER_KIND4  ALTERSKATEGORIE_FEIN  ANZ_HAUSHALTE_AKTIV  \\\n",
       "0          NaN          NaN                   NaN                  NaN   \n",
       "1          NaN          NaN                  21.0                 11.0   \n",
       "2          NaN          NaN                  17.0                 10.0   \n",
       "3          NaN          NaN                  13.0                  1.0   \n",
       "4          NaN          NaN                  14.0                  3.0   \n",
       "\n",
       "          ...           VHN  VK_DHT4A  VK_DISTANZ  VK_ZG11  W_KEIT_KIND_HH  \\\n",
       "0         ...           NaN       NaN         NaN      NaN             NaN   \n",
       "1         ...           4.0       8.0        11.0     10.0             3.0   \n",
       "2         ...           2.0       9.0         9.0      6.0             3.0   \n",
       "3         ...           0.0       7.0        10.0     11.0             NaN   \n",
       "4         ...           2.0       3.0         5.0      4.0             2.0   \n",
       "\n",
       "   WOHNDAUER_2008  WOHNLAGE ZABEOTYP ANREDE_KZ ALTERSKATEGORIE_GROB  \n",
       "0             NaN       NaN        3         1                    2  \n",
       "1             9.0       4.0        5         2                    1  \n",
       "2             9.0       2.0        5         2                    3  \n",
       "3             9.0       7.0        3         2                    4  \n",
       "4             9.0       3.0        4         1                    3  \n",
       "\n",
       "[5 rows x 366 columns]"
      ]
     },
     "execution_count": 3,
     "metadata": {},
     "output_type": "execute_result"
    }
   ],
   "source": [
    "# Structure of the general population  data\n",
    "\n",
    "azdias.head()"
   ]
  },
  {
   "cell_type": "code",
   "execution_count": 7,
   "metadata": {},
   "outputs": [
    {
     "data": {
      "text/html": [
       "<div>\n",
       "<style scoped>\n",
       "    .dataframe tbody tr th:only-of-type {\n",
       "        vertical-align: middle;\n",
       "    }\n",
       "\n",
       "    .dataframe tbody tr th {\n",
       "        vertical-align: top;\n",
       "    }\n",
       "\n",
       "    .dataframe thead th {\n",
       "        text-align: right;\n",
       "    }\n",
       "</style>\n",
       "<table border=\"1\" class=\"dataframe\">\n",
       "  <thead>\n",
       "    <tr style=\"text-align: right;\">\n",
       "      <th></th>\n",
       "      <th>attribute</th>\n",
       "      <th>information_level</th>\n",
       "      <th>type</th>\n",
       "      <th>missing_or_unknown</th>\n",
       "    </tr>\n",
       "  </thead>\n",
       "  <tbody>\n",
       "    <tr>\n",
       "      <th>0</th>\n",
       "      <td>AGER_TYP</td>\n",
       "      <td>person</td>\n",
       "      <td>categorical</td>\n",
       "      <td>[-1,0]</td>\n",
       "    </tr>\n",
       "    <tr>\n",
       "      <th>1</th>\n",
       "      <td>ALTERSKATEGORIE_GROB</td>\n",
       "      <td>person</td>\n",
       "      <td>ordinal</td>\n",
       "      <td>[-1,0,9]</td>\n",
       "    </tr>\n",
       "    <tr>\n",
       "      <th>2</th>\n",
       "      <td>ANREDE_KZ</td>\n",
       "      <td>person</td>\n",
       "      <td>categorical</td>\n",
       "      <td>[-1,0]</td>\n",
       "    </tr>\n",
       "    <tr>\n",
       "      <th>3</th>\n",
       "      <td>CJT_GESAMTTYP</td>\n",
       "      <td>person</td>\n",
       "      <td>categorical</td>\n",
       "      <td>[0]</td>\n",
       "    </tr>\n",
       "    <tr>\n",
       "      <th>4</th>\n",
       "      <td>FINANZ_MINIMALIST</td>\n",
       "      <td>person</td>\n",
       "      <td>ordinal</td>\n",
       "      <td>[-1]</td>\n",
       "    </tr>\n",
       "  </tbody>\n",
       "</table>\n",
       "</div>"
      ],
      "text/plain": [
       "              attribute information_level         type missing_or_unknown\n",
       "0              AGER_TYP            person  categorical             [-1,0]\n",
       "1  ALTERSKATEGORIE_GROB            person      ordinal           [-1,0,9]\n",
       "2             ANREDE_KZ            person  categorical             [-1,0]\n",
       "3         CJT_GESAMTTYP            person  categorical                [0]\n",
       "4     FINANZ_MINIMALIST            person      ordinal               [-1]"
      ]
     },
     "execution_count": 7,
     "metadata": {},
     "output_type": "execute_result"
    }
   ],
   "source": [
    "feat_info = pd.read_csv(\"feat_info.csv\")\n",
    "\n",
    "feat_info.head()"
   ]
  },
  {
   "cell_type": "code",
   "execution_count": 62,
   "metadata": {
    "scrolled": true
   },
   "outputs": [
    {
     "data": {
      "text/html": [
       "<div>\n",
       "<style scoped>\n",
       "    .dataframe tbody tr th:only-of-type {\n",
       "        vertical-align: middle;\n",
       "    }\n",
       "\n",
       "    .dataframe tbody tr th {\n",
       "        vertical-align: top;\n",
       "    }\n",
       "\n",
       "    .dataframe thead th {\n",
       "        text-align: right;\n",
       "    }\n",
       "</style>\n",
       "<table border=\"1\" class=\"dataframe\">\n",
       "  <thead>\n",
       "    <tr style=\"text-align: right;\">\n",
       "      <th></th>\n",
       "      <th>attribute</th>\n",
       "      <th>information_level</th>\n",
       "      <th>type</th>\n",
       "      <th>missing_or_unknown</th>\n",
       "    </tr>\n",
       "  </thead>\n",
       "  <tbody>\n",
       "    <tr>\n",
       "      <th>0</th>\n",
       "      <td>AGER_TYP</td>\n",
       "      <td>person</td>\n",
       "      <td>categorical</td>\n",
       "      <td>[-1,0]</td>\n",
       "    </tr>\n",
       "    <tr>\n",
       "      <th>1</th>\n",
       "      <td>ALTERSKATEGORIE_GROB</td>\n",
       "      <td>person</td>\n",
       "      <td>ordinal</td>\n",
       "      <td>[-1,0,9]</td>\n",
       "    </tr>\n",
       "    <tr>\n",
       "      <th>2</th>\n",
       "      <td>ANREDE_KZ</td>\n",
       "      <td>person</td>\n",
       "      <td>categorical</td>\n",
       "      <td>[-1,0]</td>\n",
       "    </tr>\n",
       "    <tr>\n",
       "      <th>3</th>\n",
       "      <td>CJT_GESAMTTYP</td>\n",
       "      <td>person</td>\n",
       "      <td>categorical</td>\n",
       "      <td>[0]</td>\n",
       "    </tr>\n",
       "    <tr>\n",
       "      <th>4</th>\n",
       "      <td>FINANZ_MINIMALIST</td>\n",
       "      <td>person</td>\n",
       "      <td>ordinal</td>\n",
       "      <td>[-1]</td>\n",
       "    </tr>\n",
       "  </tbody>\n",
       "</table>\n",
       "</div>"
      ],
      "text/plain": [
       "              attribute information_level         type missing_or_unknown\n",
       "0              AGER_TYP            person  categorical             [-1,0]\n",
       "1  ALTERSKATEGORIE_GROB            person      ordinal           [-1,0,9]\n",
       "2             ANREDE_KZ            person  categorical             [-1,0]\n",
       "3         CJT_GESAMTTYP            person  categorical                [0]\n",
       "4     FINANZ_MINIMALIST            person      ordinal               [-1]"
      ]
     },
     "execution_count": 62,
     "metadata": {},
     "output_type": "execute_result"
    }
   ],
   "source": [
    "feat_info.head()"
   ]
  },
  {
   "cell_type": "code",
   "execution_count": 8,
   "metadata": {},
   "outputs": [],
   "source": [
    "feat_list = feat_info['attribute'].tolist()"
   ]
  },
  {
   "cell_type": "code",
   "execution_count": 6,
   "metadata": {},
   "outputs": [
    {
     "name": "stdout",
     "output_type": "stream",
     "text": [
      "Features in feat_list that are not in azdias:\n",
      "11\n",
      "['D19_TELKO_ ANZ_24', 'D19_VERSI_ ANZ_24', 'GEOSCORE_KLS7', 'D19_VERSAND_ ANZ_12 ', 'D19_VERSI_ ANZ_12 ', 'D19_VERSAND_ ANZ_24', 'KBA13_CCM_1400_2500', 'PLZ', 'HAUSHALTSSTRUKTUR', 'WACHSTUMSGEBIET_NB', 'D19_TELKO_ ANZ_12']\n",
      "***\n",
      "Features in azdias that are not in feat_list:\n",
      "53\n",
      "['GEMEINDETYP', 'UNGLEICHENN_FLAG', 'RT_KEIN_ANREIZ', 'RT_UEBERGROESSE', 'KBA13_ANTG1', 'CJT_TYP_4', 'VERDICHTUNGSRAUM', 'ALTER_KIND3', 'KOMBIALTER', 'LNR', 'CJT_TYP_2', 'UMFELD_ALT', 'VK_DISTANZ', 'CJT_KATALOGNUTZER', 'VK_DHT4A', 'VHA', 'ANZ_KINDER', 'KBA13_BAUMAX', 'ANZ_STATISTISCHE_HAUSHALTE', 'D19_KONSUMTYP_MAX', 'D19_TELKO_ONLINE_QUOTE_12', 'KBA13_HHZ', 'KBA13_ANTG4', 'D19_LETZTER_KAUF_BRANCHE', 'KBA13_CCM_1401_2500', 'VK_ZG11', 'KBA13_GBZ', 'KBA13_ANTG3', 'RT_SCHNAEPPCHEN', 'ALTER_KIND1', 'CJT_TYP_5', 'EINGEFUEGT_AM', 'UMFELD_JUNG', 'ALTER_KIND4', 'KBA13_ANTG2', 'DSL_FLAG', 'D19_VERSI_ONLINE_QUOTE_12', 'CJT_TYP_1', 'FIRMENDICHTE', 'KONSUMZELLE', 'CJT_TYP_6', 'EINGEZOGENAM_HH_JAHR', 'ALTER_KIND2', 'CJT_TYP_3', 'AKT_DAT_KL', 'MOBI_RASTER', 'KBA13_KMH_210', 'VHN', 'STRUKTURTYP', 'ALTERSKATEGORIE_FEIN', 'D19_SOZIALES', 'HH_DELTA_FLAG', 'EXTSEL992']\n",
      "***\n",
      "Features in customers that are not in azdias:\n",
      "3\n",
      "['PRODUCT_GROUP', 'ONLINE_PURCHASE', 'CUSTOMER_GROUP']\n",
      "***\n"
     ]
    }
   ],
   "source": [
    "diff_not_in_feat = list(set(feat_list) - set(azdias))\n",
    "print('Features in feat_list that are not in azdias:')\n",
    "print(len(diff_not_in_feat))\n",
    "print(diff_not_in_feat)\n",
    "print('***')\n",
    "\n",
    "# features that are not in feat_info (no information regarding type)\n",
    "diff_not_in_azdias = list(set(azdias) - set(feat_list))\n",
    "print('Features in azdias that are not in feat_list:')\n",
    "print(len(diff_not_in_azdias))\n",
    "print(diff_not_in_azdias)\n",
    "print('***')\n",
    "\n",
    "# should be ['PRODUCT_GROUP', 'ONLINE_PURCHASE', 'CUSTOMER_GROUP']\n",
    "diff_customers_azdias = list(set(customers) - set(azdias))\n",
    "print('Features in customers that are not in azdias:')\n",
    "print(len(diff_customers_azdias))\n",
    "print(diff_customers_azdias)\n",
    "print('***')"
   ]
  },
  {
   "cell_type": "code",
   "execution_count": 13,
   "metadata": {},
   "outputs": [
    {
     "name": "stdout",
     "output_type": "stream",
     "text": [
      "Features in customers that are not in feat_list:\n",
      "56\n",
      "['MOBI_RASTER', 'CUSTOMER_GROUP', 'D19_SOZIALES', 'ALTERSKATEGORIE_FEIN', 'D19_LETZTER_KAUF_BRANCHE', 'EINGEZOGENAM_HH_JAHR', 'UNGLEICHENN_FLAG', 'PRODUCT_GROUP', 'CJT_TYP_1', 'RT_SCHNAEPPCHEN', 'VK_DISTANZ', 'FIRMENDICHTE', 'EXTSEL992', 'VERDICHTUNGSRAUM', 'D19_TELKO_ONLINE_QUOTE_12', 'ALTER_KIND1', 'EINGEFUEGT_AM', 'RT_KEIN_ANREIZ', 'CJT_KATALOGNUTZER', 'VHN', 'ANZ_STATISTISCHE_HAUSHALTE', 'AKT_DAT_KL', 'KBA13_ANTG2', 'VHA', 'ALTER_KIND3', 'ALTER_KIND4', 'CJT_TYP_4', 'CJT_TYP_2', 'CJT_TYP_3', 'UMFELD_JUNG', 'KBA13_BAUMAX', 'KBA13_HHZ', 'HH_DELTA_FLAG', 'KBA13_ANTG1', 'KBA13_ANTG3', 'LNR', 'RT_UEBERGROESSE', 'KBA13_ANTG4', 'CJT_TYP_6', 'KONSUMZELLE', 'ONLINE_PURCHASE', 'KBA13_CCM_1401_2500', 'CJT_TYP_5', 'DSL_FLAG', 'KBA13_GBZ', 'STRUKTURTYP', 'ALTER_KIND2', 'VK_DHT4A', 'ANZ_KINDER', 'KBA13_KMH_210', 'D19_VERSI_ONLINE_QUOTE_12', 'KOMBIALTER', 'UMFELD_ALT', 'VK_ZG11', 'D19_KONSUMTYP_MAX', 'GEMEINDETYP']\n",
      "***\n"
     ]
    }
   ],
   "source": [
    "diff_not_in_customers = list(set(customers) - set(feat_list))\n",
    "print('Features in customers that are not in feat_list:')\n",
    "print(len(diff_not_in_customers))\n",
    "print(diff_not_in_customers)\n",
    "print('***')"
   ]
  },
  {
   "cell_type": "code",
   "execution_count": null,
   "metadata": {},
   "outputs": [],
   "source": [
    "# drop features\n",
    "azdias.drop(labels=diff_not_in_azdias, axis=1, inplace=True)"
   ]
  },
  {
   "cell_type": "code",
   "execution_count": 6,
   "metadata": {},
   "outputs": [
    {
     "name": "stdout",
     "output_type": "stream",
     "text": [
      "<class 'pandas.core.frame.DataFrame'>\n",
      "RangeIndex: 891221 entries, 0 to 891220\n",
      "Columns: 366 entries, LNR to ALTERSKATEGORIE_GROB\n",
      "dtypes: float64(267), int64(93), object(6)\n",
      "memory usage: 2.4+ GB\n"
     ]
    }
   ],
   "source": [
    "azdias.info()"
   ]
  },
  {
   "cell_type": "code",
   "execution_count": 78,
   "metadata": {},
   "outputs": [
    {
     "data": {
      "text/plain": [
       "(891221, 313)"
      ]
     },
     "execution_count": 78,
     "metadata": {},
     "output_type": "execute_result"
    }
   ],
   "source": [
    "azdias.shape"
   ]
  },
  {
   "cell_type": "code",
   "execution_count": 17,
   "metadata": {},
   "outputs": [
    {
     "data": {
      "text/plain": [
       "LNR                                0\n",
       "AGER_TYP                           0\n",
       "AKT_DAT_KL                     73499\n",
       "ALTER_HH                       73499\n",
       "ALTER_KIND1                   810163\n",
       "ALTER_KIND2                   861722\n",
       "ALTER_KIND3                   885051\n",
       "ALTER_KIND4                   890016\n",
       "ALTERSKATEGORIE_FEIN          262947\n",
       "ANZ_HAUSHALTE_AKTIV            93148\n",
       "ANZ_HH_TITEL                   97008\n",
       "ANZ_KINDER                     73499\n",
       "ANZ_PERSONEN                   73499\n",
       "ANZ_STATISTISCHE_HAUSHALTE     93148\n",
       "ANZ_TITEL                      73499\n",
       "ARBEIT                         97216\n",
       "BALLRAUM                       93740\n",
       "CAMEO_DEU_2015                 98979\n",
       "CAMEO_DEUG_2015                98979\n",
       "CAMEO_INTL_2015                98979\n",
       "CJT_GESAMTTYP                   4854\n",
       "CJT_KATALOGNUTZER               4854\n",
       "CJT_TYP_1                       4854\n",
       "CJT_TYP_2                       4854\n",
       "CJT_TYP_3                       4854\n",
       "CJT_TYP_4                       4854\n",
       "CJT_TYP_5                       4854\n",
       "CJT_TYP_6                       4854\n",
       "D19_BANKEN_ANZ_12                  0\n",
       "D19_BANKEN_ANZ_24                  0\n",
       "                               ...  \n",
       "SEMIO_KRIT                         0\n",
       "SEMIO_KULT                         0\n",
       "SEMIO_LUST                         0\n",
       "SEMIO_MAT                          0\n",
       "SEMIO_PFLICHT                      0\n",
       "SEMIO_RAT                          0\n",
       "SEMIO_REL                          0\n",
       "SEMIO_SOZ                          0\n",
       "SEMIO_TRADV                        0\n",
       "SEMIO_VERT                         0\n",
       "SHOPPER_TYP                        0\n",
       "SOHO_KZ                        73499\n",
       "STRUKTURTYP                    97274\n",
       "TITEL_KZ                       73499\n",
       "UMFELD_ALT                     97786\n",
       "UMFELD_JUNG                    97786\n",
       "UNGLEICHENN_FLAG               73499\n",
       "VERDICHTUNGSRAUM               97274\n",
       "VERS_TYP                           0\n",
       "VHA                            73499\n",
       "VHN                           121196\n",
       "VK_DHT4A                       75917\n",
       "VK_DISTANZ                     75917\n",
       "VK_ZG11                        75917\n",
       "W_KEIT_KIND_HH                107602\n",
       "WOHNDAUER_2008                 73499\n",
       "WOHNLAGE                       93148\n",
       "ZABEOTYP                           0\n",
       "ANREDE_KZ                          0\n",
       "ALTERSKATEGORIE_GROB               0\n",
       "Length: 366, dtype: int64"
      ]
     },
     "execution_count": 17,
     "metadata": {},
     "output_type": "execute_result"
    }
   ],
   "source": [
    "azdias.isnull().sum()"
   ]
  },
  {
   "cell_type": "code",
   "execution_count": 32,
   "metadata": {},
   "outputs": [
    {
     "data": {
      "text/plain": [
       "33492923"
      ]
     },
     "execution_count": 32,
     "metadata": {},
     "output_type": "execute_result"
    }
   ],
   "source": [
    "azdias.isnull().sum().sum()\n",
    "\n"
   ]
  },
  {
   "cell_type": "code",
   "execution_count": 63,
   "metadata": {},
   "outputs": [],
   "source": [
    "feat_info.set_index(['attribute'], inplace=True)"
   ]
  },
  {
   "cell_type": "code",
   "execution_count": 64,
   "metadata": {},
   "outputs": [
    {
     "data": {
      "text/html": [
       "<div>\n",
       "<style scoped>\n",
       "    .dataframe tbody tr th:only-of-type {\n",
       "        vertical-align: middle;\n",
       "    }\n",
       "\n",
       "    .dataframe tbody tr th {\n",
       "        vertical-align: top;\n",
       "    }\n",
       "\n",
       "    .dataframe thead th {\n",
       "        text-align: right;\n",
       "    }\n",
       "</style>\n",
       "<table border=\"1\" class=\"dataframe\">\n",
       "  <thead>\n",
       "    <tr style=\"text-align: right;\">\n",
       "      <th></th>\n",
       "      <th>information_level</th>\n",
       "      <th>type</th>\n",
       "      <th>missing_or_unknown</th>\n",
       "    </tr>\n",
       "    <tr>\n",
       "      <th>attribute</th>\n",
       "      <th></th>\n",
       "      <th></th>\n",
       "      <th></th>\n",
       "    </tr>\n",
       "  </thead>\n",
       "  <tbody>\n",
       "    <tr>\n",
       "      <th>AGER_TYP</th>\n",
       "      <td>person</td>\n",
       "      <td>categorical</td>\n",
       "      <td>[-1,0]</td>\n",
       "    </tr>\n",
       "    <tr>\n",
       "      <th>ALTERSKATEGORIE_GROB</th>\n",
       "      <td>person</td>\n",
       "      <td>ordinal</td>\n",
       "      <td>[-1,0,9]</td>\n",
       "    </tr>\n",
       "    <tr>\n",
       "      <th>ANREDE_KZ</th>\n",
       "      <td>person</td>\n",
       "      <td>categorical</td>\n",
       "      <td>[-1,0]</td>\n",
       "    </tr>\n",
       "    <tr>\n",
       "      <th>CJT_GESAMTTYP</th>\n",
       "      <td>person</td>\n",
       "      <td>categorical</td>\n",
       "      <td>[0]</td>\n",
       "    </tr>\n",
       "    <tr>\n",
       "      <th>FINANZ_MINIMALIST</th>\n",
       "      <td>person</td>\n",
       "      <td>ordinal</td>\n",
       "      <td>[-1]</td>\n",
       "    </tr>\n",
       "  </tbody>\n",
       "</table>\n",
       "</div>"
      ],
      "text/plain": [
       "                     information_level         type missing_or_unknown\n",
       "attribute                                                             \n",
       "AGER_TYP                        person  categorical             [-1,0]\n",
       "ALTERSKATEGORIE_GROB            person      ordinal           [-1,0,9]\n",
       "ANREDE_KZ                       person  categorical             [-1,0]\n",
       "CJT_GESAMTTYP                   person  categorical                [0]\n",
       "FINANZ_MINIMALIST               person      ordinal               [-1]"
      ]
     },
     "execution_count": 64,
     "metadata": {},
     "output_type": "execute_result"
    }
   ],
   "source": [
    "feat_info.head()"
   ]
  },
  {
   "cell_type": "code",
   "execution_count": 64,
   "metadata": {},
   "outputs": [
    {
     "data": {
      "text/plain": [
       "(891221, 313)"
      ]
     },
     "execution_count": 64,
     "metadata": {},
     "output_type": "execute_result"
    }
   ],
   "source": [
    "azdias.shape"
   ]
  },
  {
   "cell_type": "code",
   "execution_count": 79,
   "metadata": {},
   "outputs": [
    {
     "data": {
      "text/plain": [
       "attribute\n",
       "AGER_TYP                         [-1,0]\n",
       "ALTERSKATEGORIE_GROB           [-1,0,9]\n",
       "ANREDE_KZ                        [-1,0]\n",
       "CJT_GESAMTTYP                       [0]\n",
       "FINANZ_MINIMALIST                  [-1]\n",
       "FINANZ_SPARER                      [-1]\n",
       "FINANZ_VORSORGER                   [-1]\n",
       "FINANZ_ANLEGER                     [-1]\n",
       "FINANZ_UNAUFFAELLIGER              [-1]\n",
       "FINANZ_HAUSBAUER                   [-1]\n",
       "FINANZTYP                          [-1]\n",
       "GEBURTSJAHR                         [0]\n",
       "GFK_URLAUBERTYP                      []\n",
       "GREEN_AVANTGARDE                     []\n",
       "HEALTH_TYP                       [-1,0]\n",
       "LP_LEBENSPHASE_FEIN                 [0]\n",
       "LP_LEBENSPHASE_GROB                 [0]\n",
       "LP_FAMILIE_FEIN                     [0]\n",
       "LP_FAMILIE_GROB                     [0]\n",
       "LP_STATUS_FEIN                      [0]\n",
       "LP_STATUS_GROB                      [0]\n",
       "NATIONALITAET_KZ                 [-1,0]\n",
       "PRAEGENDE_JUGENDJAHRE            [-1,0]\n",
       "RETOURTYP_BK_S                      [0]\n",
       "SEMIO_SOZ                        [-1,9]\n",
       "SEMIO_FAM                        [-1,9]\n",
       "SEMIO_REL                        [-1,9]\n",
       "SEMIO_MAT                        [-1,9]\n",
       "SEMIO_VERT                       [-1,9]\n",
       "SEMIO_LUST                       [-1,9]\n",
       "                                 ...   \n",
       "KBA13_SEG_MINIVANS                 [-1]\n",
       "KBA13_SEG_MINIWAGEN                [-1]\n",
       "KBA13_SEG_MITTELKLASSE             [-1]\n",
       "KBA13_SEG_OBEREMITTELKLASSE        [-1]\n",
       "KBA13_SEG_OBERKLASSE               [-1]\n",
       "KBA13_SEG_SONSTIGE                 [-1]\n",
       "KBA13_SEG_SPORTWAGEN               [-1]\n",
       "KBA13_SEG_UTILITIES                [-1]\n",
       "KBA13_SEG_VAN                      [-1]\n",
       "KBA13_SEG_WOHNMOBILE               [-1]\n",
       "KBA13_SITZE_4                      [-1]\n",
       "KBA13_SITZE_5                      [-1]\n",
       "KBA13_SITZE_6                      [-1]\n",
       "KBA13_TOYOTA                       [-1]\n",
       "KBA13_VORB_0                       [-1]\n",
       "KBA13_VORB_1                       [-1]\n",
       "KBA13_VORB_1_2                     [-1]\n",
       "KBA13_VORB_2                       [-1]\n",
       "KBA13_VORB_3                       [-1]\n",
       "KBA13_VW                           [-1]\n",
       "PLZ8_ANTG1                         [-1]\n",
       "PLZ8_ANTG2                         [-1]\n",
       "PLZ8_ANTG3                         [-1]\n",
       "PLZ8_ANTG4                         [-1]\n",
       "PLZ8_BAUMAX                      [-1,0]\n",
       "PLZ8_HHZ                           [-1]\n",
       "PLZ8_GBZ                           [-1]\n",
       "ARBEIT                           [-1,9]\n",
       "ORTSGR_KLS9                      [-1,0]\n",
       "RELAT_AB                         [-1,9]\n",
       "Length: 324, dtype: object"
      ]
     },
     "execution_count": 79,
     "metadata": {},
     "output_type": "execute_result"
    }
   ],
   "source": [
    "unknown = pd.Series(feat_info['missing_or_unknown'].values, index=feat_info['attribute'])\n",
    "unknown"
   ]
  },
  {
   "cell_type": "code",
   "execution_count": 85,
   "metadata": {},
   "outputs": [],
   "source": [
    "\n",
    "# Identify missing or unknown data values and convert them to NaNs.\n",
    "def convert_missing_to_nan(df):\n",
    "    for i,V in enumerate(df.iteritems()):\n",
    "        missing_unknown = feat_info['missing_or_unknown'][i]\n",
    "        column_name = V[0]\n",
    "        missing_unknown = missing_unknown[1:-1].split(',')\n",
    "        if missing_unknown != ['']:\n",
    "            hold = []\n",
    "            for x in missing_unknown:\n",
    "                if x in ['X','XX']:\n",
    "                    hold.append(x)\n",
    "                else:\n",
    "                    hold.append(int(x))\n",
    "            df[column_name] = df[column_name].replace(hold,np.nan)\n",
    "            \n",
    "    return df"
   ]
  },
  {
   "cell_type": "code",
   "execution_count": 86,
   "metadata": {},
   "outputs": [],
   "source": [
    "azdias = convert_missing_to_nan(azdias)"
   ]
  },
  {
   "cell_type": "code",
   "execution_count": 87,
   "metadata": {},
   "outputs": [
    {
     "data": {
      "text/html": [
       "<div>\n",
       "<style scoped>\n",
       "    .dataframe tbody tr th:only-of-type {\n",
       "        vertical-align: middle;\n",
       "    }\n",
       "\n",
       "    .dataframe tbody tr th {\n",
       "        vertical-align: top;\n",
       "    }\n",
       "\n",
       "    .dataframe thead th {\n",
       "        text-align: right;\n",
       "    }\n",
       "</style>\n",
       "<table border=\"1\" class=\"dataframe\">\n",
       "  <thead>\n",
       "    <tr style=\"text-align: right;\">\n",
       "      <th></th>\n",
       "      <th>AGER_TYP</th>\n",
       "      <th>ALTER_HH</th>\n",
       "      <th>ANZ_HAUSHALTE_AKTIV</th>\n",
       "      <th>ANZ_HH_TITEL</th>\n",
       "      <th>ANZ_PERSONEN</th>\n",
       "      <th>ANZ_TITEL</th>\n",
       "      <th>ARBEIT</th>\n",
       "      <th>BALLRAUM</th>\n",
       "      <th>CAMEO_DEU_2015</th>\n",
       "      <th>CAMEO_DEUG_2015</th>\n",
       "      <th>...</th>\n",
       "      <th>SHOPPER_TYP</th>\n",
       "      <th>SOHO_KZ</th>\n",
       "      <th>TITEL_KZ</th>\n",
       "      <th>VERS_TYP</th>\n",
       "      <th>W_KEIT_KIND_HH</th>\n",
       "      <th>WOHNDAUER_2008</th>\n",
       "      <th>WOHNLAGE</th>\n",
       "      <th>ZABEOTYP</th>\n",
       "      <th>ANREDE_KZ</th>\n",
       "      <th>ALTERSKATEGORIE_GROB</th>\n",
       "    </tr>\n",
       "  </thead>\n",
       "  <tbody>\n",
       "    <tr>\n",
       "      <th>0</th>\n",
       "      <td>NaN</td>\n",
       "      <td>NaN</td>\n",
       "      <td>NaN</td>\n",
       "      <td>NaN</td>\n",
       "      <td>NaN</td>\n",
       "      <td>NaN</td>\n",
       "      <td>NaN</td>\n",
       "      <td>NaN</td>\n",
       "      <td>NaN</td>\n",
       "      <td>NaN</td>\n",
       "      <td>...</td>\n",
       "      <td>NaN</td>\n",
       "      <td>NaN</td>\n",
       "      <td>NaN</td>\n",
       "      <td>NaN</td>\n",
       "      <td>NaN</td>\n",
       "      <td>NaN</td>\n",
       "      <td>NaN</td>\n",
       "      <td>3</td>\n",
       "      <td>1</td>\n",
       "      <td>2</td>\n",
       "    </tr>\n",
       "    <tr>\n",
       "      <th>1</th>\n",
       "      <td>NaN</td>\n",
       "      <td>NaN</td>\n",
       "      <td>11.0</td>\n",
       "      <td>NaN</td>\n",
       "      <td>2.0</td>\n",
       "      <td>0.0</td>\n",
       "      <td>3.0</td>\n",
       "      <td>6.0</td>\n",
       "      <td>8A</td>\n",
       "      <td>8</td>\n",
       "      <td>...</td>\n",
       "      <td>3.0</td>\n",
       "      <td>1.0</td>\n",
       "      <td>0.0</td>\n",
       "      <td>2.0</td>\n",
       "      <td>3.0</td>\n",
       "      <td>9.0</td>\n",
       "      <td>4.0</td>\n",
       "      <td>5</td>\n",
       "      <td>2</td>\n",
       "      <td>1</td>\n",
       "    </tr>\n",
       "    <tr>\n",
       "      <th>2</th>\n",
       "      <td>NaN</td>\n",
       "      <td>17.0</td>\n",
       "      <td>10.0</td>\n",
       "      <td>NaN</td>\n",
       "      <td>1.0</td>\n",
       "      <td>0.0</td>\n",
       "      <td>3.0</td>\n",
       "      <td>2.0</td>\n",
       "      <td>4C</td>\n",
       "      <td>4</td>\n",
       "      <td>...</td>\n",
       "      <td>2.0</td>\n",
       "      <td>0.0</td>\n",
       "      <td>0.0</td>\n",
       "      <td>1.0</td>\n",
       "      <td>3.0</td>\n",
       "      <td>9.0</td>\n",
       "      <td>2.0</td>\n",
       "      <td>5</td>\n",
       "      <td>2</td>\n",
       "      <td>3</td>\n",
       "    </tr>\n",
       "    <tr>\n",
       "      <th>3</th>\n",
       "      <td>2.0</td>\n",
       "      <td>13.0</td>\n",
       "      <td>1.0</td>\n",
       "      <td>NaN</td>\n",
       "      <td>0.0</td>\n",
       "      <td>0.0</td>\n",
       "      <td>2.0</td>\n",
       "      <td>4.0</td>\n",
       "      <td>2A</td>\n",
       "      <td>2</td>\n",
       "      <td>...</td>\n",
       "      <td>1.0</td>\n",
       "      <td>0.0</td>\n",
       "      <td>0.0</td>\n",
       "      <td>1.0</td>\n",
       "      <td>NaN</td>\n",
       "      <td>9.0</td>\n",
       "      <td>7.0</td>\n",
       "      <td>3</td>\n",
       "      <td>2</td>\n",
       "      <td>4</td>\n",
       "    </tr>\n",
       "    <tr>\n",
       "      <th>4</th>\n",
       "      <td>NaN</td>\n",
       "      <td>20.0</td>\n",
       "      <td>3.0</td>\n",
       "      <td>NaN</td>\n",
       "      <td>4.0</td>\n",
       "      <td>0.0</td>\n",
       "      <td>4.0</td>\n",
       "      <td>2.0</td>\n",
       "      <td>6B</td>\n",
       "      <td>6</td>\n",
       "      <td>...</td>\n",
       "      <td>2.0</td>\n",
       "      <td>0.0</td>\n",
       "      <td>0.0</td>\n",
       "      <td>2.0</td>\n",
       "      <td>2.0</td>\n",
       "      <td>9.0</td>\n",
       "      <td>3.0</td>\n",
       "      <td>4</td>\n",
       "      <td>1</td>\n",
       "      <td>3</td>\n",
       "    </tr>\n",
       "  </tbody>\n",
       "</table>\n",
       "<p>5 rows × 313 columns</p>\n",
       "</div>"
      ],
      "text/plain": [
       "   AGER_TYP  ALTER_HH  ANZ_HAUSHALTE_AKTIV  ANZ_HH_TITEL  ANZ_PERSONEN  \\\n",
       "0       NaN       NaN                  NaN           NaN           NaN   \n",
       "1       NaN       NaN                 11.0           NaN           2.0   \n",
       "2       NaN      17.0                 10.0           NaN           1.0   \n",
       "3       2.0      13.0                  1.0           NaN           0.0   \n",
       "4       NaN      20.0                  3.0           NaN           4.0   \n",
       "\n",
       "   ANZ_TITEL  ARBEIT  BALLRAUM CAMEO_DEU_2015 CAMEO_DEUG_2015  \\\n",
       "0        NaN     NaN       NaN            NaN             NaN   \n",
       "1        0.0     3.0       6.0             8A               8   \n",
       "2        0.0     3.0       2.0             4C               4   \n",
       "3        0.0     2.0       4.0             2A               2   \n",
       "4        0.0     4.0       2.0             6B               6   \n",
       "\n",
       "           ...          SHOPPER_TYP  SOHO_KZ  TITEL_KZ  VERS_TYP  \\\n",
       "0          ...                  NaN      NaN       NaN       NaN   \n",
       "1          ...                  3.0      1.0       0.0       2.0   \n",
       "2          ...                  2.0      0.0       0.0       1.0   \n",
       "3          ...                  1.0      0.0       0.0       1.0   \n",
       "4          ...                  2.0      0.0       0.0       2.0   \n",
       "\n",
       "   W_KEIT_KIND_HH  WOHNDAUER_2008  WOHNLAGE  ZABEOTYP  ANREDE_KZ  \\\n",
       "0             NaN             NaN       NaN         3          1   \n",
       "1             3.0             9.0       4.0         5          2   \n",
       "2             3.0             9.0       2.0         5          2   \n",
       "3             NaN             9.0       7.0         3          2   \n",
       "4             2.0             9.0       3.0         4          1   \n",
       "\n",
       "   ALTERSKATEGORIE_GROB  \n",
       "0                     2  \n",
       "1                     1  \n",
       "2                     3  \n",
       "3                     4  \n",
       "4                     3  \n",
       "\n",
       "[5 rows x 313 columns]"
      ]
     },
     "execution_count": 87,
     "metadata": {},
     "output_type": "execute_result"
    }
   ],
   "source": [
    "azdias.head()"
   ]
  },
  {
   "cell_type": "code",
   "execution_count": 73,
   "metadata": {},
   "outputs": [
    {
     "data": {
      "text/plain": [
       "54749610"
      ]
     },
     "execution_count": 73,
     "metadata": {},
     "output_type": "execute_result"
    }
   ],
   "source": [
    "azdias.isnull().sum().sum()"
   ]
  },
  {
   "cell_type": "code",
   "execution_count": 91,
   "metadata": {},
   "outputs": [],
   "source": [
    "\n",
    "# Dump the azdias dataframe to a pickle object \n",
    "pickle.dump(azdias, open(\"azdias.pickle\", \"wb\"))"
   ]
  },
  {
   "cell_type": "code",
   "execution_count": 14,
   "metadata": {},
   "outputs": [],
   "source": [
    "# Reload azdias object\n",
    "azdias = pickle.load(open(\"azdias.pickle\", \"rb\"))"
   ]
  },
  {
   "cell_type": "code",
   "execution_count": 15,
   "metadata": {},
   "outputs": [
    {
     "data": {
      "text/plain": [
       "(891221, 313)"
      ]
     },
     "execution_count": 15,
     "metadata": {},
     "output_type": "execute_result"
    }
   ],
   "source": [
    "azdias.shape"
   ]
  },
  {
   "cell_type": "markdown",
   "metadata": {},
   "source": [
    "<a id='customer'></a>\n",
    "### 1: Customer Segmentation Report\n",
    "\n",
    "The main bulk of your analysis will come in this part of the project. Here, you should use unsupervised learning techniques to describe the relationship between the demographics of the company's existing customers and the general population of Germany. By the end of this part, you should be able to describe parts of the general population that are more likely to be part of the mail-order company's main customer base, and which parts of the general population are less so."
   ]
  },
  {
   "cell_type": "code",
   "execution_count": null,
   "metadata": {},
   "outputs": [],
   "source": []
  },
  {
   "cell_type": "markdown",
   "metadata": {},
   "source": [
    "<a id='preprocessing'></a>\n",
    "#### 1.1. Preprocessing\n",
    "\n",
    "Using the feature summary file that contains a summary of properties for the demographics data will help with the data cleaning decisions."
   ]
  },
  {
   "cell_type": "markdown",
   "metadata": {},
   "source": [
    "<a id='assess'></a>\n",
    "#### 1.2. Assess Mining Data"
   ]
  },
  {
   "cell_type": "markdown",
   "metadata": {},
   "source": [
    "#### 1.2.1 Assess Missing Data in Each column"
   ]
  },
  {
   "cell_type": "code",
   "execution_count": 8,
   "metadata": {},
   "outputs": [
    {
     "data": {
      "text/plain": [
       "AGER_TYP                      685843\n",
       "ALTER_HH                      333084\n",
       "ANZ_HAUSHALTE_AKTIV            99611\n",
       "ANZ_HH_TITEL                  867252\n",
       "ANZ_PERSONEN                   73499\n",
       "ANZ_TITEL                      73499\n",
       "ARBEIT                         97375\n",
       "BALLRAUM                       93740\n",
       "CAMEO_DEU_2015                 98979\n",
       "CAMEO_DEUG_2015                98979\n",
       "CAMEO_INTL_2015                98979\n",
       "CJT_GESAMTTYP                   4854\n",
       "D19_BANKEN_ANZ_12                  0\n",
       "D19_BANKEN_ANZ_24                  0\n",
       "D19_BANKEN_DATUM                   0\n",
       "D19_BANKEN_DIREKT             728811\n",
       "D19_BANKEN_GROSS              785351\n",
       "D19_BANKEN_LOKAL              874745\n",
       "D19_BANKEN_OFFLINE_DATUM           0\n",
       "D19_BANKEN_ONLINE_DATUM            0\n",
       "D19_BANKEN_ONLINE_QUOTE_12    845987\n",
       "D19_BANKEN_REST               821760\n",
       "D19_BEKLEIDUNG_GEH            809304\n",
       "D19_BEKLEIDUNG_REST           692502\n",
       "D19_BILDUNG                        0\n",
       "D19_BIO_OEKO                       0\n",
       "D19_BUCH_CD                        0\n",
       "D19_DIGIT_SERV                     0\n",
       "D19_DROGERIEARTIKEL                0\n",
       "D19_ENERGIE                        0\n",
       "                               ...  \n",
       "PLZ8_GBZ                      116515\n",
       "PLZ8_HHZ                      116515\n",
       "PRAEGENDE_JUGENDJAHRE              0\n",
       "REGIOTYP                      121196\n",
       "RELAT_AB                       97216\n",
       "RETOURTYP_BK_S                  4854\n",
       "SEMIO_DOM                          0\n",
       "SEMIO_ERL                          0\n",
       "SEMIO_FAM                          0\n",
       "SEMIO_KAEM                         0\n",
       "SEMIO_KRIT                         0\n",
       "SEMIO_KULT                         0\n",
       "SEMIO_LUST                         0\n",
       "SEMIO_MAT                          0\n",
       "SEMIO_PFLICHT                      0\n",
       "SEMIO_RAT                          0\n",
       "SEMIO_REL                          0\n",
       "SEMIO_SOZ                          0\n",
       "SEMIO_TRADV                        0\n",
       "SEMIO_VERT                         0\n",
       "SHOPPER_TYP                   111196\n",
       "SOHO_KZ                        73499\n",
       "TITEL_KZ                       73499\n",
       "VERS_TYP                      111196\n",
       "W_KEIT_KIND_HH                107602\n",
       "WOHNDAUER_2008                 73499\n",
       "WOHNLAGE                       93148\n",
       "ZABEOTYP                           0\n",
       "ANREDE_KZ                          0\n",
       "ALTERSKATEGORIE_GROB               0\n",
       "Length: 313, dtype: int64"
      ]
     },
     "execution_count": 8,
     "metadata": {},
     "output_type": "execute_result"
    }
   ],
   "source": [
    "# Perform an assessment of how much missing data there is in each column of the\n",
    "# dataset.\n",
    "azdias.isnull().sum()"
   ]
  },
  {
   "cell_type": "code",
   "execution_count": 9,
   "metadata": {},
   "outputs": [
    {
     "data": {
      "text/plain": [
       "''"
      ]
     },
     "execution_count": 9,
     "metadata": {},
     "output_type": "execute_result"
    },
    {
     "data": {
      "image/png": "[encoded data removed]",
      "text/plain": [
       "<matplotlib.figure.Figure at 0x7fd3f8384be0>"
      ]
     },
     "metadata": {
      "needs_background": "light"
     },
     "output_type": "display_data"
    }
   ],
   "source": [
    "# histogram of the sum of missing values for the columns\n",
    "plt.hist(azdias.isnull().sum(), bins = 50)\n",
    "plt.title('Histogram of sum of missing data per columns')\n",
    "plt.ylabel('Number of columns')\n",
    "plt.xlabel('Sum of Nans')\n",
    ";"
   ]
  },
  {
   "cell_type": "code",
   "execution_count": 10,
   "metadata": {},
   "outputs": [
    {
     "data": {
      "text/plain": [
       "count       313.000000\n",
       "mean     119829.536741\n",
       "std      158201.982068\n",
       "min           0.000000\n",
       "25%        4854.000000\n",
       "50%      105800.000000\n",
       "75%      133324.000000\n",
       "max      874745.000000\n",
       "dtype: float64"
      ]
     },
     "execution_count": 10,
     "metadata": {},
     "output_type": "execute_result"
    }
   ],
   "source": [
    "azdias.isnull().sum().describe()"
   ]
  },
  {
   "cell_type": "markdown",
   "metadata": {},
   "source": [
    "**Looking further into more statistics, the average missing column values is about 98516, with some columns having 0 missing values and at the extreme end, maximum of 889061. Clearly such columns with so many missing values are not useful to me for analysis so will eventually be dropped.**"
   ]
  },
  {
   "cell_type": "code",
   "execution_count": 12,
   "metadata": {},
   "outputs": [
    {
     "name": "stdout",
     "output_type": "stream",
     "text": [
      "D19_BANKEN_LOKAL\n"
     ]
    }
   ],
   "source": [
    "# Investigate patterns in the amount of missing data in each column.\n",
    "for i in range(azdias.shape[1]):\n",
    "    if azdias.iloc[:, i].isnull().sum() == 874745:\n",
    "        print(azdias.columns[i])"
   ]
  },
  {
   "cell_type": "code",
   "execution_count": 14,
   "metadata": {},
   "outputs": [
    {
     "name": "stdout",
     "output_type": "stream",
     "text": [
      "D19_BANKEN_ANZ_12\n",
      "D19_BANKEN_ANZ_24\n",
      "D19_BANKEN_DATUM\n",
      "D19_BANKEN_OFFLINE_DATUM\n",
      "D19_BANKEN_ONLINE_DATUM\n",
      "D19_BILDUNG\n",
      "D19_BIO_OEKO\n",
      "D19_BUCH_CD\n",
      "D19_DIGIT_SERV\n",
      "D19_DROGERIEARTIKEL\n",
      "D19_ENERGIE\n",
      "D19_FREIZEIT\n",
      "D19_GARTEN\n",
      "D19_GESAMT_ANZ_12\n",
      "D19_GESAMT_ANZ_24\n",
      "D19_HANDWERK\n",
      "D19_HAUS_DEKO\n",
      "D19_KOSMETIK\n",
      "D19_NAHRUNGSERGAENZUNG\n",
      "D19_SAMMELARTIKEL\n",
      "D19_SCHUHE\n",
      "D19_SONSTIGE\n",
      "D19_TECHNIK\n",
      "D19_TELKO_ANZ_12\n",
      "D19_TELKO_ANZ_24\n",
      "D19_TELKO_DATUM\n",
      "D19_TELKO_MOBILE\n",
      "D19_TELKO_OFFLINE_DATUM\n",
      "D19_TELKO_ONLINE_DATUM\n",
      "D19_TELKO_REST\n",
      "D19_TIERARTIKEL\n",
      "D19_VERSAND_ANZ_12\n",
      "D19_VERSAND_ANZ_24\n",
      "D19_VERSAND_DATUM\n",
      "D19_VERSAND_OFFLINE_DATUM\n",
      "D19_VERSAND_ONLINE_DATUM\n",
      "D19_VERSAND_REST\n",
      "D19_VERSI_ANZ_12\n",
      "D19_VERSI_ANZ_24\n",
      "D19_VERSI_DATUM\n",
      "D19_VERSI_OFFLINE_DATUM\n",
      "D19_VERSI_ONLINE_DATUM\n",
      "D19_VERSICHERUNGEN\n",
      "D19_VOLLSORTIMENT\n",
      "D19_WEIN_FEINKOST\n",
      "FINANZ_ANLEGER\n",
      "FINANZ_HAUSBAUER\n",
      "FINANZ_MINIMALIST\n",
      "FINANZ_SPARER\n",
      "FINANZ_UNAUFFAELLIGER\n",
      "FINANZ_VORSORGER\n",
      "FINANZTYP\n",
      "GEBURTSJAHR\n",
      "NATIONALITAET_KZ\n",
      "PRAEGENDE_JUGENDJAHRE\n",
      "SEMIO_DOM\n",
      "SEMIO_ERL\n",
      "SEMIO_FAM\n",
      "SEMIO_KAEM\n",
      "SEMIO_KRIT\n",
      "SEMIO_KULT\n",
      "SEMIO_LUST\n",
      "SEMIO_MAT\n",
      "SEMIO_PFLICHT\n",
      "SEMIO_RAT\n",
      "SEMIO_REL\n",
      "SEMIO_SOZ\n",
      "SEMIO_TRADV\n",
      "SEMIO_VERT\n",
      "ZABEOTYP\n",
      "ANREDE_KZ\n",
      "ALTERSKATEGORIE_GROB\n"
     ]
    }
   ],
   "source": [
    "# Investigate patterns in the amount of missing data in each column.\n",
    "for i in range(azdias.shape[1]):\n",
    "    if azdias.iloc[:, i].isnull().sum() == 0:\n",
    "        print(azdias.columns[i])"
   ]
  },
  {
   "cell_type": "code",
   "execution_count": 16,
   "metadata": {},
   "outputs": [
    {
     "name": "stdout",
     "output_type": "stream",
     "text": [
      "['AGER_TYP', 'ALTER_HH', 'ANZ_HH_TITEL', 'D19_BANKEN_DIREKT', 'D19_BANKEN_GROSS', 'D19_BANKEN_LOKAL', 'D19_BANKEN_ONLINE_QUOTE_12', 'D19_BANKEN_REST', 'D19_BEKLEIDUNG_GEH', 'D19_BEKLEIDUNG_REST', 'D19_GESAMT_ONLINE_QUOTE_12', 'D19_KINDERARTIKEL', 'D19_KONSUMTYP', 'D19_LEBENSMITTEL', 'D19_LOTTO', 'D19_RATGEBER', 'D19_REISEN', 'D19_VERSAND_ONLINE_QUOTE_12', 'GREEN_AVANTGARDE', 'KK_KUNDENTYP']\n"
     ]
    }
   ],
   "source": [
    "# determing the outliers, cutoff at 200000 which is those columns with more than 20% missing values\n",
    "outliers = []\n",
    "for i in range(azdias.shape[1]):\n",
    "    if azdias.iloc[:, i].isnull().sum() > 200000:\n",
    "        outliers.append(azdias.columns[i])\n",
    "print(outliers)"
   ]
  },
  {
   "cell_type": "markdown",
   "metadata": {},
   "source": [
    "**The columns; are considered outliers and will be dropped**"
   ]
  },
  {
   "cell_type": "code",
   "execution_count": 17,
   "metadata": {},
   "outputs": [],
   "source": [
    "# Remove the outlier columns from the dataset. (You'll perform other data\n",
    "# engineering tasks such as re-encoding and imputation later.)\n",
    "\n",
    "azdias.drop(outliers, axis=1, inplace=True)"
   ]
  },
  {
   "cell_type": "code",
   "execution_count": 116,
   "metadata": {},
   "outputs": [
    {
     "data": {
      "text/plain": [
       "[]"
      ]
     },
     "execution_count": 116,
     "metadata": {},
     "output_type": "execute_result"
    }
   ],
   "source": [
    "outliers\n"
   ]
  },
  {
   "cell_type": "code",
   "execution_count": 97,
   "metadata": {},
   "outputs": [
    {
     "data": {
      "text/plain": [
       "(891221, 293)"
      ]
     },
     "execution_count": 97,
     "metadata": {},
     "output_type": "execute_result"
    }
   ],
   "source": [
    "# New dataset shape\n",
    "azdias.shape"
   ]
  },
  {
   "cell_type": "code",
   "execution_count": 17,
   "metadata": {},
   "outputs": [
    {
     "data": {
      "text/plain": [
       "''"
      ]
     },
     "execution_count": 17,
     "metadata": {},
     "output_type": "execute_result"
    },
    {
     "data": {
      "image/png": "[encoded data removed]",
      "text/plain": [
       "<matplotlib.figure.Figure at 0x7fd3f80ab2e8>"
      ]
     },
     "metadata": {
      "needs_background": "light"
     },
     "output_type": "display_data"
    }
   ],
   "source": [
    "# plot of new histogram after dropping outliers\n",
    "plt.hist(azdias.isnull().sum(), bins = 50)\n",
    "plt.title('New Histogram of sum of missing data per columns')\n",
    "plt.ylabel('Number of columns')\n",
    "plt.xlabel('Sum of Nans')\n",
    ";"
   ]
  },
  {
   "cell_type": "markdown",
   "metadata": {},
   "source": [
    "#### Discussion 1.2.2: Assess Missing Data in Each Column\n",
    "The average missing column values is about 119830, with some columns having 0 missing values and at the extreme end, maximum of 874745 missing value for one column. Most of the columns have 0 missing values and the rest are clustered between 100,000 and 120000, excluding the outliers(those with more than 200000 missing values).\n",
    "The following columns were dropped from the dataset based on the cutoff value for missing column values of 200,000:\n",
    "\n",
    "1. 'AGER_TYP'\n",
    "2. 'ALTER_HH'\n",
    "3. 'ANZ_HH_TITEL'\n",
    "4. 'D19_BANKEN_DIREKT'\n",
    "5. 'D19_BANKEN_GROSS'\n",
    "6. 'D19_BANKEN_LOKAL'\n",
    "7. 'D19_BANKEN_ONLINE_QUOTE_12'\n",
    "8. 'D19_BANKEN_REST'\n",
    "9. 'D19_BEKLEIDUNG_GEH'\n",
    "10. 'D19_BEKLEIDUNG_REST'\n",
    "11. 'D19_GESAMT_ONLINE_QUOTE_12'\n",
    "12. 'D19_KINDERARTIKEL'\n",
    "13. 'D19_KONSUMTYP'\n",
    "14. 'D19_LEBENSMITTEL'\n",
    "15. 'D19_LOTTO'\n",
    "16. 'D19_RATGEBER'\n",
    "17. 'D19_REISEN'\n",
    "18. 'D19_VERSAND_ONLINE_QUOTE_12'\n",
    "19. 'GREEN_AVANTGARDE'\n",
    "20. 'KK_KUNDENTYP'"
   ]
  },
  {
   "cell_type": "markdown",
   "metadata": {},
   "source": [
    "#### 1.2.3: Assess Missing Data for Each Row"
   ]
  },
  {
   "cell_type": "code",
   "execution_count": 18,
   "metadata": {
    "scrolled": true
   },
   "outputs": [
    {
     "data": {
      "text/plain": [
       "count    891221.000000\n",
       "mean         27.599917\n",
       "std          64.756322\n",
       "min           0.000000\n",
       "25%           0.000000\n",
       "50%           0.000000\n",
       "75%           3.000000\n",
       "max         213.000000\n",
       "dtype: float64"
      ]
     },
     "execution_count": 18,
     "metadata": {},
     "output_type": "execute_result"
    }
   ],
   "source": [
    "# assess how much data is missing in each row of the dataset\n",
    "\n",
    "azdias.isnull().sum(axis=1).describe()"
   ]
  },
  {
   "cell_type": "code",
   "execution_count": 19,
   "metadata": {},
   "outputs": [
    {
     "data": {
      "text/plain": [
       "24597626"
      ]
     },
     "execution_count": 19,
     "metadata": {},
     "output_type": "execute_result"
    }
   ],
   "source": [
    "azdias.isnull().sum(axis=1).sum()"
   ]
  },
  {
   "cell_type": "code",
   "execution_count": 21,
   "metadata": {},
   "outputs": [
    {
     "data": {
      "text/plain": [
       "''"
      ]
     },
     "execution_count": 21,
     "metadata": {},
     "output_type": "execute_result"
    },
    {
     "data": {
      "image/png": "[encoded data removed]",
      "text/plain": [
       "<matplotlib.figure.Figure at 0x7fd3f7fa2550>"
      ]
     },
     "metadata": {
      "needs_background": "light"
     },
     "output_type": "display_data"
    }
   ],
   "source": [
    "plt.hist(azdias.isnull().sum(axis=1), bins = 50)\n",
    "plt.title('New Histogram of sum of missing data for the rows')\n",
    "plt.ylabel('Number of users')\n",
    "plt.xlabel('Sum of Nans')\n",
    ";"
   ]
  },
  {
   "cell_type": "code",
   "execution_count": 18,
   "metadata": {},
   "outputs": [],
   "source": [
    "sum_nans = azdias.isnull().sum(axis=1)\n"
   ]
  },
  {
   "cell_type": "code",
   "execution_count": 19,
   "metadata": {},
   "outputs": [
    {
     "name": "stdout",
     "output_type": "stream",
     "text": [
      "rows missing more than 30 column values: 153933\n",
      "rows missing less than 30 column values: 737288\n"
     ]
    }
   ],
   "source": [
    "# Write code to divide the data into two subsets based on the number of missing\n",
    "# values in each row.\n",
    "\n",
    "above_cut_off = sum_nans[sum_nans > 30]\n",
    "below_cut_off = sum_nans[sum_nans <=30]  \n",
    "\n",
    "print('rows missing more than 30 column values:', above_cut_off.shape[0])\n",
    "print('rows missing less than 30 column values:', below_cut_off.shape[0])"
   ]
  },
  {
   "cell_type": "code",
   "execution_count": 24,
   "metadata": {},
   "outputs": [
    {
     "data": {
      "image/png": "[encoded data removed]",
      "text/plain": [
       "<matplotlib.figure.Figure at 0x7fd3f7f76cc0>"
      ]
     },
     "metadata": {
      "needs_background": "light"
     },
     "output_type": "display_data"
    }
   ],
   "source": [
    "\n",
    "plt.hist([above_cut_off, below_cut_off], color=['g', 'r'], alpha=0.8)\n",
    "plt.title('Histograms of 2 subsets')\n",
    "plt.ylabel('Number of missing values in the columns')\n",
    "plt.xlabel('Sum of rows')\n",
    "plt.show()"
   ]
  },
  {
   "cell_type": "code",
   "execution_count": 20,
   "metadata": {},
   "outputs": [],
   "source": [
    "# drop rows with more than 30 column values\n",
    "azdias = azdias[~azdias.index.isin(above_cut_off.index)]"
   ]
  },
  {
   "cell_type": "code",
   "execution_count": 26,
   "metadata": {},
   "outputs": [
    {
     "data": {
      "text/plain": [
       "(737288, 293)"
      ]
     },
     "execution_count": 26,
     "metadata": {},
     "output_type": "execute_result"
    }
   ],
   "source": [
    "azdias.shape"
   ]
  },
  {
   "cell_type": "markdown",
   "metadata": {},
   "source": [
    "#### 1:2.4: Select and Re-Encode Features"
   ]
  },
  {
   "cell_type": "code",
   "execution_count": 27,
   "metadata": {
    "scrolled": false
   },
   "outputs": [
    {
     "data": {
      "text/plain": [
       "array(['AGER_TYP', 'ANREDE_KZ', 'CJT_GESAMTTYP', 'FINANZTYP',\n",
       "       'GFK_URLAUBERTYP', 'GREEN_AVANTGARDE', 'LP_FAMILIE_FEIN',\n",
       "       'LP_FAMILIE_GROB', 'LP_STATUS_FEIN', 'LP_STATUS_GROB',\n",
       "       'NATIONALITAET_KZ', 'SHOPPER_TYP', 'SOHO_KZ', 'TITEL_KZ',\n",
       "       'VERS_TYP', 'ZABEOTYP', 'KK_KUNDENTYP', 'D19_KONSUMTYP',\n",
       "       'D19_GESAMT_ANZ_12', 'D19_GESAMT_ANZ_24', 'D19_BANKEN_ANZ_12',\n",
       "       'D19_BANKEN_ANZ_24', 'D19_TELKO_ ANZ_12', 'D19_TELKO_ ANZ_24',\n",
       "       'D19_VERSI_ ANZ_12 ', 'D19_VERSI_ ANZ_24', 'D19_VERSAND_ ANZ_12 ',\n",
       "       'D19_VERSAND_ ANZ_24', 'D19_GESAMT_OFFLINE_DATUM',\n",
       "       'D19_GESAMT_ONLINE_DATUM', 'D19_GESAMT_DATUM',\n",
       "       'D19_BANKEN_OFFLINE_DATUM', 'D19_BANKEN_ONLINE_DATUM',\n",
       "       'D19_BANKEN_DATUM', 'D19_TELKO_OFFLINE_DATUM',\n",
       "       'D19_TELKO_ONLINE_DATUM', 'D19_TELKO_DATUM',\n",
       "       'D19_VERSAND_OFFLINE_DATUM', 'D19_VERSAND_ONLINE_DATUM',\n",
       "       'D19_VERSAND_DATUM', 'D19_VERSI_OFFLINE_DATUM',\n",
       "       'D19_VERSI_ONLINE_DATUM', 'D19_VERSI_DATUM',\n",
       "       'D19_GESAMT_ONLINE_QUOTE_12', 'D19_BANKEN_ONLINE_QUOTE_12',\n",
       "       'D19_VERSAND_ONLINE_QUOTE_12', 'GEBAEUDETYP', 'OST_WEST_KZ',\n",
       "       'CAMEO_DEUG_2015', 'CAMEO_DEU_2015'], dtype=object)"
      ]
     },
     "execution_count": 27,
     "metadata": {},
     "output_type": "execute_result"
    }
   ],
   "source": [
    "categorical_columns = feat_info.loc[feat_info['type']=='categorical', 'attribute'].values\n",
    "categorical_columns"
   ]
  },
  {
   "cell_type": "code",
   "execution_count": 28,
   "metadata": {},
   "outputs": [
    {
     "data": {
      "text/plain": [
       "['ANREDE_KZ', 'SOHO_KZ', 'OST_WEST_KZ']"
      ]
     },
     "execution_count": 28,
     "metadata": {},
     "output_type": "execute_result"
    }
   ],
   "source": [
    "\n",
    "# selecting columns with binary values\n",
    "binary_cols = []\n",
    "\n",
    "\n",
    "for i, j in enumerate(categorical_columns):\n",
    "    \n",
    "    if azdias.columns.isin([categorical_columns[i]]).sum() > 0:\n",
    "        \n",
    "        if len(set(azdias[categorical_columns[i]].values)) == 2:\n",
    "            binary_cols.append(categorical_columns[i])\n",
    "        else:\n",
    "            continue\n",
    "\n",
    "binary_cols"
   ]
  },
  {
   "cell_type": "code",
   "execution_count": 29,
   "metadata": {},
   "outputs": [
    {
     "name": "stdout",
     "output_type": "stream",
     "text": [
      "2    384280\n",
      "1    353008\n",
      "Name: ANREDE_KZ, dtype: int64\n",
      "0.0    731069\n",
      "1.0      6219\n",
      "Name: SOHO_KZ, dtype: int64\n",
      "W    582290\n",
      "O    154998\n",
      "Name: OST_WEST_KZ, dtype: int64\n"
     ]
    }
   ],
   "source": [
    "for c in binary_cols:\n",
    "    print(azdias[c].value_counts())"
   ]
  },
  {
   "cell_type": "code",
   "execution_count": 21,
   "metadata": {},
   "outputs": [],
   "source": [
    "\n",
    "# encode the binary columns to 1, 0 codes\n",
    "azdias['ANREDE_KZ'].replace([2,1], [1,0], inplace=True)\n",
    "azdias['OST_WEST_KZ'].replace(['W', 'O'], [1,0], inplace=True)\n"
   ]
  },
  {
   "cell_type": "code",
   "execution_count": 43,
   "metadata": {},
   "outputs": [],
   "source": [
    "azdias['SOHO_KZ'].replace([1.0, 0.0], [1,0], inplace=True)"
   ]
  },
  {
   "cell_type": "code",
   "execution_count": 31,
   "metadata": {},
   "outputs": [
    {
     "name": "stdout",
     "output_type": "stream",
     "text": [
      "1    384280\n",
      "0    353008\n",
      "Name: ANREDE_KZ, dtype: int64\n",
      "0.0    731069\n",
      "1.0      6219\n",
      "Name: SOHO_KZ, dtype: int64\n",
      "1    582290\n",
      "0    154998\n",
      "Name: OST_WEST_KZ, dtype: int64\n"
     ]
    }
   ],
   "source": [
    "for c in binary_cols:\n",
    "    print(azdias[c].value_counts())"
   ]
  },
  {
   "cell_type": "code",
   "execution_count": 35,
   "metadata": {},
   "outputs": [
    {
     "data": {
      "text/plain": [
       "['CJT_GESAMTTYP',\n",
       " 'FINANZTYP',\n",
       " 'GFK_URLAUBERTYP',\n",
       " 'LP_FAMILIE_FEIN',\n",
       " 'LP_FAMILIE_GROB',\n",
       " 'LP_STATUS_FEIN',\n",
       " 'LP_STATUS_GROB',\n",
       " 'NATIONALITAET_KZ',\n",
       " 'SHOPPER_TYP',\n",
       " 'TITEL_KZ',\n",
       " 'VERS_TYP',\n",
       " 'ZABEOTYP',\n",
       " 'D19_GESAMT_ANZ_12',\n",
       " 'D19_GESAMT_ANZ_24',\n",
       " 'D19_BANKEN_ANZ_12',\n",
       " 'D19_BANKEN_ANZ_24',\n",
       " 'D19_GESAMT_OFFLINE_DATUM',\n",
       " 'D19_GESAMT_ONLINE_DATUM',\n",
       " 'D19_GESAMT_DATUM',\n",
       " 'D19_BANKEN_OFFLINE_DATUM',\n",
       " 'D19_BANKEN_ONLINE_DATUM',\n",
       " 'D19_BANKEN_DATUM',\n",
       " 'D19_TELKO_OFFLINE_DATUM',\n",
       " 'D19_TELKO_ONLINE_DATUM',\n",
       " 'D19_TELKO_DATUM',\n",
       " 'D19_VERSAND_OFFLINE_DATUM',\n",
       " 'D19_VERSAND_ONLINE_DATUM',\n",
       " 'D19_VERSAND_DATUM',\n",
       " 'D19_VERSI_OFFLINE_DATUM',\n",
       " 'D19_VERSI_ONLINE_DATUM',\n",
       " 'D19_VERSI_DATUM',\n",
       " 'GEBAEUDETYP',\n",
       " 'CAMEO_DEUG_2015',\n",
       " 'CAMEO_DEU_2015']"
      ]
     },
     "execution_count": 35,
     "metadata": {},
     "output_type": "execute_result"
    }
   ],
   "source": [
    "multi_cols = []\n",
    "\n",
    "\n",
    "for i, j in enumerate(categorical_columns):\n",
    "    \n",
    "    if azdias.columns.isin([categorical_columns[i]]).sum() > 0:\n",
    "        \n",
    "        if len(set(azdias[categorical_columns[i]].values)) > 2:\n",
    "            multi_cols.append(categorical_columns[i])\n",
    "        else:\n",
    "            continue\n",
    "\n",
    "multi_cols"
   ]
  },
  {
   "cell_type": "code",
   "execution_count": null,
   "metadata": {},
   "outputs": [],
   "source": [
    "for c in binary_cols:\n",
    "    print(azdias_df[c].value_counts())"
   ]
  },
  {
   "cell_type": "code",
   "execution_count": 36,
   "metadata": {},
   "outputs": [
    {
     "name": "stdout",
     "output_type": "stream",
     "text": [
      "4.0    182291\n",
      "3.0    135153\n",
      "2.0    133759\n",
      "5.0    104852\n",
      "6.0     92101\n",
      "1.0     84750\n",
      "Name: CJT_GESAMTTYP, dtype: int64\n",
      "6    279333\n",
      "1    183268\n",
      "5     98064\n",
      "2     94276\n",
      "4     52488\n",
      "3     29859\n",
      "Name: FINANZTYP, dtype: int64\n",
      "12.0    118741\n",
      "10.0     96584\n",
      "8.0      77124\n",
      "11.0     70649\n",
      "5.0      67709\n",
      "4.0      56673\n",
      "3.0      51880\n",
      "9.0      51656\n",
      "1.0      47846\n",
      "7.0      36607\n",
      "2.0      32927\n",
      "6.0      24510\n",
      "Name: GFK_URLAUBERTYP, dtype: int64\n",
      "1.0     371657\n",
      "10.0    121768\n",
      "2.0      91335\n",
      "11.0     46211\n",
      "0.0      24371\n",
      "8.0      19575\n",
      "7.0      16310\n",
      "4.0      10485\n",
      "5.0      10325\n",
      "9.0       9797\n",
      "6.0       6954\n",
      "3.0       4118\n",
      "Name: LP_FAMILIE_FEIN, dtype: int64\n",
      "1.0    371657\n",
      "5.0    177776\n",
      "2.0     91335\n",
      "4.0     42839\n",
      "3.0     24928\n",
      "0.0     24371\n",
      "Name: LP_FAMILIE_GROB, dtype: int64\n",
      "1.0     193116\n",
      "9.0     119084\n",
      "2.0     106523\n",
      "10.0    104699\n",
      "4.0      70564\n",
      "3.0      65286\n",
      "6.0      26692\n",
      "5.0      24412\n",
      "8.0      13989\n",
      "7.0       8541\n",
      "Name: LP_STATUS_FEIN, dtype: int64\n",
      "1.0    299639\n",
      "2.0    160262\n",
      "4.0    133073\n",
      "5.0    104699\n",
      "3.0     35233\n",
      "Name: LP_STATUS_GROB, dtype: int64\n",
      "1    616531\n",
      "2     59334\n",
      "0     31475\n",
      "3     29948\n",
      "Name: NATIONALITAET_KZ, dtype: int64\n",
      "1.0    222927\n",
      "2.0    195676\n",
      "3.0    161000\n",
      "0.0    123631\n",
      "Name: SHOPPER_TYP, dtype: int64\n",
      "0.0    735364\n",
      "1.0      1740\n",
      "5.0        94\n",
      "4.0        47\n",
      "3.0        41\n",
      "2.0         2\n",
      "Name: TITEL_KZ, dtype: int64\n",
      "2.0    370235\n",
      "1.0    332999\n",
      "Name: VERS_TYP, dtype: int64\n",
      "3    261157\n",
      "4    193799\n",
      "1    113879\n",
      "5     76017\n",
      "6     66148\n",
      "2     26288\n",
      "Name: ZABEOTYP, dtype: int64\n",
      "0    463507\n",
      "1     90044\n",
      "2     87205\n",
      "3     40355\n",
      "4     38248\n",
      "5     14887\n",
      "6      3042\n",
      "Name: D19_GESAMT_ANZ_12, dtype: int64\n",
      "0    391452\n",
      "2     92161\n",
      "1     78802\n",
      "4     65738\n",
      "3     52393\n",
      "5     40701\n",
      "6     16041\n",
      "Name: D19_GESAMT_ANZ_24, dtype: int64\n",
      "0    684110\n",
      "1     26695\n",
      "2     16162\n",
      "3      5083\n",
      "4      3595\n",
      "5      1318\n",
      "6       325\n",
      "Name: D19_BANKEN_ANZ_12, dtype: int64\n",
      "0    650566\n",
      "1     39011\n",
      "2     26015\n",
      "3      9098\n",
      "4      8025\n",
      "5      3432\n",
      "6      1141\n",
      "Name: D19_BANKEN_ANZ_24, dtype: int64\n",
      "10.0    438049\n",
      "8.0      62334\n",
      "5.0      31472\n",
      "7.0      24659\n",
      "6.0      20143\n",
      "4.0       8605\n",
      "2.0       8287\n",
      "1.0       5668\n",
      "3.0       4904\n",
      "Name: D19_GESAMT_OFFLINE_DATUM, dtype: int64\n",
      "10.0    342444\n",
      "5.0      71631\n",
      "1.0      50459\n",
      "8.0      38824\n",
      "2.0      36469\n",
      "6.0      33284\n",
      "4.0      32228\n",
      "7.0      30197\n",
      "3.0      23326\n",
      "Name: D19_GESAMT_ONLINE_DATUM, dtype: int64\n",
      "10.0    253442\n",
      "5.0      84730\n",
      "1.0      67084\n",
      "2.0      53166\n",
      "8.0      48299\n",
      "4.0      39452\n",
      "6.0      37972\n",
      "7.0      34083\n",
      "3.0      29349\n",
      "Name: D19_GESAMT_DATUM, dtype: int64\n",
      "10    719403\n",
      "8       5906\n",
      "9       4677\n",
      "5       3915\n",
      "2       1866\n",
      "6        470\n",
      "1        407\n",
      "7        304\n",
      "4        280\n",
      "3         60\n",
      "Name: D19_BANKEN_OFFLINE_DATUM, dtype: int64\n",
      "10    590332\n",
      "9      59383\n",
      "8      20569\n",
      "5      19700\n",
      "7      14605\n",
      "6      12116\n",
      "1       6186\n",
      "4       6113\n",
      "2       4406\n",
      "3       3878\n",
      "Name: D19_BANKEN_ONLINE_DATUM, dtype: int64\n",
      "10    546555\n",
      "9      74263\n",
      "8      29748\n",
      "5      26455\n",
      "7      18349\n",
      "6      15195\n",
      "1       7572\n",
      "4       7488\n",
      "2       7138\n",
      "3       4525\n",
      "Name: D19_BANKEN_DATUM, dtype: int64\n",
      "10    672457\n",
      "9      32928\n",
      "8      16776\n",
      "5       5761\n",
      "6       3551\n",
      "7       3221\n",
      "4       1052\n",
      "1        603\n",
      "2        486\n",
      "3        453\n",
      "Name: D19_TELKO_OFFLINE_DATUM, dtype: int64\n",
      "10    729985\n",
      "9       4124\n",
      "8       1542\n",
      "7        513\n",
      "5        441\n",
      "6        417\n",
      "4        104\n",
      "3         60\n",
      "1         60\n",
      "2         42\n",
      "Name: D19_TELKO_ONLINE_DATUM, dtype: int64\n",
      "10    534635\n",
      "9     105985\n",
      "8      38077\n",
      "5      17596\n",
      "7      16410\n",
      "6      12245\n",
      "4       4786\n",
      "1       2770\n",
      "2       2531\n",
      "3       2253\n",
      "Name: D19_TELKO_DATUM, dtype: int64\n",
      "10    506488\n",
      "9     111837\n",
      "8      51910\n",
      "5      20564\n",
      "7      17485\n",
      "6      13726\n",
      "4       4844\n",
      "2       4362\n",
      "1       3124\n",
      "3       2948\n",
      "Name: D19_VERSAND_OFFLINE_DATUM, dtype: int64\n",
      "10    382243\n",
      "9      75152\n",
      "5      63315\n",
      "1      43680\n",
      "8      34828\n",
      "2      32504\n",
      "6      30642\n",
      "4      27957\n",
      "7      26499\n",
      "3      20468\n",
      "Name: D19_VERSAND_ONLINE_DATUM, dtype: int64\n",
      "10    330183\n",
      "9      92038\n",
      "5      70544\n",
      "1      47369\n",
      "8      45925\n",
      "2      36124\n",
      "6      33403\n",
      "4      30373\n",
      "7      28952\n",
      "3      22377\n",
      "Name: D19_VERSAND_DATUM, dtype: int64\n",
      "10    707612\n",
      "9      16086\n",
      "8       6296\n",
      "5       3101\n",
      "7       1716\n",
      "6       1433\n",
      "4        500\n",
      "3        190\n",
      "2        188\n",
      "1        166\n",
      "Name: D19_VERSI_OFFLINE_DATUM, dtype: int64\n",
      "10    730600\n",
      "9       2487\n",
      "8       1134\n",
      "7        952\n",
      "5        901\n",
      "6        613\n",
      "4        266\n",
      "2        124\n",
      "3        117\n",
      "1         94\n",
      "Name: D19_VERSI_ONLINE_DATUM, dtype: int64\n",
      "10    530194\n",
      "9      72349\n",
      "8      32539\n",
      "5      26101\n",
      "6      20734\n",
      "7      18887\n",
      "2      14237\n",
      "4       8596\n",
      "1       7747\n",
      "3       5904\n",
      "Name: D19_VERSI_DATUM, dtype: int64\n",
      "1.0    422228\n",
      "3.0    163105\n",
      "8.0    146304\n",
      "2.0      4261\n",
      "4.0       830\n",
      "6.0       559\n",
      "5.0         1\n",
      "Name: GEBAEUDETYP, dtype: int64\n",
      "8    128860\n",
      "6    100692\n",
      "9     99451\n",
      "4     95582\n",
      "2     76611\n",
      "3     76321\n",
      "7     72484\n",
      "5     49713\n",
      "1     34234\n",
      "X       284\n",
      "Name: CAMEO_DEUG_2015, dtype: int64\n",
      "6B    54006\n",
      "8A    50776\n",
      "4C    43988\n",
      "2D    32906\n",
      "7A    32630\n",
      "3C    32565\n",
      "3D    32176\n",
      "8B    31262\n",
      "4A    30254\n",
      "8C    30147\n",
      "9D    26746\n",
      "9B    25888\n",
      "7B    22921\n",
      "9C    22919\n",
      "9A    20057\n",
      "2C    17742\n",
      "8D    16675\n",
      "6E    15598\n",
      "5D    14071\n",
      "2B    14042\n",
      "6C    13868\n",
      "2A    11921\n",
      "1D    11457\n",
      "1A    10167\n",
      "5A     9721\n",
      "5B     9691\n",
      "5C     9050\n",
      "4B     8284\n",
      "7C     8127\n",
      "4D     8051\n",
      "6A     6416\n",
      "3A     5871\n",
      "6D     5756\n",
      "3B     5709\n",
      "6F     5048\n",
      "4E     5005\n",
      "1E     4783\n",
      "7D     4431\n",
      "7E     4375\n",
      "1C     4012\n",
      "5F     3939\n",
      "9E     3841\n",
      "1B     3815\n",
      "5E     3241\n",
      "XX      284\n",
      "Name: CAMEO_DEU_2015, dtype: int64\n"
     ]
    }
   ],
   "source": [
    "for c in multi_cols:\n",
    "    print(azdias[c].value_counts())"
   ]
  },
  {
   "cell_type": "code",
   "execution_count": 37,
   "metadata": {},
   "outputs": [],
   "source": [
    "\n"
   ]
  },
  {
   "cell_type": "code",
   "execution_count": 22,
   "metadata": {},
   "outputs": [],
   "source": [
    "cols_to_drop = ['D19_VERSAND_OFFLINE_DATUM','D19_VERSAND_ONLINE_DATUM', 'D19_VERSAND_DATUM',\n",
    "                'D19_VERSI_OFFLINE_DATUM','D19_VERSI_ONLINE_DATUM', 'D19_VERSI_DATUM','GEBAEUDETYP',\n",
    "                'CAMEO_DEUG_2015','D19_TELKO_DATUM','D19_TELKO_ONLINE_DATUM', 'D19_TELKO_OFFLINE_DATUM',\n",
    "                'D19_BANKEN_DATUM','D19_BANKEN_ONLINE_DATUM','D19_BANKEN_OFFLINE_DATUM','D19_GESAMT_DATUM',\n",
    "                'D19_GESAMT_ONLINE_DATUM','D19_GESAMT_OFFLINE_DATUM','D19_BANKEN_ANZ_24','D19_BANKEN_ANZ_12',\n",
    "                'D19_GESAMT_ANZ_24','D19_GESAMT_ANZ_12','ZABEOTYP','TITEL_KZ','LP_STATUS_FEIN','FINANZTYP',\n",
    "                'CJT_GESAMTTYP','LP_FAMILIE_FEIN','CAMEO_DEU_2015', 'GFK_URLAUBERTYP', 'CAMEO_INTL_2015','CAMEO_DEU_2015'] #more than 5 levels\n",
    "cols_to_dummy = ['LP_FAMILIE_GROB','LP_STATUS_GROB','NATIONALITAET_KZ','SHOPPER_TYP','VERS_TYP']\n",
    " \n",
    " \n",
    " \n",
    "\n",
    " \n",
    " \n",
    " "
   ]
  },
  {
   "cell_type": "code",
   "execution_count": 23,
   "metadata": {},
   "outputs": [],
   "source": [
    "# One-hot encoding to create dummy variables for the multi-level columns\n",
    "azdias = pd.get_dummies(azdias, columns=cols_to_dummy)\n"
   ]
  },
  {
   "cell_type": "code",
   "execution_count": 16,
   "metadata": {},
   "outputs": [
    {
     "data": {
      "text/html": [
       "<div>\n",
       "<style scoped>\n",
       "    .dataframe tbody tr th:only-of-type {\n",
       "        vertical-align: middle;\n",
       "    }\n",
       "\n",
       "    .dataframe tbody tr th {\n",
       "        vertical-align: top;\n",
       "    }\n",
       "\n",
       "    .dataframe thead th {\n",
       "        text-align: right;\n",
       "    }\n",
       "</style>\n",
       "<table border=\"1\" class=\"dataframe\">\n",
       "  <thead>\n",
       "    <tr style=\"text-align: right;\">\n",
       "      <th></th>\n",
       "      <th>ANZ_HAUSHALTE_AKTIV</th>\n",
       "      <th>ANZ_PERSONEN</th>\n",
       "      <th>ANZ_TITEL</th>\n",
       "      <th>ARBEIT</th>\n",
       "      <th>BALLRAUM</th>\n",
       "      <th>CAMEO_DEU_2015</th>\n",
       "      <th>CAMEO_DEUG_2015</th>\n",
       "      <th>CAMEO_INTL_2015</th>\n",
       "      <th>CJT_GESAMTTYP</th>\n",
       "      <th>D19_BANKEN_ANZ_12</th>\n",
       "      <th>...</th>\n",
       "      <th>NATIONALITAET_KZ_0</th>\n",
       "      <th>NATIONALITAET_KZ_1</th>\n",
       "      <th>NATIONALITAET_KZ_2</th>\n",
       "      <th>NATIONALITAET_KZ_3</th>\n",
       "      <th>SHOPPER_TYP_0.0</th>\n",
       "      <th>SHOPPER_TYP_1.0</th>\n",
       "      <th>SHOPPER_TYP_2.0</th>\n",
       "      <th>SHOPPER_TYP_3.0</th>\n",
       "      <th>VERS_TYP_1.0</th>\n",
       "      <th>VERS_TYP_2.0</th>\n",
       "    </tr>\n",
       "  </thead>\n",
       "  <tbody>\n",
       "    <tr>\n",
       "      <th>1</th>\n",
       "      <td>11.0</td>\n",
       "      <td>2.0</td>\n",
       "      <td>0.0</td>\n",
       "      <td>3.0</td>\n",
       "      <td>6.0</td>\n",
       "      <td>8A</td>\n",
       "      <td>8</td>\n",
       "      <td>51</td>\n",
       "      <td>5.0</td>\n",
       "      <td>0</td>\n",
       "      <td>...</td>\n",
       "      <td>0</td>\n",
       "      <td>1</td>\n",
       "      <td>0</td>\n",
       "      <td>0</td>\n",
       "      <td>0</td>\n",
       "      <td>0</td>\n",
       "      <td>0</td>\n",
       "      <td>1</td>\n",
       "      <td>0</td>\n",
       "      <td>1</td>\n",
       "    </tr>\n",
       "    <tr>\n",
       "      <th>2</th>\n",
       "      <td>10.0</td>\n",
       "      <td>1.0</td>\n",
       "      <td>0.0</td>\n",
       "      <td>3.0</td>\n",
       "      <td>2.0</td>\n",
       "      <td>4C</td>\n",
       "      <td>4</td>\n",
       "      <td>24</td>\n",
       "      <td>3.0</td>\n",
       "      <td>0</td>\n",
       "      <td>...</td>\n",
       "      <td>0</td>\n",
       "      <td>1</td>\n",
       "      <td>0</td>\n",
       "      <td>0</td>\n",
       "      <td>0</td>\n",
       "      <td>0</td>\n",
       "      <td>1</td>\n",
       "      <td>0</td>\n",
       "      <td>1</td>\n",
       "      <td>0</td>\n",
       "    </tr>\n",
       "    <tr>\n",
       "      <th>3</th>\n",
       "      <td>1.0</td>\n",
       "      <td>0.0</td>\n",
       "      <td>0.0</td>\n",
       "      <td>2.0</td>\n",
       "      <td>4.0</td>\n",
       "      <td>2A</td>\n",
       "      <td>2</td>\n",
       "      <td>12</td>\n",
       "      <td>2.0</td>\n",
       "      <td>0</td>\n",
       "      <td>...</td>\n",
       "      <td>0</td>\n",
       "      <td>1</td>\n",
       "      <td>0</td>\n",
       "      <td>0</td>\n",
       "      <td>0</td>\n",
       "      <td>1</td>\n",
       "      <td>0</td>\n",
       "      <td>0</td>\n",
       "      <td>1</td>\n",
       "      <td>0</td>\n",
       "    </tr>\n",
       "    <tr>\n",
       "      <th>4</th>\n",
       "      <td>3.0</td>\n",
       "      <td>4.0</td>\n",
       "      <td>0.0</td>\n",
       "      <td>4.0</td>\n",
       "      <td>2.0</td>\n",
       "      <td>6B</td>\n",
       "      <td>6</td>\n",
       "      <td>43</td>\n",
       "      <td>5.0</td>\n",
       "      <td>3</td>\n",
       "      <td>...</td>\n",
       "      <td>0</td>\n",
       "      <td>1</td>\n",
       "      <td>0</td>\n",
       "      <td>0</td>\n",
       "      <td>0</td>\n",
       "      <td>0</td>\n",
       "      <td>1</td>\n",
       "      <td>0</td>\n",
       "      <td>0</td>\n",
       "      <td>1</td>\n",
       "    </tr>\n",
       "    <tr>\n",
       "      <th>5</th>\n",
       "      <td>5.0</td>\n",
       "      <td>1.0</td>\n",
       "      <td>0.0</td>\n",
       "      <td>2.0</td>\n",
       "      <td>6.0</td>\n",
       "      <td>8C</td>\n",
       "      <td>8</td>\n",
       "      <td>54</td>\n",
       "      <td>2.0</td>\n",
       "      <td>0</td>\n",
       "      <td>...</td>\n",
       "      <td>0</td>\n",
       "      <td>1</td>\n",
       "      <td>0</td>\n",
       "      <td>0</td>\n",
       "      <td>1</td>\n",
       "      <td>0</td>\n",
       "      <td>0</td>\n",
       "      <td>0</td>\n",
       "      <td>0</td>\n",
       "      <td>1</td>\n",
       "    </tr>\n",
       "  </tbody>\n",
       "</table>\n",
       "<p>5 rows × 309 columns</p>\n",
       "</div>"
      ],
      "text/plain": [
       "   ANZ_HAUSHALTE_AKTIV  ANZ_PERSONEN  ANZ_TITEL  ARBEIT  BALLRAUM  \\\n",
       "1                 11.0           2.0        0.0     3.0       6.0   \n",
       "2                 10.0           1.0        0.0     3.0       2.0   \n",
       "3                  1.0           0.0        0.0     2.0       4.0   \n",
       "4                  3.0           4.0        0.0     4.0       2.0   \n",
       "5                  5.0           1.0        0.0     2.0       6.0   \n",
       "\n",
       "  CAMEO_DEU_2015 CAMEO_DEUG_2015 CAMEO_INTL_2015  CJT_GESAMTTYP  \\\n",
       "1             8A               8              51            5.0   \n",
       "2             4C               4              24            3.0   \n",
       "3             2A               2              12            2.0   \n",
       "4             6B               6              43            5.0   \n",
       "5             8C               8              54            2.0   \n",
       "\n",
       "   D19_BANKEN_ANZ_12      ...       NATIONALITAET_KZ_0  NATIONALITAET_KZ_1  \\\n",
       "1                  0      ...                        0                   1   \n",
       "2                  0      ...                        0                   1   \n",
       "3                  0      ...                        0                   1   \n",
       "4                  3      ...                        0                   1   \n",
       "5                  0      ...                        0                   1   \n",
       "\n",
       "   NATIONALITAET_KZ_2  NATIONALITAET_KZ_3  SHOPPER_TYP_0.0  SHOPPER_TYP_1.0  \\\n",
       "1                   0                   0                0                0   \n",
       "2                   0                   0                0                0   \n",
       "3                   0                   0                0                1   \n",
       "4                   0                   0                0                0   \n",
       "5                   0                   0                1                0   \n",
       "\n",
       "   SHOPPER_TYP_2.0  SHOPPER_TYP_3.0  VERS_TYP_1.0  VERS_TYP_2.0  \n",
       "1                0                1             0             1  \n",
       "2                1                0             1             0  \n",
       "3                0                0             1             0  \n",
       "4                1                0             0             1  \n",
       "5                0                0             0             1  \n",
       "\n",
       "[5 rows x 309 columns]"
      ]
     },
     "execution_count": 16,
     "metadata": {},
     "output_type": "execute_result"
    }
   ],
   "source": [
    "azdias.head()"
   ]
  },
  {
   "cell_type": "code",
   "execution_count": 17,
   "metadata": {},
   "outputs": [
    {
     "data": {
      "text/plain": [
       "Index(['ANZ_HAUSHALTE_AKTIV', 'ANZ_PERSONEN', 'ANZ_TITEL', 'ARBEIT',\n",
       "       'BALLRAUM', 'CAMEO_DEU_2015', 'CAMEO_DEUG_2015', 'CAMEO_INTL_2015',\n",
       "       'CJT_GESAMTTYP', 'D19_BANKEN_ANZ_12',\n",
       "       ...\n",
       "       'NATIONALITAET_KZ_0', 'NATIONALITAET_KZ_1', 'NATIONALITAET_KZ_2',\n",
       "       'NATIONALITAET_KZ_3', 'SHOPPER_TYP_0.0', 'SHOPPER_TYP_1.0',\n",
       "       'SHOPPER_TYP_2.0', 'SHOPPER_TYP_3.0', 'VERS_TYP_1.0', 'VERS_TYP_2.0'],\n",
       "      dtype='object', length=309)"
      ]
     },
     "execution_count": 17,
     "metadata": {},
     "output_type": "execute_result"
    }
   ],
   "source": [
    "azdias.columns"
   ]
  },
  {
   "cell_type": "code",
   "execution_count": 24,
   "metadata": {},
   "outputs": [],
   "source": [
    "# drop columns that had more than 5 categorical values as including them was taking too long to run \n",
    "azdias.drop(cols_to_drop, axis=1, inplace=True)"
   ]
  },
  {
   "cell_type": "code",
   "execution_count": 80,
   "metadata": {},
   "outputs": [
    {
     "data": {
      "text/plain": [
       "Index(['ANZ_HAUSHALTE_AKTIV', 'ANZ_PERSONEN', 'ANZ_TITEL', 'ARBEIT',\n",
       "       'BALLRAUM', 'D19_BILDUNG', 'D19_BIO_OEKO', 'D19_BUCH_CD',\n",
       "       'D19_DIGIT_SERV', 'D19_DROGERIEARTIKEL',\n",
       "       ...\n",
       "       'NATIONALITAET_KZ_0', 'NATIONALITAET_KZ_1', 'NATIONALITAET_KZ_2',\n",
       "       'NATIONALITAET_KZ_3', 'SHOPPER_TYP_0.0', 'SHOPPER_TYP_1.0',\n",
       "       'SHOPPER_TYP_2.0', 'SHOPPER_TYP_3.0', 'VERS_TYP_1.0', 'VERS_TYP_2.0'],\n",
       "      dtype='object', length=279)"
      ]
     },
     "execution_count": 80,
     "metadata": {},
     "output_type": "execute_result"
    }
   ],
   "source": [
    "azdias.columns"
   ]
  },
  {
   "cell_type": "code",
   "execution_count": 81,
   "metadata": {},
   "outputs": [
    {
     "data": {
      "text/plain": [
       "(891221, 279)"
      ]
     },
     "execution_count": 81,
     "metadata": {},
     "output_type": "execute_result"
    }
   ],
   "source": [
    "azdias.shape"
   ]
  },
  {
   "cell_type": "markdown",
   "metadata": {},
   "source": [
    "- \"PRAEGENDE_JUGENDJAHRE\" combines information on three dimensions: generation by decade, movement (mainstream vs. avantgarde), and nation (east vs. west). Creating two new variables to capture the other two dimensions: an interval-type variable for decade, and a binary variable for movement.\n",
    "\n"
   ]
  },
  {
   "cell_type": "code",
   "execution_count": 25,
   "metadata": {},
   "outputs": [
    {
     "data": {
      "text/html": [
       "<div>\n",
       "<style scoped>\n",
       "    .dataframe tbody tr th:only-of-type {\n",
       "        vertical-align: middle;\n",
       "    }\n",
       "\n",
       "    .dataframe tbody tr th {\n",
       "        vertical-align: top;\n",
       "    }\n",
       "\n",
       "    .dataframe thead th {\n",
       "        text-align: right;\n",
       "    }\n",
       "</style>\n",
       "<table border=\"1\" class=\"dataframe\">\n",
       "  <thead>\n",
       "    <tr style=\"text-align: right;\">\n",
       "      <th></th>\n",
       "      <th>PRAEGENDE_JUGENDJAHRE</th>\n",
       "    </tr>\n",
       "  </thead>\n",
       "  <tbody>\n",
       "    <tr>\n",
       "      <th>1</th>\n",
       "      <td>14</td>\n",
       "    </tr>\n",
       "    <tr>\n",
       "      <th>2</th>\n",
       "      <td>15</td>\n",
       "    </tr>\n",
       "    <tr>\n",
       "      <th>3</th>\n",
       "      <td>8</td>\n",
       "    </tr>\n",
       "    <tr>\n",
       "      <th>4</th>\n",
       "      <td>8</td>\n",
       "    </tr>\n",
       "    <tr>\n",
       "      <th>5</th>\n",
       "      <td>3</td>\n",
       "    </tr>\n",
       "  </tbody>\n",
       "</table>\n",
       "</div>"
      ],
      "text/plain": [
       "   PRAEGENDE_JUGENDJAHRE\n",
       "1                     14\n",
       "2                     15\n",
       "3                      8\n",
       "4                      8\n",
       "5                      3"
      ]
     },
     "execution_count": 25,
     "metadata": {},
     "output_type": "execute_result"
    }
   ],
   "source": [
    "# Investigate \"PRAEGENDE_JUGENDJAHRE\" and engineer two new variables.\n",
    "\n",
    "azdias[['PRAEGENDE_JUGENDJAHRE']].head()"
   ]
  },
  {
   "cell_type": "code",
   "execution_count": 26,
   "metadata": {},
   "outputs": [],
   "source": [
    "# creating the interval variable for decade\n",
    "def Pra_decade(x):\n",
    "    if x in (1,2):\n",
    "        return 1\n",
    "    if x in (3,4):\n",
    "        return 2\n",
    "    if x in (5,6,7):\n",
    "        return 3\n",
    "    if x in (8,9):\n",
    "        return 4\n",
    "    if x in (10,11,12,13):\n",
    "        return 5\n",
    "    if x in (14,15):\n",
    "        return 6\n",
    "    \n",
    "def pra_move(x):\n",
    "    if x in (2,4,6,7,9,11,13,15):\n",
    "        return 0\n",
    "    if x in (1,3,5,8,10,12,14):\n",
    "        return 1"
   ]
  },
  {
   "cell_type": "code",
   "execution_count": 27,
   "metadata": {},
   "outputs": [],
   "source": [
    "# binary variable for movement \n",
    "\n",
    "azdias['Pra_j_dec'] = azdias['PRAEGENDE_JUGENDJAHRE'].apply(Pra_decade)\n",
    "azdias['Pra_j_mov'] = azdias['PRAEGENDE_JUGENDJAHRE'].apply(pra_move)"
   ]
  },
  {
   "cell_type": "code",
   "execution_count": 28,
   "metadata": {},
   "outputs": [],
   "source": [
    "azdias.drop(['PRAEGENDE_JUGENDJAHRE'], axis=1, inplace=True)"
   ]
  },
  {
   "cell_type": "code",
   "execution_count": 29,
   "metadata": {},
   "outputs": [
    {
     "data": {
      "text/plain": [
       "(737288, 280)"
      ]
     },
     "execution_count": 29,
     "metadata": {},
     "output_type": "execute_result"
    }
   ],
   "source": [
    "# number or rows and columns in the final dataset\n",
    "azdias.shape"
   ]
  },
  {
   "cell_type": "markdown",
   "metadata": {},
   "source": [
    "<a id='clean'></a>\n",
    "#### 1:3. Creating a Cleaning Function"
   ]
  },
  {
   "cell_type": "code",
   "execution_count": 13,
   "metadata": {},
   "outputs": [],
   "source": [
    "def clean_data(df):\n",
    "    \"\"\"\n",
    "    Perform feature trimming, re-encoding, and engineering for demographics\n",
    "    data\n",
    "    \n",
    "    INPUT: Demographics DataFrame\n",
    "    OUTPUT: Trimmed and cleaned demographics DataFrame\n",
    "    \"\"\"\n",
    "    \n",
    "    # Put in code here to execute all main cleaning steps:\n",
    "    # convert missing value codes into NaNs, ...\n",
    "    def convert_missing_to_nan(df):\n",
    "        for i,V in enumerate(df.iteritems()):\n",
    "            missing_unknown = feat_info['missing_or_unknown'][i]\n",
    "            column_name = V[0]\n",
    "            missing_unknown = missing_unknown[1:-1].split(',')\n",
    "            if missing_unknown != ['']:\n",
    "                hold = []\n",
    "                for x in missing_unknown:\n",
    "                    if x in ['X','XX']:\n",
    "                        hold.append(x)\n",
    "                    else:\n",
    "                        hold.append(int(x))\n",
    "                df[column_name] = df[column_name].replace(hold,np.nan)\n",
    "            \n",
    "        return df\n",
    "    df = convert_missing_to_nan(df)\n",
    "    \n",
    "    # remove columns with >200000 missing values \n",
    "    outliers_list= ['AGER_TYP', 'ALTER_HH', 'ANZ_HH_TITEL', 'D19_BANKEN_DIREKT', 'D19_BANKEN_GROSS', 'D19_BANKEN_LOKAL', \n",
    "                    'D19_BANKEN_ONLINE_QUOTE_12', 'D19_BANKEN_REST', 'D19_BEKLEIDUNG_GEH', 'D19_BEKLEIDUNG_REST', \n",
    "                    'D19_GESAMT_ONLINE_QUOTE_12', 'D19_KINDERARTIKEL', 'D19_KONSUMTYP', 'D19_LEBENSMITTEL', 'D19_LOTTO', \n",
    "                    'D19_RATGEBER', 'D19_REISEN', 'D19_VERSAND_ONLINE_QUOTE_12', 'GREEN_AVANTGARDE', 'KK_KUNDENTYP']\n",
    "    for col in outliers_list:\n",
    "        df.drop(col, axis=1, inplace=True)\n",
    "\n",
    "    \n",
    "    \n",
    "    sum_nans = df.isnull().sum(axis=1)\n",
    "        \n",
    "    #rows with more than 30 missing values\n",
    "    above_cut_off = sum_nans[sum_nans > 30]\n",
    "    \n",
    "    #select only rows with less than 30 missing values \n",
    "    df = df[~df.index.isin(above_cut_off.index)]\n",
    "    \n",
    "    # binary and multi-level categorical columns\n",
    "\n",
    "    # recoding binary variables\n",
    "    df['ANREDE_KZ'].replace([2,1], [1,0], inplace=True)\n",
    "    df['OST_WEST_KZ'].replace(['W', 'O'], [1,0], inplace=True)\n",
    "    \n",
    "    # multi_level categorical columns\n",
    "\n",
    "    cols_to_drop = ['D19_VERSAND_OFFLINE_DATUM','D19_VERSAND_ONLINE_DATUM', 'D19_VERSAND_DATUM',\n",
    "                'D19_VERSI_OFFLINE_DATUM','D19_VERSI_ONLINE_DATUM', 'D19_VERSI_DATUM','GEBAEUDETYP',\n",
    "                'CAMEO_DEUG_2015','D19_TELKO_DATUM','D19_TELKO_ONLINE_DATUM', 'D19_TELKO_OFFLINE_DATUM',\n",
    "                'D19_BANKEN_DATUM','D19_BANKEN_ONLINE_DATUM','D19_BANKEN_OFFLINE_DATUM','D19_GESAMT_DATUM',\n",
    "                'D19_GESAMT_ONLINE_DATUM','D19_GESAMT_OFFLINE_DATUM','D19_BANKEN_ANZ_24','D19_BANKEN_ANZ_12',\n",
    "                'D19_GESAMT_ANZ_24','D19_GESAMT_ANZ_12','ZABEOTYP','TITEL_KZ','LP_STATUS_FEIN','FINANZTYP',\n",
    "                'CJT_GESAMTTYP','LP_FAMILIE_FEIN','CAMEO_DEU_2015', 'GFK_URLAUBERTYP', 'CAMEO_INTL_2015','CAMEO_DEU_2015'] #more than 5 levels\n",
    "    cols_to_dummy = ['LP_FAMILIE_GROB','LP_STATUS_GROB','NATIONALITAET_KZ','SHOPPER_TYP','VERS_TYP']\n",
    "\n",
    "    df = pd.get_dummies(df, columns=cols_to_dummy) #one hot encoding\n",
    "                    \n",
    "    df.drop(cols_to_drop, axis=1, inplace=True) #drop all columns with more than 5 categorical values\n",
    "    \n",
    "    # select, re-encode, and engineer column values.\n",
    "      # binary variable for movement \n",
    "    # creating the interval variable for decade\n",
    " \n",
    "    def Pra_decade(x):\n",
    "        if x in (1,2):\n",
    "            return 1\n",
    "        if x in (3,4):\n",
    "            return 2\n",
    "        if x in (5,6,7):\n",
    "            return 3\n",
    "        if x in (8,9):\n",
    "            return 4\n",
    "        if x in (10,11,12,13):\n",
    "            return 5\n",
    "        if x in (14,15):\n",
    "            return 6\n",
    "    \n",
    "    def pra_move(x):\n",
    "        if x in (2,4,6,7,9,11,13,15):\n",
    "            return 0\n",
    "        if x in (1,3,5,8,10,12,14):\n",
    "            return 1\n",
    "\n",
    "    df['Pra_j_dec'] = df['PRAEGENDE_JUGENDJAHRE'].apply(Pra_decade)\n",
    "    df['Pra_j_mov'] = df['PRAEGENDE_JUGENDJAHRE'].apply(pra_move)\n",
    "\n",
    "    df.drop(['PRAEGENDE_JUGENDJAHRE'], axis=1, inplace=True)\n",
    "\n",
    "    \n",
    "    # Return the cleaned dataframe.\n",
    "    \n",
    "    return df"
   ]
  },
  {
   "cell_type": "markdown",
   "metadata": {},
   "source": [
    "<a id='feature'></a>\n",
    "### 2. Feature Transformation"
   ]
  },
  {
   "cell_type": "code",
   "execution_count": null,
   "metadata": {},
   "outputs": [],
   "source": []
  },
  {
   "cell_type": "code",
   "execution_count": 32,
   "metadata": {},
   "outputs": [],
   "source": [
    "# I used the imputer to fill in missing values and applied the standard scaler in order to transform the data such that the ditribution has a mean of 0 and standard deviation of 1.  \n",
    "\n",
    "imp = Imputer()\n",
    "imputed_features=imp.fit_transform(azdias)\n",
    "\n",
    "azdias_new_df = pd.DataFrame(imputed_features, columns = azdias.columns)\n",
    "\n",
    "scaler = StandardScaler()\n",
    "azdias_scaled_arr = scaler.fit_transform(azdias_new_df)\n",
    "\n",
    "azdias_scaled = pd.DataFrame(azdias_scaled_arr, columns = azdias.columns, index = azdias.index)"
   ]
  },
  {
   "cell_type": "code",
   "execution_count": 33,
   "metadata": {},
   "outputs": [
    {
     "data": {
      "text/html": [
       "<div>\n",
       "<style scoped>\n",
       "    .dataframe tbody tr th:only-of-type {\n",
       "        vertical-align: middle;\n",
       "    }\n",
       "\n",
       "    .dataframe tbody tr th {\n",
       "        vertical-align: top;\n",
       "    }\n",
       "\n",
       "    .dataframe thead th {\n",
       "        text-align: right;\n",
       "    }\n",
       "</style>\n",
       "<table border=\"1\" class=\"dataframe\">\n",
       "  <thead>\n",
       "    <tr style=\"text-align: right;\">\n",
       "      <th></th>\n",
       "      <th>ANZ_HAUSHALTE_AKTIV</th>\n",
       "      <th>ANZ_PERSONEN</th>\n",
       "      <th>ANZ_TITEL</th>\n",
       "      <th>ARBEIT</th>\n",
       "      <th>BALLRAUM</th>\n",
       "      <th>D19_BILDUNG</th>\n",
       "      <th>D19_BIO_OEKO</th>\n",
       "      <th>D19_BUCH_CD</th>\n",
       "      <th>D19_DIGIT_SERV</th>\n",
       "      <th>D19_DROGERIEARTIKEL</th>\n",
       "      <th>...</th>\n",
       "      <th>NATIONALITAET_KZ_2</th>\n",
       "      <th>NATIONALITAET_KZ_3</th>\n",
       "      <th>SHOPPER_TYP_0.0</th>\n",
       "      <th>SHOPPER_TYP_1.0</th>\n",
       "      <th>SHOPPER_TYP_2.0</th>\n",
       "      <th>SHOPPER_TYP_3.0</th>\n",
       "      <th>VERS_TYP_1.0</th>\n",
       "      <th>VERS_TYP_2.0</th>\n",
       "      <th>Pra_j_dec</th>\n",
       "      <th>Pra_j_mov</th>\n",
       "    </tr>\n",
       "  </thead>\n",
       "  <tbody>\n",
       "    <tr>\n",
       "      <th>1</th>\n",
       "      <td>0.182840</td>\n",
       "      <td>0.224688</td>\n",
       "      <td>-0.06066</td>\n",
       "      <td>-0.179038</td>\n",
       "      <td>0.850352</td>\n",
       "      <td>-0.311651</td>\n",
       "      <td>-0.216695</td>\n",
       "      <td>-0.664781</td>\n",
       "      <td>-0.197125</td>\n",
       "      <td>-0.399911</td>\n",
       "      <td>...</td>\n",
       "      <td>-0.295836</td>\n",
       "      <td>-0.205764</td>\n",
       "      <td>-0.448850</td>\n",
       "      <td>-0.658336</td>\n",
       "      <td>-0.601069</td>\n",
       "      <td>1.891938</td>\n",
       "      <td>-0.907560</td>\n",
       "      <td>0.995693</td>\n",
       "      <td>1.173303</td>\n",
       "      <td>0.554885</td>\n",
       "    </tr>\n",
       "    <tr>\n",
       "      <th>2</th>\n",
       "      <td>0.116586</td>\n",
       "      <td>-0.634469</td>\n",
       "      <td>-0.06066</td>\n",
       "      <td>-0.179038</td>\n",
       "      <td>-0.980167</td>\n",
       "      <td>3.192098</td>\n",
       "      <td>-0.216695</td>\n",
       "      <td>-0.664781</td>\n",
       "      <td>-0.197125</td>\n",
       "      <td>-0.399911</td>\n",
       "      <td>...</td>\n",
       "      <td>-0.295836</td>\n",
       "      <td>-0.205764</td>\n",
       "      <td>-0.448850</td>\n",
       "      <td>-0.658336</td>\n",
       "      <td>1.663701</td>\n",
       "      <td>-0.528559</td>\n",
       "      <td>1.101855</td>\n",
       "      <td>-1.004325</td>\n",
       "      <td>1.173303</td>\n",
       "      <td>-1.855496</td>\n",
       "    </tr>\n",
       "    <tr>\n",
       "      <th>3</th>\n",
       "      <td>-0.479700</td>\n",
       "      <td>-1.493626</td>\n",
       "      <td>-0.06066</td>\n",
       "      <td>-1.186817</td>\n",
       "      <td>-0.064907</td>\n",
       "      <td>-0.311651</td>\n",
       "      <td>-0.216695</td>\n",
       "      <td>1.621929</td>\n",
       "      <td>-0.197125</td>\n",
       "      <td>-0.399911</td>\n",
       "      <td>...</td>\n",
       "      <td>-0.295836</td>\n",
       "      <td>-0.205764</td>\n",
       "      <td>-0.448850</td>\n",
       "      <td>1.518982</td>\n",
       "      <td>-0.601069</td>\n",
       "      <td>-0.528559</td>\n",
       "      <td>1.101855</td>\n",
       "      <td>-1.004325</td>\n",
       "      <td>-0.216042</td>\n",
       "      <td>0.554885</td>\n",
       "    </tr>\n",
       "    <tr>\n",
       "      <th>4</th>\n",
       "      <td>-0.347192</td>\n",
       "      <td>1.943002</td>\n",
       "      <td>-0.06066</td>\n",
       "      <td>0.828741</td>\n",
       "      <td>-0.980167</td>\n",
       "      <td>3.192098</td>\n",
       "      <td>-0.216695</td>\n",
       "      <td>1.621929</td>\n",
       "      <td>-0.197125</td>\n",
       "      <td>0.152589</td>\n",
       "      <td>...</td>\n",
       "      <td>-0.295836</td>\n",
       "      <td>-0.205764</td>\n",
       "      <td>-0.448850</td>\n",
       "      <td>-0.658336</td>\n",
       "      <td>1.663701</td>\n",
       "      <td>-0.528559</td>\n",
       "      <td>-0.907560</td>\n",
       "      <td>0.995693</td>\n",
       "      <td>-0.216042</td>\n",
       "      <td>0.554885</td>\n",
       "    </tr>\n",
       "    <tr>\n",
       "      <th>5</th>\n",
       "      <td>-0.214684</td>\n",
       "      <td>-0.634469</td>\n",
       "      <td>-0.06066</td>\n",
       "      <td>-1.186817</td>\n",
       "      <td>0.850352</td>\n",
       "      <td>-0.311651</td>\n",
       "      <td>-0.216695</td>\n",
       "      <td>-0.664781</td>\n",
       "      <td>-0.197125</td>\n",
       "      <td>-0.399911</td>\n",
       "      <td>...</td>\n",
       "      <td>-0.295836</td>\n",
       "      <td>-0.205764</td>\n",
       "      <td>2.227918</td>\n",
       "      <td>-0.658336</td>\n",
       "      <td>-0.601069</td>\n",
       "      <td>-0.528559</td>\n",
       "      <td>-0.907560</td>\n",
       "      <td>0.995693</td>\n",
       "      <td>-1.605387</td>\n",
       "      <td>0.554885</td>\n",
       "    </tr>\n",
       "  </tbody>\n",
       "</table>\n",
       "<p>5 rows × 280 columns</p>\n",
       "</div>"
      ],
      "text/plain": [
       "   ANZ_HAUSHALTE_AKTIV  ANZ_PERSONEN  ANZ_TITEL    ARBEIT  BALLRAUM  \\\n",
       "1             0.182840      0.224688   -0.06066 -0.179038  0.850352   \n",
       "2             0.116586     -0.634469   -0.06066 -0.179038 -0.980167   \n",
       "3            -0.479700     -1.493626   -0.06066 -1.186817 -0.064907   \n",
       "4            -0.347192      1.943002   -0.06066  0.828741 -0.980167   \n",
       "5            -0.214684     -0.634469   -0.06066 -1.186817  0.850352   \n",
       "\n",
       "   D19_BILDUNG  D19_BIO_OEKO  D19_BUCH_CD  D19_DIGIT_SERV  \\\n",
       "1    -0.311651     -0.216695    -0.664781       -0.197125   \n",
       "2     3.192098     -0.216695    -0.664781       -0.197125   \n",
       "3    -0.311651     -0.216695     1.621929       -0.197125   \n",
       "4     3.192098     -0.216695     1.621929       -0.197125   \n",
       "5    -0.311651     -0.216695    -0.664781       -0.197125   \n",
       "\n",
       "   D19_DROGERIEARTIKEL    ...      NATIONALITAET_KZ_2  NATIONALITAET_KZ_3  \\\n",
       "1            -0.399911    ...               -0.295836           -0.205764   \n",
       "2            -0.399911    ...               -0.295836           -0.205764   \n",
       "3            -0.399911    ...               -0.295836           -0.205764   \n",
       "4             0.152589    ...               -0.295836           -0.205764   \n",
       "5            -0.399911    ...               -0.295836           -0.205764   \n",
       "\n",
       "   SHOPPER_TYP_0.0  SHOPPER_TYP_1.0  SHOPPER_TYP_2.0  SHOPPER_TYP_3.0  \\\n",
       "1        -0.448850        -0.658336        -0.601069         1.891938   \n",
       "2        -0.448850        -0.658336         1.663701        -0.528559   \n",
       "3        -0.448850         1.518982        -0.601069        -0.528559   \n",
       "4        -0.448850        -0.658336         1.663701        -0.528559   \n",
       "5         2.227918        -0.658336        -0.601069        -0.528559   \n",
       "\n",
       "   VERS_TYP_1.0  VERS_TYP_2.0  Pra_j_dec  Pra_j_mov  \n",
       "1     -0.907560      0.995693   1.173303   0.554885  \n",
       "2      1.101855     -1.004325   1.173303  -1.855496  \n",
       "3      1.101855     -1.004325  -0.216042   0.554885  \n",
       "4     -0.907560      0.995693  -0.216042   0.554885  \n",
       "5     -0.907560      0.995693  -1.605387   0.554885  \n",
       "\n",
       "[5 rows x 280 columns]"
      ]
     },
     "execution_count": 33,
     "metadata": {},
     "output_type": "execute_result"
    }
   ],
   "source": [
    "azdias_scaled.head()"
   ]
  },
  {
   "cell_type": "code",
   "execution_count": null,
   "metadata": {},
   "outputs": [],
   "source": [
    "pickle.dump(azdias_scaled, open(\"azdias_scaled.pickle\", \"wb\"))"
   ]
  },
  {
   "cell_type": "markdown",
   "metadata": {},
   "source": [
    "<a id='reduction'></a>\n",
    "#### 2:1. Dimesionality Reduction"
   ]
  },
  {
   "cell_type": "code",
   "execution_count": 61,
   "metadata": {},
   "outputs": [],
   "source": [
    "# Apply PCA to the data.\n",
    "pca = PCA(100)\n",
    "\n",
    "azdias_pca = pca.fit_transform(azdias_scaled)"
   ]
  },
  {
   "cell_type": "code",
   "execution_count": 64,
   "metadata": {},
   "outputs": [
    {
     "data": {
      "image/png": "[encoded data removed]",
      "text/plain": [
       "<matplotlib.figure.Figure at 0x7f81142a9ef0>"
      ]
     },
     "metadata": {
      "needs_background": "light"
     },
     "output_type": "display_data"
    }
   ],
   "source": [
    "# Investigate the variance accounted for by each principal component.\n",
    "def scree_plot(pca):\n",
    "    '''\n",
    "    Creates a scree plot associated with the principal components \n",
    "    \n",
    "    INPUT: pca - the result of instantian of PCA in scikit learn\n",
    "            \n",
    "    OUTPUT:\n",
    "            None\n",
    "    '''\n",
    "    num_components = len(pca.explained_variance_ratio_)\n",
    "    ind = np.arange(num_components)\n",
    "    vals = pca.explained_variance_ratio_\n",
    " \n",
    "    plt.figure(figsize=(10, 6))\n",
    "    ax = plt.subplot(111)\n",
    "    cumvals = np.cumsum(vals)\n",
    "    ax.bar(ind, vals)\n",
    "    ax.plot(ind, cumvals)\n",
    "    for i in range(num_components):\n",
    "        ax.annotate(r\"%s%%\" % ((str(vals[i]*100)[:4])), (ind[i]+0.2, vals[i]), va=\"bottom\", ha=\"center\", fontsize=12)\n",
    "    ax.xaxis.set_tick_params(width=0)\n",
    "    ax.yaxis.set_tick_params(width=2, length=12)\n",
    " \n",
    "    ax.set_xlabel(\"Principal Component\")\n",
    "    ax.set_ylabel(\"Variance Explained (%)\")\n",
    "    plt.title('Explained Variance Per Principal Component')\n",
    "    \n",
    "\n",
    "scree_plot(pca)\n"
   ]
  },
  {
   "cell_type": "code",
   "execution_count": 62,
   "metadata": {},
   "outputs": [],
   "source": [
    "# Re-apply PCA to the data while selecting for number of components to retain.\n",
    "\n",
    "pca_10 = PCA(n_components  = 10)\n",
    "azdias_pca_10 = pca_10.fit_transform(azdias_scaled)\n",
    "\n",
    "\n"
   ]
  },
  {
   "cell_type": "code",
   "execution_count": 65,
   "metadata": {},
   "outputs": [
    {
     "data": {
      "image/png": "[encoded data removed]",
      "text/plain": [
       "<matplotlib.figure.Figure at 0x7f81151c1208>"
      ]
     },
     "metadata": {
      "needs_background": "light"
     },
     "output_type": "display_data"
    }
   ],
   "source": [
    "scree_plot(pca_10)"
   ]
  },
  {
   "cell_type": "markdown",
   "metadata": {},
   "source": [
    "#### Discussion 2.1. Perform Dimensionality Reduction\n",
    "\n",
    "**I selected only 10 transformed features to retain mostly because of the size of the dataset and the amount of time my machine was taking to run for components larger than 10 while processing at the clustering step. At least 35% of the variance is explained by each component.**"
   ]
  },
  {
   "cell_type": "markdown",
   "metadata": {},
   "source": [
    "<a id='principal'></a>\n",
    "#### 2.2. Principal Components Interpretation"
   ]
  },
  {
   "cell_type": "code",
   "execution_count": 66,
   "metadata": {},
   "outputs": [],
   "source": [
    "# Map weights for the first principal component to corresponding feature names\n",
    "# and then print the linked values, sorted by weight.\n",
    "# HINT: Try defining a function here or in a new cell that you can reuse in the\n",
    "# other cells.\n",
    "\n",
    "def plot_features(data, pca, pc_num):\n",
    "  \n",
    "    p_comp = pd.DataFrame(np.round(pca.components_, 4), columns = data.keys()).iloc[pc_num]\n",
    "    p_comp.sort_values(ascending=False, inplace=True)\n",
    "    p_comp = pd.concat([p_comp.head(5), p_comp.tail(5)])\n",
    "    \n",
    "    p_comp.plot(kind='bar', title='Principal Component ' + str(pc_num))\n",
    "    ax = plt.gca()\n",
    "    ax.grid(linewidth='0.5', alpha=0.5)\n",
    "    ax.set_axisbelow(True)\n",
    "    plt.show()\n"
   ]
  },
  {
   "cell_type": "code",
   "execution_count": 67,
   "metadata": {
    "scrolled": true
   },
   "outputs": [
    {
     "data": {
      "image/png": "[encoded data removed]",
      "text/plain": [
       "<matplotlib.figure.Figure at 0x7f81151beb00>"
      ]
     },
     "metadata": {
      "needs_background": "light"
     },
     "output_type": "display_data"
    }
   ],
   "source": [
    "# Map weights for the first principal component to corresponding feature names\n",
    "# and then print the linked values, sorted by weight\n",
    "plot_features(azdias_scaled, pca_10, pc_num=1)"
   ]
  },
  {
   "cell_type": "code",
   "execution_count": 68,
   "metadata": {
    "scrolled": true
   },
   "outputs": [
    {
     "data": {
      "image/png": "[encoded data removed]",
      "text/plain": [
       "<matplotlib.figure.Figure at 0x7f8114c55780>"
      ]
     },
     "metadata": {
      "needs_background": "light"
     },
     "output_type": "display_data"
    }
   ],
   "source": [
    "# Map weights for the second principal component to corresponding feature names\n",
    "# and then print the linked values, sorted by weight.\n",
    "plot_features(azdias_scaled, pca_10, pc_num=2)"
   ]
  },
  {
   "cell_type": "code",
   "execution_count": 69,
   "metadata": {
    "scrolled": false
   },
   "outputs": [
    {
     "data": {
      "image/png": "[encoded data removed]",
      "text/plain": [
       "<matplotlib.figure.Figure at 0x7f8114c9a3c8>"
      ]
     },
     "metadata": {
      "needs_background": "light"
     },
     "output_type": "display_data"
    }
   ],
   "source": [
    "# Map weights for the third principal component to corresponding feature names\n",
    "# and then print the linked values, sorted by weight.\n",
    "\n",
    "plot_features(azdias_scaled, pca_10, pc_num=3)"
   ]
  },
  {
   "cell_type": "markdown",
   "metadata": {},
   "source": [
    "#### Discussion 2.3: Interpret Principal Components\n",
    "\n",
    "Interpreting principal components is based on finding out which variables are correlated with each component. For those variables that are positively correlated to a principal component, it means that they vary together in such as if one increases the other variables increase as well. \n",
    "**The first pricipal component is postively correlated to:**\n",
    "1. KBA13_HERST_BMW_BENZ - share of BMW & Mercedes Benz within the PLZ8\n",
    "2. KBA13_BMW - share of BMW within the PLZ8\n",
    "3. KBA13_MERCEDES - share of MERCEDES within the PLZ8\n",
    "4. KBA13_SEG_OBEREMITTELKLASSE - share of upper middle class cars and upper class cars (BMW5er, BMW7er etc.)\n",
    "5. EWDICHTE - density of inhabitants per square kilometer\n",
    "\n",
    "Upper middle class cars are mostly comprised of BMW and Mercedes and car owners belo 21 tend to have cars with less than 5 seats\n",
    "**and negatively correlated to:**\n",
    "1. KBA13_SEG_KLEINWAGEN - share of small and very small cars (Ford Fiesta, Ford Ka etc.) in the PLZ8\n",
    "2. KBA13_KMH_140_210 - share of cars with max speed between 140 and 210 km/h within the PLZ8\n",
    "3. KBA13_HALTER_20 - share of car owners below 21 within the PLZ8\n",
    "4. KBA13_ALTERHALTER_60 - share of car owners between 46 and 60 within the PLZ8\n",
    "5. KBA13_SITZE_5 - number of cars with 5 seats in the PLZ8\n",
    "\n",
    "\n",
    "\n",
    "**The second  pricipal component is postively correlated to:**\n",
    "1. ALTERSKATEGORIE_GROB - Estimated age based on given name analysis\n",
    "2. FINANZ_VORSORGER: be prepared\n",
    "3. SEMIO_REL - religious\n",
    "4. SEMIO_LUST - sensual - minded\n",
    "5. RETOURTYP_BK_S - Return type\n",
    "\n",
    "**and negatively correlated to:**\n",
    "1. FINANZ_SPARER money-saver\n",
    "2. FINANZ_UNAUFFAELLIGER inconspicuous\n",
    "3. SEMIO_ERL - event-oriented\n",
    "4. SEMIO_PFLICHT - dutiful\n",
    "5. Pra_j_dec - movement by decade\n",
    "\n",
    "The second component is linked mostly to personality types; individuals that are religious, tend to be socially and cultural minded while those that are event oriented are also dutiful and money savers.\n",
    "**The third pricipal component is postively correlated to:**\n",
    "1. ONLINE_AFFINITAET - online affinity\n",
    "2. D_19_VERSAND_ANZ_12 - transaction activity in the last 12 months\n",
    "3. D_19_VERSAND_ANZ_24 - transaction activity in the last 24 months\n",
    "4. LP_LEBENSPHASE_GROB - rough lifestage\n",
    "6. ANZ_PERSONEN - Number of adults in household\n",
    "\n",
    "**and negatively correlated to:**\n",
    "1. OST_WEST_KZ - Building location via former East / West Germany (GDR / FRG)\n",
    "2. KBA13_BJ_2000 - share of cars build between 2000 and 2003 within the PLZ8\n",
    "3. KBA13_KMH_140 -share of cars with max speed between 110 km/h and 140km/h within the PLZ8\n",
    "4. LP_FAMILIE_GROB - single family type\n",
    "5. KBA13_SITZE_6 - number of cars with more than 5 seats in the PLZ8\n",
    "\n",
    "\n",
    "The third principal component contains a mixed array of variables consisting of lifestage, online affinity and transaction activity, family type and number of households in a household. Increase in the number of adults in the household also increases online affinity. Based on those variables that are negatively correlated to the component, single family members tend to have cars with less than 5 seats, have cars with a higher speeds and have less cars build between 2000 and 2003. "
   ]
  },
  {
   "cell_type": "markdown",
   "metadata": {},
   "source": [
    "<a id='clustering'></a>\n",
    "### 3. Clustering"
   ]
  },
  {
   "cell_type": "markdown",
   "metadata": {},
   "source": [
    "<a id='kmeans'></a>\n",
    "#### 3:1. Applying Clustering to General Pupulation Data using k-means"
   ]
  },
  {
   "cell_type": "code",
   "execution_count": 70,
   "metadata": {},
   "outputs": [
    {
     "data": {
      "text/plain": [
       "Text(0.5,1,'SSE vs K')"
      ]
     },
     "execution_count": 70,
     "metadata": {},
     "output_type": "execute_result"
    },
    {
     "data": {
      "image/png": "[encoded data removed]",
      "text/plain": [
       "<matplotlib.figure.Figure at 0x7f811266dbe0>"
      ]
     },
     "metadata": {
      "needs_background": "light"
     },
     "output_type": "display_data"
    }
   ],
   "source": [
    "# Over a number of different cluster counts...\n",
    "\n",
    "\n",
    "    # run k-means clustering on the data and...\n",
    "    \n",
    "start_time = time.time()    \n",
    "    # compute the average within-cluster distances.\n",
    "def fit_kmeans(data, centers):\n",
    "    '''\n",
    "    returns the kmeans score regarding SSE for points to centers\n",
    "    INPUT:\n",
    "        data - the dataset you want to fit kmeans to\n",
    "        center - the number of centers you want (the k value)\n",
    "    OUTPUT:\n",
    "        score - the SSE score for the kmeans model fit to the data\n",
    "    \n",
    "    '''\n",
    "    kmeans = KMeans(n_clusters = center)\n",
    "    model = kmeans.fit(data)\n",
    "    # SSE score for kmeans model \n",
    "    score = np.abs(model.score(data))\n",
    "    return score\n",
    "\n",
    "scores = []\n",
    "centers = list(range(1,20))\n",
    "for center in centers:\n",
    "    scores.append(fit_kmeans(azdias_pca_10, center))\n",
    "    \n",
    "# Investigate the change in within-cluster distance across number of clusters.\n",
    "# HINT: Use matplotlib's plot function to visualize this relationship.\n",
    "# Plot the original data with clusters\n",
    "plt.plot(centers, scores, linestyle='--', marker='o', color='b')\n",
    "plt.ylabel('SSE score')\n",
    "plt.xlabel('K')\n",
    "plt.title('SSE vs K')\n"
   ]
  },
  {
   "cell_type": "code",
   "execution_count": 71,
   "metadata": {},
   "outputs": [],
   "source": [
    "# Re-fit the k-means model with the selected number of clusters and obtain\n",
    "# cluster predictions for the general population demographics data.\n",
    "\n",
    "kmeans = KMeans(n_clusters = 8)\n",
    "new_model = kmeans.fit(azdias_pca_10)\n",
    "clust_preds = new_model.predict(azdias_pca_10)"
   ]
  },
  {
   "cell_type": "markdown",
   "metadata": {},
   "source": [
    "<a id='customer'></a>\n",
    "#### 3:2. Applying all Steps to Customer Data"
   ]
  },
  {
   "cell_type": "code",
   "execution_count": 73,
   "metadata": {},
   "outputs": [
    {
     "data": {
      "text/html": [
       "<div>\n",
       "<style scoped>\n",
       "    .dataframe tbody tr th:only-of-type {\n",
       "        vertical-align: middle;\n",
       "    }\n",
       "\n",
       "    .dataframe tbody tr th {\n",
       "        vertical-align: top;\n",
       "    }\n",
       "\n",
       "    .dataframe thead th {\n",
       "        text-align: right;\n",
       "    }\n",
       "</style>\n",
       "<table border=\"1\" class=\"dataframe\">\n",
       "  <thead>\n",
       "    <tr style=\"text-align: right;\">\n",
       "      <th></th>\n",
       "      <th>LNR</th>\n",
       "      <th>AGER_TYP</th>\n",
       "      <th>AKT_DAT_KL</th>\n",
       "      <th>ALTER_HH</th>\n",
       "      <th>ALTER_KIND1</th>\n",
       "      <th>ALTER_KIND2</th>\n",
       "      <th>ALTER_KIND3</th>\n",
       "      <th>ALTER_KIND4</th>\n",
       "      <th>ALTERSKATEGORIE_FEIN</th>\n",
       "      <th>ANZ_HAUSHALTE_AKTIV</th>\n",
       "      <th>...</th>\n",
       "      <th>VK_ZG11</th>\n",
       "      <th>W_KEIT_KIND_HH</th>\n",
       "      <th>WOHNDAUER_2008</th>\n",
       "      <th>WOHNLAGE</th>\n",
       "      <th>ZABEOTYP</th>\n",
       "      <th>PRODUCT_GROUP</th>\n",
       "      <th>CUSTOMER_GROUP</th>\n",
       "      <th>ONLINE_PURCHASE</th>\n",
       "      <th>ANREDE_KZ</th>\n",
       "      <th>ALTERSKATEGORIE_GROB</th>\n",
       "    </tr>\n",
       "  </thead>\n",
       "  <tbody>\n",
       "    <tr>\n",
       "      <th>0</th>\n",
       "      <td>9626</td>\n",
       "      <td>2</td>\n",
       "      <td>1.0</td>\n",
       "      <td>10.0</td>\n",
       "      <td>NaN</td>\n",
       "      <td>NaN</td>\n",
       "      <td>NaN</td>\n",
       "      <td>NaN</td>\n",
       "      <td>10.0</td>\n",
       "      <td>1.0</td>\n",
       "      <td>...</td>\n",
       "      <td>2.0</td>\n",
       "      <td>6.0</td>\n",
       "      <td>9.0</td>\n",
       "      <td>7.0</td>\n",
       "      <td>3</td>\n",
       "      <td>COSMETIC_AND_FOOD</td>\n",
       "      <td>MULTI_BUYER</td>\n",
       "      <td>0</td>\n",
       "      <td>1</td>\n",
       "      <td>4</td>\n",
       "    </tr>\n",
       "    <tr>\n",
       "      <th>1</th>\n",
       "      <td>9628</td>\n",
       "      <td>-1</td>\n",
       "      <td>9.0</td>\n",
       "      <td>11.0</td>\n",
       "      <td>NaN</td>\n",
       "      <td>NaN</td>\n",
       "      <td>NaN</td>\n",
       "      <td>NaN</td>\n",
       "      <td>NaN</td>\n",
       "      <td>NaN</td>\n",
       "      <td>...</td>\n",
       "      <td>3.0</td>\n",
       "      <td>0.0</td>\n",
       "      <td>9.0</td>\n",
       "      <td>NaN</td>\n",
       "      <td>3</td>\n",
       "      <td>FOOD</td>\n",
       "      <td>SINGLE_BUYER</td>\n",
       "      <td>0</td>\n",
       "      <td>1</td>\n",
       "      <td>4</td>\n",
       "    </tr>\n",
       "    <tr>\n",
       "      <th>2</th>\n",
       "      <td>143872</td>\n",
       "      <td>-1</td>\n",
       "      <td>1.0</td>\n",
       "      <td>6.0</td>\n",
       "      <td>NaN</td>\n",
       "      <td>NaN</td>\n",
       "      <td>NaN</td>\n",
       "      <td>NaN</td>\n",
       "      <td>0.0</td>\n",
       "      <td>1.0</td>\n",
       "      <td>...</td>\n",
       "      <td>11.0</td>\n",
       "      <td>6.0</td>\n",
       "      <td>9.0</td>\n",
       "      <td>2.0</td>\n",
       "      <td>3</td>\n",
       "      <td>COSMETIC_AND_FOOD</td>\n",
       "      <td>MULTI_BUYER</td>\n",
       "      <td>0</td>\n",
       "      <td>2</td>\n",
       "      <td>4</td>\n",
       "    </tr>\n",
       "    <tr>\n",
       "      <th>3</th>\n",
       "      <td>143873</td>\n",
       "      <td>1</td>\n",
       "      <td>1.0</td>\n",
       "      <td>8.0</td>\n",
       "      <td>NaN</td>\n",
       "      <td>NaN</td>\n",
       "      <td>NaN</td>\n",
       "      <td>NaN</td>\n",
       "      <td>8.0</td>\n",
       "      <td>0.0</td>\n",
       "      <td>...</td>\n",
       "      <td>2.0</td>\n",
       "      <td>NaN</td>\n",
       "      <td>9.0</td>\n",
       "      <td>7.0</td>\n",
       "      <td>1</td>\n",
       "      <td>COSMETIC</td>\n",
       "      <td>MULTI_BUYER</td>\n",
       "      <td>0</td>\n",
       "      <td>1</td>\n",
       "      <td>4</td>\n",
       "    </tr>\n",
       "    <tr>\n",
       "      <th>4</th>\n",
       "      <td>143874</td>\n",
       "      <td>-1</td>\n",
       "      <td>1.0</td>\n",
       "      <td>20.0</td>\n",
       "      <td>NaN</td>\n",
       "      <td>NaN</td>\n",
       "      <td>NaN</td>\n",
       "      <td>NaN</td>\n",
       "      <td>14.0</td>\n",
       "      <td>7.0</td>\n",
       "      <td>...</td>\n",
       "      <td>4.0</td>\n",
       "      <td>2.0</td>\n",
       "      <td>9.0</td>\n",
       "      <td>3.0</td>\n",
       "      <td>1</td>\n",
       "      <td>FOOD</td>\n",
       "      <td>MULTI_BUYER</td>\n",
       "      <td>0</td>\n",
       "      <td>1</td>\n",
       "      <td>3</td>\n",
       "    </tr>\n",
       "  </tbody>\n",
       "</table>\n",
       "<p>5 rows × 369 columns</p>\n",
       "</div>"
      ],
      "text/plain": [
       "      LNR  AGER_TYP  AKT_DAT_KL  ALTER_HH  ALTER_KIND1  ALTER_KIND2  \\\n",
       "0    9626         2         1.0      10.0          NaN          NaN   \n",
       "1    9628        -1         9.0      11.0          NaN          NaN   \n",
       "2  143872        -1         1.0       6.0          NaN          NaN   \n",
       "3  143873         1         1.0       8.0          NaN          NaN   \n",
       "4  143874        -1         1.0      20.0          NaN          NaN   \n",
       "\n",
       "   ALTER_KIND3  ALTER_KIND4  ALTERSKATEGORIE_FEIN  ANZ_HAUSHALTE_AKTIV  \\\n",
       "0          NaN          NaN                  10.0                  1.0   \n",
       "1          NaN          NaN                   NaN                  NaN   \n",
       "2          NaN          NaN                   0.0                  1.0   \n",
       "3          NaN          NaN                   8.0                  0.0   \n",
       "4          NaN          NaN                  14.0                  7.0   \n",
       "\n",
       "          ...           VK_ZG11  W_KEIT_KIND_HH  WOHNDAUER_2008  WOHNLAGE  \\\n",
       "0         ...               2.0             6.0             9.0       7.0   \n",
       "1         ...               3.0             0.0             9.0       NaN   \n",
       "2         ...              11.0             6.0             9.0       2.0   \n",
       "3         ...               2.0             NaN             9.0       7.0   \n",
       "4         ...               4.0             2.0             9.0       3.0   \n",
       "\n",
       "   ZABEOTYP      PRODUCT_GROUP  CUSTOMER_GROUP ONLINE_PURCHASE ANREDE_KZ  \\\n",
       "0         3  COSMETIC_AND_FOOD     MULTI_BUYER               0         1   \n",
       "1         3               FOOD    SINGLE_BUYER               0         1   \n",
       "2         3  COSMETIC_AND_FOOD     MULTI_BUYER               0         2   \n",
       "3         1           COSMETIC     MULTI_BUYER               0         1   \n",
       "4         1               FOOD     MULTI_BUYER               0         1   \n",
       "\n",
       "  ALTERSKATEGORIE_GROB  \n",
       "0                    4  \n",
       "1                    4  \n",
       "2                    4  \n",
       "3                    4  \n",
       "4                    3  \n",
       "\n",
       "[5 rows x 369 columns]"
      ]
     },
     "execution_count": 73,
     "metadata": {},
     "output_type": "execute_result"
    }
   ],
   "source": [
    "# Load in the customer demographics data.\n",
    "customers = pd.read_csv('../../data/Term2/capstone/arvato_data/Udacity_CUSTOMERS_052018.csv', sep=';', dtype={18:'str',19:'str'})\n",
    "customers.head()"
   ]
  },
  {
   "cell_type": "code",
   "execution_count": 74,
   "metadata": {},
   "outputs": [
    {
     "data": {
      "text/plain": [
       "(191652, 369)"
      ]
     },
     "execution_count": 74,
     "metadata": {},
     "output_type": "execute_result"
    }
   ],
   "source": [
    "customers.shape"
   ]
  },
  {
   "cell_type": "code",
   "execution_count": 75,
   "metadata": {},
   "outputs": [],
   "source": [
    "customers.drop(labels=diff_not_in_customers, axis=1, inplace=True)"
   ]
  },
  {
   "cell_type": "code",
   "execution_count": 76,
   "metadata": {},
   "outputs": [
    {
     "data": {
      "text/plain": [
       "(191652, 313)"
      ]
     },
     "execution_count": 76,
     "metadata": {},
     "output_type": "execute_result"
    }
   ],
   "source": [
    "customers.shape"
   ]
  },
  {
   "cell_type": "code",
   "execution_count": 77,
   "metadata": {},
   "outputs": [
    {
     "name": "stderr",
     "output_type": "stream",
     "text": [
      "/opt/conda/lib/python3.6/site-packages/pandas/core/generic.py:5890: SettingWithCopyWarning: \n",
      "A value is trying to be set on a copy of a slice from a DataFrame\n",
      "\n",
      "See the caveats in the documentation: http://pandas.pydata.org/pandas-docs/stable/indexing.html#indexing-view-versus-copy\n",
      "  self._update_inplace(new_data)\n"
     ]
    },
    {
     "data": {
      "text/plain": [
       "(134246, 280)"
      ]
     },
     "execution_count": 77,
     "metadata": {},
     "output_type": "execute_result"
    }
   ],
   "source": [
    "# Apply preprocessing, feature transformation, and clustering from the general\n",
    "# demographics onto the customer data, obtaining cluster predictions for the\n",
    "# customer demographics data.\n",
    "customers_clean = clean_data(customers)\n",
    "customers_clean.shape"
   ]
  },
  {
   "cell_type": "code",
   "execution_count": 57,
   "metadata": {},
   "outputs": [
    {
     "data": {
      "text/html": [
       "<div>\n",
       "<style scoped>\n",
       "    .dataframe tbody tr th:only-of-type {\n",
       "        vertical-align: middle;\n",
       "    }\n",
       "\n",
       "    .dataframe tbody tr th {\n",
       "        vertical-align: top;\n",
       "    }\n",
       "\n",
       "    .dataframe thead th {\n",
       "        text-align: right;\n",
       "    }\n",
       "</style>\n",
       "<table border=\"1\" class=\"dataframe\">\n",
       "  <thead>\n",
       "    <tr style=\"text-align: right;\">\n",
       "      <th></th>\n",
       "      <th>ANZ_HAUSHALTE_AKTIV</th>\n",
       "      <th>ANZ_PERSONEN</th>\n",
       "      <th>ANZ_TITEL</th>\n",
       "      <th>ARBEIT</th>\n",
       "      <th>BALLRAUM</th>\n",
       "      <th>D19_BILDUNG</th>\n",
       "      <th>D19_BIO_OEKO</th>\n",
       "      <th>D19_BUCH_CD</th>\n",
       "      <th>D19_DIGIT_SERV</th>\n",
       "      <th>D19_DROGERIEARTIKEL</th>\n",
       "      <th>...</th>\n",
       "      <th>NATIONALITAET_KZ_2</th>\n",
       "      <th>NATIONALITAET_KZ_3</th>\n",
       "      <th>SHOPPER_TYP_0.0</th>\n",
       "      <th>SHOPPER_TYP_1.0</th>\n",
       "      <th>SHOPPER_TYP_2.0</th>\n",
       "      <th>SHOPPER_TYP_3.0</th>\n",
       "      <th>VERS_TYP_1.0</th>\n",
       "      <th>VERS_TYP_2.0</th>\n",
       "      <th>Pra_j_dec</th>\n",
       "      <th>Pra_j_mov</th>\n",
       "    </tr>\n",
       "  </thead>\n",
       "  <tbody>\n",
       "    <tr>\n",
       "      <th>0</th>\n",
       "      <td>1.0</td>\n",
       "      <td>2.0</td>\n",
       "      <td>0.0</td>\n",
       "      <td>1.0</td>\n",
       "      <td>3.0</td>\n",
       "      <td>0</td>\n",
       "      <td>0</td>\n",
       "      <td>6</td>\n",
       "      <td>0</td>\n",
       "      <td>0</td>\n",
       "      <td>...</td>\n",
       "      <td>0</td>\n",
       "      <td>0</td>\n",
       "      <td>0</td>\n",
       "      <td>0</td>\n",
       "      <td>0</td>\n",
       "      <td>1</td>\n",
       "      <td>1</td>\n",
       "      <td>0</td>\n",
       "      <td>2.0</td>\n",
       "      <td>0.0</td>\n",
       "    </tr>\n",
       "    <tr>\n",
       "      <th>2</th>\n",
       "      <td>1.0</td>\n",
       "      <td>1.0</td>\n",
       "      <td>0.0</td>\n",
       "      <td>3.0</td>\n",
       "      <td>7.0</td>\n",
       "      <td>6</td>\n",
       "      <td>0</td>\n",
       "      <td>0</td>\n",
       "      <td>0</td>\n",
       "      <td>0</td>\n",
       "      <td>...</td>\n",
       "      <td>0</td>\n",
       "      <td>0</td>\n",
       "      <td>0</td>\n",
       "      <td>1</td>\n",
       "      <td>0</td>\n",
       "      <td>0</td>\n",
       "      <td>0</td>\n",
       "      <td>1</td>\n",
       "      <td>2.0</td>\n",
       "      <td>0.0</td>\n",
       "    </tr>\n",
       "    <tr>\n",
       "      <th>3</th>\n",
       "      <td>NaN</td>\n",
       "      <td>0.0</td>\n",
       "      <td>0.0</td>\n",
       "      <td>1.0</td>\n",
       "      <td>7.0</td>\n",
       "      <td>0</td>\n",
       "      <td>0</td>\n",
       "      <td>6</td>\n",
       "      <td>0</td>\n",
       "      <td>0</td>\n",
       "      <td>...</td>\n",
       "      <td>0</td>\n",
       "      <td>0</td>\n",
       "      <td>1</td>\n",
       "      <td>0</td>\n",
       "      <td>0</td>\n",
       "      <td>0</td>\n",
       "      <td>1</td>\n",
       "      <td>0</td>\n",
       "      <td>1.0</td>\n",
       "      <td>1.0</td>\n",
       "    </tr>\n",
       "    <tr>\n",
       "      <th>4</th>\n",
       "      <td>7.0</td>\n",
       "      <td>4.0</td>\n",
       "      <td>0.0</td>\n",
       "      <td>3.0</td>\n",
       "      <td>3.0</td>\n",
       "      <td>0</td>\n",
       "      <td>0</td>\n",
       "      <td>2</td>\n",
       "      <td>0</td>\n",
       "      <td>4</td>\n",
       "      <td>...</td>\n",
       "      <td>0</td>\n",
       "      <td>0</td>\n",
       "      <td>0</td>\n",
       "      <td>1</td>\n",
       "      <td>0</td>\n",
       "      <td>0</td>\n",
       "      <td>0</td>\n",
       "      <td>1</td>\n",
       "      <td>4.0</td>\n",
       "      <td>1.0</td>\n",
       "    </tr>\n",
       "    <tr>\n",
       "      <th>5</th>\n",
       "      <td>1.0</td>\n",
       "      <td>2.0</td>\n",
       "      <td>0.0</td>\n",
       "      <td>3.0</td>\n",
       "      <td>7.0</td>\n",
       "      <td>0</td>\n",
       "      <td>0</td>\n",
       "      <td>5</td>\n",
       "      <td>0</td>\n",
       "      <td>0</td>\n",
       "      <td>...</td>\n",
       "      <td>0</td>\n",
       "      <td>0</td>\n",
       "      <td>0</td>\n",
       "      <td>1</td>\n",
       "      <td>0</td>\n",
       "      <td>0</td>\n",
       "      <td>0</td>\n",
       "      <td>1</td>\n",
       "      <td>2.0</td>\n",
       "      <td>0.0</td>\n",
       "    </tr>\n",
       "  </tbody>\n",
       "</table>\n",
       "<p>5 rows × 280 columns</p>\n",
       "</div>"
      ],
      "text/plain": [
       "   ANZ_HAUSHALTE_AKTIV  ANZ_PERSONEN  ANZ_TITEL  ARBEIT  BALLRAUM  \\\n",
       "0                  1.0           2.0        0.0     1.0       3.0   \n",
       "2                  1.0           1.0        0.0     3.0       7.0   \n",
       "3                  NaN           0.0        0.0     1.0       7.0   \n",
       "4                  7.0           4.0        0.0     3.0       3.0   \n",
       "5                  1.0           2.0        0.0     3.0       7.0   \n",
       "\n",
       "   D19_BILDUNG  D19_BIO_OEKO  D19_BUCH_CD  D19_DIGIT_SERV  \\\n",
       "0            0             0            6               0   \n",
       "2            6             0            0               0   \n",
       "3            0             0            6               0   \n",
       "4            0             0            2               0   \n",
       "5            0             0            5               0   \n",
       "\n",
       "   D19_DROGERIEARTIKEL    ...      NATIONALITAET_KZ_2  NATIONALITAET_KZ_3  \\\n",
       "0                    0    ...                       0                   0   \n",
       "2                    0    ...                       0                   0   \n",
       "3                    0    ...                       0                   0   \n",
       "4                    4    ...                       0                   0   \n",
       "5                    0    ...                       0                   0   \n",
       "\n",
       "   SHOPPER_TYP_0.0  SHOPPER_TYP_1.0  SHOPPER_TYP_2.0  SHOPPER_TYP_3.0  \\\n",
       "0                0                0                0                1   \n",
       "2                0                1                0                0   \n",
       "3                1                0                0                0   \n",
       "4                0                1                0                0   \n",
       "5                0                1                0                0   \n",
       "\n",
       "   VERS_TYP_1.0  VERS_TYP_2.0  Pra_j_dec  Pra_j_mov  \n",
       "0             1             0        2.0        0.0  \n",
       "2             0             1        2.0        0.0  \n",
       "3             1             0        1.0        1.0  \n",
       "4             0             1        4.0        1.0  \n",
       "5             0             1        2.0        0.0  \n",
       "\n",
       "[5 rows x 280 columns]"
      ]
     },
     "execution_count": 57,
     "metadata": {},
     "output_type": "execute_result"
    }
   ],
   "source": [
    "# display the first 5 columns of the customers data \n",
    "customers_clean.head()"
   ]
  },
  {
   "cell_type": "code",
   "execution_count": 78,
   "metadata": {},
   "outputs": [
    {
     "data": {
      "text/plain": [
       "[]"
      ]
     },
     "execution_count": 78,
     "metadata": {},
     "output_type": "execute_result"
    }
   ],
   "source": [
    "# compare the column list of the azdias and customer data \n",
    "list(set(azdias.columns) - set(customers_clean))"
   ]
  },
  {
   "cell_type": "code",
   "execution_count": 59,
   "metadata": {},
   "outputs": [],
   "source": [
    "# add the missing column to the customers data and label it 0 \n",
    "customers_clean['GEBAEUDETYP_5.0'] = 0\n"
   ]
  },
  {
   "cell_type": "code",
   "execution_count": 60,
   "metadata": {},
   "outputs": [
    {
     "data": {
      "text/plain": [
       "(134246, 281)"
      ]
     },
     "execution_count": 60,
     "metadata": {},
     "output_type": "execute_result"
    }
   ],
   "source": [
    "customers_clean.shape"
   ]
  },
  {
   "cell_type": "code",
   "execution_count": 79,
   "metadata": {},
   "outputs": [],
   "source": [
    "# applying the imputer in the customers data\n",
    "customers_clean_imp=imp.transform(customers_clean)"
   ]
  },
  {
   "cell_type": "code",
   "execution_count": 80,
   "metadata": {},
   "outputs": [],
   "source": [
    "# applying deature scaling \n",
    "\n",
    "customers_clean_df = pd.DataFrame(customers_clean_imp, columns = customers_clean.columns)\n",
    "\n",
    "customers_scaled_arr = scaler.transform(customers_clean_df)\n",
    "\n",
    "customers_scaled = pd.DataFrame(customers_scaled_arr, columns = customers_clean.columns, index = customers_clean.index)"
   ]
  },
  {
   "cell_type": "code",
   "execution_count": 81,
   "metadata": {},
   "outputs": [
    {
     "data": {
      "text/html": [
       "<div>\n",
       "<style scoped>\n",
       "    .dataframe tbody tr th:only-of-type {\n",
       "        vertical-align: middle;\n",
       "    }\n",
       "\n",
       "    .dataframe tbody tr th {\n",
       "        vertical-align: top;\n",
       "    }\n",
       "\n",
       "    .dataframe thead th {\n",
       "        text-align: right;\n",
       "    }\n",
       "</style>\n",
       "<table border=\"1\" class=\"dataframe\">\n",
       "  <thead>\n",
       "    <tr style=\"text-align: right;\">\n",
       "      <th></th>\n",
       "      <th>ANZ_HAUSHALTE_AKTIV</th>\n",
       "      <th>ANZ_PERSONEN</th>\n",
       "      <th>ANZ_TITEL</th>\n",
       "      <th>ARBEIT</th>\n",
       "      <th>BALLRAUM</th>\n",
       "      <th>D19_BILDUNG</th>\n",
       "      <th>D19_BIO_OEKO</th>\n",
       "      <th>D19_BUCH_CD</th>\n",
       "      <th>D19_DIGIT_SERV</th>\n",
       "      <th>D19_DROGERIEARTIKEL</th>\n",
       "      <th>...</th>\n",
       "      <th>NATIONALITAET_KZ_2</th>\n",
       "      <th>NATIONALITAET_KZ_3</th>\n",
       "      <th>SHOPPER_TYP_0.0</th>\n",
       "      <th>SHOPPER_TYP_1.0</th>\n",
       "      <th>SHOPPER_TYP_2.0</th>\n",
       "      <th>SHOPPER_TYP_3.0</th>\n",
       "      <th>VERS_TYP_1.0</th>\n",
       "      <th>VERS_TYP_2.0</th>\n",
       "      <th>Pra_j_dec</th>\n",
       "      <th>Pra_j_mov</th>\n",
       "    </tr>\n",
       "  </thead>\n",
       "  <tbody>\n",
       "    <tr>\n",
       "      <th>0</th>\n",
       "      <td>-4.797005e-01</td>\n",
       "      <td>0.224688</td>\n",
       "      <td>-0.06066</td>\n",
       "      <td>-2.194597</td>\n",
       "      <td>-0.522537</td>\n",
       "      <td>-0.311651</td>\n",
       "      <td>-0.216695</td>\n",
       "      <td>1.621929</td>\n",
       "      <td>-0.197125</td>\n",
       "      <td>-0.399911</td>\n",
       "      <td>...</td>\n",
       "      <td>-0.295836</td>\n",
       "      <td>-0.205764</td>\n",
       "      <td>-0.448850</td>\n",
       "      <td>-0.658336</td>\n",
       "      <td>-0.601069</td>\n",
       "      <td>1.891938</td>\n",
       "      <td>1.101855</td>\n",
       "      <td>-1.004325</td>\n",
       "      <td>-1.605387</td>\n",
       "      <td>-1.855496</td>\n",
       "    </tr>\n",
       "    <tr>\n",
       "      <th>2</th>\n",
       "      <td>-4.797005e-01</td>\n",
       "      <td>-0.634469</td>\n",
       "      <td>-0.06066</td>\n",
       "      <td>-0.179038</td>\n",
       "      <td>1.307982</td>\n",
       "      <td>3.192098</td>\n",
       "      <td>-0.216695</td>\n",
       "      <td>-0.664781</td>\n",
       "      <td>-0.197125</td>\n",
       "      <td>-0.399911</td>\n",
       "      <td>...</td>\n",
       "      <td>-0.295836</td>\n",
       "      <td>-0.205764</td>\n",
       "      <td>-0.448850</td>\n",
       "      <td>1.518982</td>\n",
       "      <td>-0.601069</td>\n",
       "      <td>-0.528559</td>\n",
       "      <td>-0.907560</td>\n",
       "      <td>0.995693</td>\n",
       "      <td>-1.605387</td>\n",
       "      <td>-1.855496</td>\n",
       "    </tr>\n",
       "    <tr>\n",
       "      <th>3</th>\n",
       "      <td>-1.176909e-16</td>\n",
       "      <td>-1.493626</td>\n",
       "      <td>-0.06066</td>\n",
       "      <td>-2.194597</td>\n",
       "      <td>1.307982</td>\n",
       "      <td>-0.311651</td>\n",
       "      <td>-0.216695</td>\n",
       "      <td>1.621929</td>\n",
       "      <td>-0.197125</td>\n",
       "      <td>-0.399911</td>\n",
       "      <td>...</td>\n",
       "      <td>-0.295836</td>\n",
       "      <td>-0.205764</td>\n",
       "      <td>2.227918</td>\n",
       "      <td>-0.658336</td>\n",
       "      <td>-0.601069</td>\n",
       "      <td>-0.528559</td>\n",
       "      <td>1.101855</td>\n",
       "      <td>-1.004325</td>\n",
       "      <td>-2.300059</td>\n",
       "      <td>0.554885</td>\n",
       "    </tr>\n",
       "    <tr>\n",
       "      <th>4</th>\n",
       "      <td>-8.217589e-02</td>\n",
       "      <td>1.943002</td>\n",
       "      <td>-0.06066</td>\n",
       "      <td>-0.179038</td>\n",
       "      <td>-0.522537</td>\n",
       "      <td>-0.311651</td>\n",
       "      <td>-0.216695</td>\n",
       "      <td>0.097455</td>\n",
       "      <td>-0.197125</td>\n",
       "      <td>1.810089</td>\n",
       "      <td>...</td>\n",
       "      <td>-0.295836</td>\n",
       "      <td>-0.205764</td>\n",
       "      <td>-0.448850</td>\n",
       "      <td>1.518982</td>\n",
       "      <td>-0.601069</td>\n",
       "      <td>-0.528559</td>\n",
       "      <td>-0.907560</td>\n",
       "      <td>0.995693</td>\n",
       "      <td>-0.216042</td>\n",
       "      <td>0.554885</td>\n",
       "    </tr>\n",
       "    <tr>\n",
       "      <th>5</th>\n",
       "      <td>-4.797005e-01</td>\n",
       "      <td>0.224688</td>\n",
       "      <td>-0.06066</td>\n",
       "      <td>-0.179038</td>\n",
       "      <td>1.307982</td>\n",
       "      <td>-0.311651</td>\n",
       "      <td>-0.216695</td>\n",
       "      <td>1.240810</td>\n",
       "      <td>-0.197125</td>\n",
       "      <td>-0.399911</td>\n",
       "      <td>...</td>\n",
       "      <td>-0.295836</td>\n",
       "      <td>-0.205764</td>\n",
       "      <td>-0.448850</td>\n",
       "      <td>1.518982</td>\n",
       "      <td>-0.601069</td>\n",
       "      <td>-0.528559</td>\n",
       "      <td>-0.907560</td>\n",
       "      <td>0.995693</td>\n",
       "      <td>-1.605387</td>\n",
       "      <td>-1.855496</td>\n",
       "    </tr>\n",
       "  </tbody>\n",
       "</table>\n",
       "<p>5 rows × 280 columns</p>\n",
       "</div>"
      ],
      "text/plain": [
       "   ANZ_HAUSHALTE_AKTIV  ANZ_PERSONEN  ANZ_TITEL    ARBEIT  BALLRAUM  \\\n",
       "0        -4.797005e-01      0.224688   -0.06066 -2.194597 -0.522537   \n",
       "2        -4.797005e-01     -0.634469   -0.06066 -0.179038  1.307982   \n",
       "3        -1.176909e-16     -1.493626   -0.06066 -2.194597  1.307982   \n",
       "4        -8.217589e-02      1.943002   -0.06066 -0.179038 -0.522537   \n",
       "5        -4.797005e-01      0.224688   -0.06066 -0.179038  1.307982   \n",
       "\n",
       "   D19_BILDUNG  D19_BIO_OEKO  D19_BUCH_CD  D19_DIGIT_SERV  \\\n",
       "0    -0.311651     -0.216695     1.621929       -0.197125   \n",
       "2     3.192098     -0.216695    -0.664781       -0.197125   \n",
       "3    -0.311651     -0.216695     1.621929       -0.197125   \n",
       "4    -0.311651     -0.216695     0.097455       -0.197125   \n",
       "5    -0.311651     -0.216695     1.240810       -0.197125   \n",
       "\n",
       "   D19_DROGERIEARTIKEL    ...      NATIONALITAET_KZ_2  NATIONALITAET_KZ_3  \\\n",
       "0            -0.399911    ...               -0.295836           -0.205764   \n",
       "2            -0.399911    ...               -0.295836           -0.205764   \n",
       "3            -0.399911    ...               -0.295836           -0.205764   \n",
       "4             1.810089    ...               -0.295836           -0.205764   \n",
       "5            -0.399911    ...               -0.295836           -0.205764   \n",
       "\n",
       "   SHOPPER_TYP_0.0  SHOPPER_TYP_1.0  SHOPPER_TYP_2.0  SHOPPER_TYP_3.0  \\\n",
       "0        -0.448850        -0.658336        -0.601069         1.891938   \n",
       "2        -0.448850         1.518982        -0.601069        -0.528559   \n",
       "3         2.227918        -0.658336        -0.601069        -0.528559   \n",
       "4        -0.448850         1.518982        -0.601069        -0.528559   \n",
       "5        -0.448850         1.518982        -0.601069        -0.528559   \n",
       "\n",
       "   VERS_TYP_1.0  VERS_TYP_2.0  Pra_j_dec  Pra_j_mov  \n",
       "0      1.101855     -1.004325  -1.605387  -1.855496  \n",
       "2     -0.907560      0.995693  -1.605387  -1.855496  \n",
       "3      1.101855     -1.004325  -2.300059   0.554885  \n",
       "4     -0.907560      0.995693  -0.216042   0.554885  \n",
       "5     -0.907560      0.995693  -1.605387  -1.855496  \n",
       "\n",
       "[5 rows x 280 columns]"
      ]
     },
     "execution_count": 81,
     "metadata": {},
     "output_type": "execute_result"
    }
   ],
   "source": [
    "customers_scaled.head()"
   ]
  },
  {
   "cell_type": "code",
   "execution_count": 82,
   "metadata": {},
   "outputs": [],
   "source": [
    "#transform the customers using pca\n",
    "customers_pca = pca_10.transform(customers_scaled)\n",
    "#predict clustering using the kmeans\n",
    "predict_customers = new_model.predict(customers_pca)"
   ]
  },
  {
   "cell_type": "code",
   "execution_count": 83,
   "metadata": {},
   "outputs": [],
   "source": [
    "centers = new_model.cluster_centers_"
   ]
  },
  {
   "cell_type": "code",
   "execution_count": 84,
   "metadata": {},
   "outputs": [
    {
     "data": {
      "text/plain": [
       "(8, 10)"
      ]
     },
     "execution_count": 84,
     "metadata": {},
     "output_type": "execute_result"
    }
   ],
   "source": [
    "centers.shape"
   ]
  },
  {
   "cell_type": "markdown",
   "metadata": {},
   "source": [
    "<a id='compare'></a>\n",
    "#### 3.3. Compare Customer Data to General Population Data"
   ]
  },
  {
   "cell_type": "code",
   "execution_count": 85,
   "metadata": {},
   "outputs": [
    {
     "data": {
      "image/png": "[encoded data removed]",
      "text/plain": [
       "<matplotlib.figure.Figure at 0x7f8111da5dd8>"
      ]
     },
     "metadata": {
      "needs_background": "light"
     },
     "output_type": "display_data"
    }
   ],
   "source": [
    "# Compare the proportion of data in each cluster for the customer data to the\n",
    "# proportion of data in each cluster for the general population.\n",
    "general_pop = []\n",
    "customers_pop = []\n",
    "x = [i+1 for i in range(10)]\n",
    "for i in range(10):\n",
    "    general_pop.append((clust_preds == i).sum()/len(clust_preds))\n",
    "    customers_pop.append((predict_customers == i).sum()/len(predict_customers))\n",
    "\n",
    "\n",
    "df_general = pd.DataFrame({'cluster' : x, 'general_proportion' : general_pop, 'customers_proportion':customers_pop})\n",
    "\n",
    "#ax = sns.countplot(x='index', y = df_general['prop_1', 'prop_2'], data=df_general )\n",
    "df_general.plot(x='cluster', y = ['general_proportion', 'customers_proportion'], kind='bar', figsize=(9,6))\n",
    "plt.ylabel('proportion of persons in each cluster')\n",
    "plt.show()"
   ]
  },
  {
   "cell_type": "code",
   "execution_count": 86,
   "metadata": {},
   "outputs": [
    {
     "data": {
      "image/png": "[encoded data removed]",
      "text/plain": [
       "<matplotlib.figure.Figure at 0x7f8114a2f748>"
      ]
     },
     "metadata": {
      "needs_background": "light"
     },
     "output_type": "display_data"
    }
   ],
   "source": [
    "# What kinds of people are part of a cluster that is overrepresented in the\n",
    "# customer data compared to the general population?\n",
    "\n",
    "Centers_pl = np.arange(0,10)\n",
    "\n",
    "ax1 = plt.subplot(111)\n",
    "ax1.bar(Centers_pl - 0.2,centers[3][0:10], width = 0.25)\n",
    "ax1.bar(Centers_pl,centers[1][0:10], width = 0.25)\n",
    "ax1.set_title('overrepresented group vs. underrepresented group')\n",
    "plt.legend(['overrepresented','underrepresented'])\n",
    "plt.show()"
   ]
  },
  {
   "cell_type": "code",
   "execution_count": 89,
   "metadata": {},
   "outputs": [],
   "source": [
    "# What kinds of people are part of a cluster that is overrepresented in the\n",
    "# customer data compared to the general population?\n",
    "centers_inverse = scaler.inverse_transform(pca_10.inverse_transform(centers))\n",
    "centers_df = pd.DataFrame(centers_inverse, columns = azdias_scaled.columns)\n",
    "overrepresented = centers_df.loc[6]\n",
    "underrepresented = centers_df.loc[1]"
   ]
  },
  {
   "cell_type": "code",
   "execution_count": 92,
   "metadata": {},
   "outputs": [],
   "source": [
    "# interested variables for comparison \n",
    "interested_variables = [ 'FINANZ_VORSORGER', 'FINANZ_ANLEGER', 'FINANZ_SPARER', 'FINANZ_HAUSBAUER','FINANZ_MINIMALIST' ]"
   ]
  },
  {
   "cell_type": "code",
   "execution_count": 93,
   "metadata": {},
   "outputs": [
    {
     "name": "stdout",
     "output_type": "stream",
     "text": [
      "Feature.......Overrepresented.......Underrepresented\n",
      "FINANZ_VORSORGER.......3.3958968063753083.......4.099966595377492\n",
      "FINANZ_ANLEGER.......3.0564004130700737.......2.531990780990272\n",
      "FINANZ_SPARER.......2.695366429471275.......1.975674838143373\n",
      "FINANZ_HAUSBAUER.......2.069826950256215.......2.5515110319171677\n",
      "FINANZ_MINIMALIST.......3.8295440805804613.......3.9521727732643157\n"
     ]
    }
   ],
   "source": [
    "\n",
    "print(\"Feature.......Overrepresented.......Underrepresented\")\n",
    "for x in interested_variables:\n",
    "    print(f\"{x}.......{overrepresented[x]}.......{underrepresented[x]}\")"
   ]
  },
  {
   "cell_type": "markdown",
   "metadata": {},
   "source": [
    "### Discussion 3.3: Compare Customer Data to Demographics Data\n",
    "\n",
    "**For my feature analysis comparing those underrepresented and overrepresented in cluster 1 and 9, I was interested in individual financial types thus included 6 variables in my analysis:**\n",
    "1. 'FINANZ_VORSORGER' (individual financial type for those that are prepared)\n",
    "2. 'FINANZ_ANLEGER'(individual financial type for Investors)\n",
    "3. 'LP_LEBENSPHASE_FEIN'(life stage)\n",
    "4. 'FINANZ_HAUSBAUER'(individual financial type for house owners)\n",
    "5. 'FINANZ_MINIMALIST' (those with low financial interest)\n",
    "6. 'FINANZ_SPARER' (money-savers)\n",
    "\n",
    "\n",
    "**The cluster that had overrepresented customer data, consisted of individuals that are more likely to be investors and more likely to be money savers.**\n",
    "\n",
    "**Those in the underrepresented cluster are more likely to own homes, have low financial interest and are more likely to be prepared.** \n",
    "\n",
    "**Using this analysis based on the different clusters and the characteristics of individuals in these clusters, Bertelsmann Arvato Analytics can target specific segments of the population for their marketing campaigns that will yield the highest expected rate of returns.** "
   ]
  },
  {
   "cell_type": "markdown",
   "metadata": {},
   "source": [
    "<a id='model'></a>\n",
    "### 4. Supervised Learning Model\n",
    "\n",
    "Now that you've found which parts of the population are more likely to be customers of the mail-order company, it's time to build a prediction model. Each of the rows in the \"MAILOUT\" data files represents an individual that was targeted for a mailout campaign. Ideally, we should be able to use the demographic information from each individual to decide whether or not it will be worth it to include that person in the campaign.\n",
    "\n",
    "The \"MAILOUT\" data has been split into two approximately equal parts, each with almost 43 000 data rows. In this part, you can verify your model with the \"TRAIN\" partition, which includes a column, \"RESPONSE\", that states whether or not a person became a customer of the company following the campaign. In the next part, you'll need to create predictions on the \"TEST\" partition, where the \"RESPONSE\" column has been withheld."
   ]
  },
  {
   "cell_type": "code",
   "execution_count": null,
   "metadata": {},
   "outputs": [],
   "source": []
  },
  {
   "cell_type": "code",
   "execution_count": 131,
   "metadata": {
    "scrolled": false
   },
   "outputs": [
    {
     "name": "stderr",
     "output_type": "stream",
     "text": [
      "/opt/conda/lib/python3.6/site-packages/IPython/core/interactiveshell.py:2785: DtypeWarning: Columns (18,19) have mixed types. Specify dtype option on import or set low_memory=False.\n",
      "  interactivity=interactivity, compiler=compiler, result=result)\n"
     ]
    },
    {
     "data": {
      "text/html": [
       "<div>\n",
       "<style scoped>\n",
       "    .dataframe tbody tr th:only-of-type {\n",
       "        vertical-align: middle;\n",
       "    }\n",
       "\n",
       "    .dataframe tbody tr th {\n",
       "        vertical-align: top;\n",
       "    }\n",
       "\n",
       "    .dataframe thead th {\n",
       "        text-align: right;\n",
       "    }\n",
       "</style>\n",
       "<table border=\"1\" class=\"dataframe\">\n",
       "  <thead>\n",
       "    <tr style=\"text-align: right;\">\n",
       "      <th></th>\n",
       "      <th>LNR</th>\n",
       "      <th>AGER_TYP</th>\n",
       "      <th>AKT_DAT_KL</th>\n",
       "      <th>ALTER_HH</th>\n",
       "      <th>ALTER_KIND1</th>\n",
       "      <th>ALTER_KIND2</th>\n",
       "      <th>ALTER_KIND3</th>\n",
       "      <th>ALTER_KIND4</th>\n",
       "      <th>ALTERSKATEGORIE_FEIN</th>\n",
       "      <th>ANZ_HAUSHALTE_AKTIV</th>\n",
       "      <th>...</th>\n",
       "      <th>VK_DHT4A</th>\n",
       "      <th>VK_DISTANZ</th>\n",
       "      <th>VK_ZG11</th>\n",
       "      <th>W_KEIT_KIND_HH</th>\n",
       "      <th>WOHNDAUER_2008</th>\n",
       "      <th>WOHNLAGE</th>\n",
       "      <th>ZABEOTYP</th>\n",
       "      <th>RESPONSE</th>\n",
       "      <th>ANREDE_KZ</th>\n",
       "      <th>ALTERSKATEGORIE_GROB</th>\n",
       "    </tr>\n",
       "  </thead>\n",
       "  <tbody>\n",
       "    <tr>\n",
       "      <th>0</th>\n",
       "      <td>1763</td>\n",
       "      <td>2</td>\n",
       "      <td>1.0</td>\n",
       "      <td>8.0</td>\n",
       "      <td>NaN</td>\n",
       "      <td>NaN</td>\n",
       "      <td>NaN</td>\n",
       "      <td>NaN</td>\n",
       "      <td>8.0</td>\n",
       "      <td>15.0</td>\n",
       "      <td>...</td>\n",
       "      <td>5.0</td>\n",
       "      <td>2.0</td>\n",
       "      <td>1.0</td>\n",
       "      <td>6.0</td>\n",
       "      <td>9.0</td>\n",
       "      <td>3.0</td>\n",
       "      <td>3</td>\n",
       "      <td>0</td>\n",
       "      <td>2</td>\n",
       "      <td>4</td>\n",
       "    </tr>\n",
       "    <tr>\n",
       "      <th>1</th>\n",
       "      <td>1771</td>\n",
       "      <td>1</td>\n",
       "      <td>4.0</td>\n",
       "      <td>13.0</td>\n",
       "      <td>NaN</td>\n",
       "      <td>NaN</td>\n",
       "      <td>NaN</td>\n",
       "      <td>NaN</td>\n",
       "      <td>13.0</td>\n",
       "      <td>1.0</td>\n",
       "      <td>...</td>\n",
       "      <td>1.0</td>\n",
       "      <td>2.0</td>\n",
       "      <td>1.0</td>\n",
       "      <td>4.0</td>\n",
       "      <td>9.0</td>\n",
       "      <td>7.0</td>\n",
       "      <td>1</td>\n",
       "      <td>0</td>\n",
       "      <td>2</td>\n",
       "      <td>3</td>\n",
       "    </tr>\n",
       "    <tr>\n",
       "      <th>2</th>\n",
       "      <td>1776</td>\n",
       "      <td>1</td>\n",
       "      <td>1.0</td>\n",
       "      <td>9.0</td>\n",
       "      <td>NaN</td>\n",
       "      <td>NaN</td>\n",
       "      <td>NaN</td>\n",
       "      <td>NaN</td>\n",
       "      <td>7.0</td>\n",
       "      <td>0.0</td>\n",
       "      <td>...</td>\n",
       "      <td>6.0</td>\n",
       "      <td>4.0</td>\n",
       "      <td>2.0</td>\n",
       "      <td>NaN</td>\n",
       "      <td>9.0</td>\n",
       "      <td>2.0</td>\n",
       "      <td>3</td>\n",
       "      <td>0</td>\n",
       "      <td>1</td>\n",
       "      <td>4</td>\n",
       "    </tr>\n",
       "    <tr>\n",
       "      <th>3</th>\n",
       "      <td>1460</td>\n",
       "      <td>2</td>\n",
       "      <td>1.0</td>\n",
       "      <td>6.0</td>\n",
       "      <td>NaN</td>\n",
       "      <td>NaN</td>\n",
       "      <td>NaN</td>\n",
       "      <td>NaN</td>\n",
       "      <td>6.0</td>\n",
       "      <td>4.0</td>\n",
       "      <td>...</td>\n",
       "      <td>8.0</td>\n",
       "      <td>11.0</td>\n",
       "      <td>11.0</td>\n",
       "      <td>6.0</td>\n",
       "      <td>9.0</td>\n",
       "      <td>1.0</td>\n",
       "      <td>3</td>\n",
       "      <td>0</td>\n",
       "      <td>2</td>\n",
       "      <td>4</td>\n",
       "    </tr>\n",
       "    <tr>\n",
       "      <th>4</th>\n",
       "      <td>1783</td>\n",
       "      <td>2</td>\n",
       "      <td>1.0</td>\n",
       "      <td>9.0</td>\n",
       "      <td>NaN</td>\n",
       "      <td>NaN</td>\n",
       "      <td>NaN</td>\n",
       "      <td>NaN</td>\n",
       "      <td>9.0</td>\n",
       "      <td>53.0</td>\n",
       "      <td>...</td>\n",
       "      <td>2.0</td>\n",
       "      <td>2.0</td>\n",
       "      <td>1.0</td>\n",
       "      <td>6.0</td>\n",
       "      <td>9.0</td>\n",
       "      <td>3.0</td>\n",
       "      <td>3</td>\n",
       "      <td>0</td>\n",
       "      <td>1</td>\n",
       "      <td>3</td>\n",
       "    </tr>\n",
       "  </tbody>\n",
       "</table>\n",
       "<p>5 rows × 367 columns</p>\n",
       "</div>"
      ],
      "text/plain": [
       "    LNR  AGER_TYP  AKT_DAT_KL  ALTER_HH  ALTER_KIND1  ALTER_KIND2  \\\n",
       "0  1763         2         1.0       8.0          NaN          NaN   \n",
       "1  1771         1         4.0      13.0          NaN          NaN   \n",
       "2  1776         1         1.0       9.0          NaN          NaN   \n",
       "3  1460         2         1.0       6.0          NaN          NaN   \n",
       "4  1783         2         1.0       9.0          NaN          NaN   \n",
       "\n",
       "   ALTER_KIND3  ALTER_KIND4  ALTERSKATEGORIE_FEIN  ANZ_HAUSHALTE_AKTIV  \\\n",
       "0          NaN          NaN                   8.0                 15.0   \n",
       "1          NaN          NaN                  13.0                  1.0   \n",
       "2          NaN          NaN                   7.0                  0.0   \n",
       "3          NaN          NaN                   6.0                  4.0   \n",
       "4          NaN          NaN                   9.0                 53.0   \n",
       "\n",
       "          ...           VK_DHT4A  VK_DISTANZ  VK_ZG11  W_KEIT_KIND_HH  \\\n",
       "0         ...                5.0         2.0      1.0             6.0   \n",
       "1         ...                1.0         2.0      1.0             4.0   \n",
       "2         ...                6.0         4.0      2.0             NaN   \n",
       "3         ...                8.0        11.0     11.0             6.0   \n",
       "4         ...                2.0         2.0      1.0             6.0   \n",
       "\n",
       "   WOHNDAUER_2008  WOHNLAGE  ZABEOTYP RESPONSE ANREDE_KZ ALTERSKATEGORIE_GROB  \n",
       "0             9.0       3.0         3        0         2                    4  \n",
       "1             9.0       7.0         1        0         2                    3  \n",
       "2             9.0       2.0         3        0         1                    4  \n",
       "3             9.0       1.0         3        0         2                    4  \n",
       "4             9.0       3.0         3        0         1                    3  \n",
       "\n",
       "[5 rows x 367 columns]"
      ]
     },
     "execution_count": 131,
     "metadata": {},
     "output_type": "execute_result"
    }
   ],
   "source": [
    "mailout_train = pd.read_csv('../../data/Term2/capstone/arvato_data/Udacity_MAILOUT_052018_TRAIN.csv', sep=';')\n",
    "\n",
    "mailout_train.head()"
   ]
  },
  {
   "cell_type": "code",
   "execution_count": 124,
   "metadata": {},
   "outputs": [],
   "source": []
  },
  {
   "cell_type": "code",
   "execution_count": 132,
   "metadata": {},
   "outputs": [
    {
     "name": "stdout",
     "output_type": "stream",
     "text": [
      "Features in mailout that are not in feat_list:\n",
      "54\n",
      "['DSL_FLAG', 'RT_KEIN_ANREIZ', 'D19_TELKO_ONLINE_QUOTE_12', 'KBA13_GBZ', 'LNR', 'EXTSEL992', 'KBA13_ANTG3', 'KBA13_HHZ', 'ALTERSKATEGORIE_FEIN', 'CJT_TYP_3', 'RESPONSE', 'KBA13_ANTG4', 'RT_UEBERGROESSE', 'RT_SCHNAEPPCHEN', 'GEMEINDETYP', 'CJT_TYP_6', 'KBA13_ANTG1', 'VHA', 'ANZ_STATISTISCHE_HAUSHALTE', 'UNGLEICHENN_FLAG', 'EINGEFUEGT_AM', 'STRUKTURTYP', 'CJT_KATALOGNUTZER', 'MOBI_RASTER', 'AKT_DAT_KL', 'CJT_TYP_1', 'VHN', 'CJT_TYP_4', 'ANZ_KINDER', 'VK_DISTANZ', 'HH_DELTA_FLAG', 'KBA13_KMH_210', 'D19_KONSUMTYP_MAX', 'KBA13_ANTG2', 'CJT_TYP_5', 'VK_DHT4A', 'KONSUMZELLE', 'D19_VERSI_ONLINE_QUOTE_12', 'ALTER_KIND3', 'D19_LETZTER_KAUF_BRANCHE', 'CJT_TYP_2', 'KOMBIALTER', 'D19_SOZIALES', 'UMFELD_ALT', 'FIRMENDICHTE', 'UMFELD_JUNG', 'VERDICHTUNGSRAUM', 'VK_ZG11', 'KBA13_BAUMAX', 'EINGEZOGENAM_HH_JAHR', 'ALTER_KIND1', 'ALTER_KIND2', 'ALTER_KIND4', 'KBA13_CCM_1401_2500']\n",
      "***\n"
     ]
    }
   ],
   "source": [
    "diff_not_in_mailout = list(set(mailout_train) - set(feat_list))\n",
    "print('Features in mailout that are not in feat_list:')\n",
    "print(len(diff_not_in_mailout))\n",
    "print(diff_not_in_mailout)\n",
    "print('***')"
   ]
  },
  {
   "cell_type": "code",
   "execution_count": 134,
   "metadata": {},
   "outputs": [],
   "source": [
    "cols_to_drop_m = ['DSL_FLAG', 'RT_KEIN_ANREIZ', 'D19_TELKO_ONLINE_QUOTE_12', 'KBA13_GBZ', 'LNR', 'EXTSEL992', 'KBA13_ANTG3', 'KBA13_HHZ', 'ALTERSKATEGORIE_FEIN', 'CJT_TYP_3', 'KBA13_ANTG4', 'RT_UEBERGROESSE', 'RT_SCHNAEPPCHEN', 'GEMEINDETYP', 'CJT_TYP_6', 'KBA13_ANTG1', 'VHA', 'ANZ_STATISTISCHE_HAUSHALTE', 'UNGLEICHENN_FLAG', 'EINGEFUEGT_AM', 'STRUKTURTYP', 'CJT_KATALOGNUTZER', 'MOBI_RASTER', 'AKT_DAT_KL', 'CJT_TYP_1', 'VHN', 'CJT_TYP_4', 'ANZ_KINDER', 'VK_DISTANZ', 'HH_DELTA_FLAG', 'KBA13_KMH_210', 'D19_KONSUMTYP_MAX', 'KBA13_ANTG2', 'CJT_TYP_5', 'VK_DHT4A', 'KONSUMZELLE', 'D19_VERSI_ONLINE_QUOTE_12', 'ALTER_KIND3', 'D19_LETZTER_KAUF_BRANCHE', 'CJT_TYP_2', 'KOMBIALTER', 'D19_SOZIALES', 'UMFELD_ALT', 'FIRMENDICHTE', 'UMFELD_JUNG', 'VERDICHTUNGSRAUM', 'VK_ZG11', 'KBA13_BAUMAX', 'EINGEZOGENAM_HH_JAHR', 'ALTER_KIND1', 'ALTER_KIND2', 'ALTER_KIND4', 'KBA13_CCM_1401_2500']"
   ]
  },
  {
   "cell_type": "code",
   "execution_count": 135,
   "metadata": {},
   "outputs": [],
   "source": [
    "mailout_train.drop(labels=cols_to_drop_m, axis=1, inplace=True)"
   ]
  },
  {
   "cell_type": "code",
   "execution_count": 136,
   "metadata": {},
   "outputs": [
    {
     "data": {
      "text/plain": [
       "(42962, 314)"
      ]
     },
     "execution_count": 136,
     "metadata": {},
     "output_type": "execute_result"
    }
   ],
   "source": [
    "mailout_train.shape"
   ]
  },
  {
   "cell_type": "code",
   "execution_count": null,
   "metadata": {},
   "outputs": [],
   "source": [
    "# Define the labels (y) to be the response column, and the rest of the columns to be X\n",
    "y = mailout_train['RESPONSE']\n",
    "mailout_train.drop(labels=['RESPONSE'], axis=1, inplace=True)"
   ]
  },
  {
   "cell_type": "code",
   "execution_count": 137,
   "metadata": {
    "scrolled": true
   },
   "outputs": [
    {
     "name": "stderr",
     "output_type": "stream",
     "text": [
      "/opt/conda/lib/python3.6/site-packages/pandas/core/generic.py:5890: SettingWithCopyWarning: \n",
      "A value is trying to be set on a copy of a slice from a DataFrame\n",
      "\n",
      "See the caveats in the documentation: http://pandas.pydata.org/pandas-docs/stable/indexing.html#indexing-view-versus-copy\n",
      "  self._update_inplace(new_data)\n"
     ]
    },
    {
     "data": {
      "text/html": [
       "<div>\n",
       "<style scoped>\n",
       "    .dataframe tbody tr th:only-of-type {\n",
       "        vertical-align: middle;\n",
       "    }\n",
       "\n",
       "    .dataframe tbody tr th {\n",
       "        vertical-align: top;\n",
       "    }\n",
       "\n",
       "    .dataframe thead th {\n",
       "        text-align: right;\n",
       "    }\n",
       "</style>\n",
       "<table border=\"1\" class=\"dataframe\">\n",
       "  <thead>\n",
       "    <tr style=\"text-align: right;\">\n",
       "      <th></th>\n",
       "      <th>ANZ_HAUSHALTE_AKTIV</th>\n",
       "      <th>ANZ_PERSONEN</th>\n",
       "      <th>ANZ_TITEL</th>\n",
       "      <th>ARBEIT</th>\n",
       "      <th>BALLRAUM</th>\n",
       "      <th>D19_BILDUNG</th>\n",
       "      <th>D19_BIO_OEKO</th>\n",
       "      <th>D19_BUCH_CD</th>\n",
       "      <th>D19_DIGIT_SERV</th>\n",
       "      <th>D19_DROGERIEARTIKEL</th>\n",
       "      <th>...</th>\n",
       "      <th>NATIONALITAET_KZ_2</th>\n",
       "      <th>NATIONALITAET_KZ_3</th>\n",
       "      <th>SHOPPER_TYP_0.0</th>\n",
       "      <th>SHOPPER_TYP_1.0</th>\n",
       "      <th>SHOPPER_TYP_2.0</th>\n",
       "      <th>SHOPPER_TYP_3.0</th>\n",
       "      <th>VERS_TYP_1.0</th>\n",
       "      <th>VERS_TYP_2.0</th>\n",
       "      <th>Pra_j_dec</th>\n",
       "      <th>Pra_j_mov</th>\n",
       "    </tr>\n",
       "  </thead>\n",
       "  <tbody>\n",
       "    <tr>\n",
       "      <th>0</th>\n",
       "      <td>15.0</td>\n",
       "      <td>1.0</td>\n",
       "      <td>0.0</td>\n",
       "      <td>3.0</td>\n",
       "      <td>5.0</td>\n",
       "      <td>0</td>\n",
       "      <td>0</td>\n",
       "      <td>0</td>\n",
       "      <td>0</td>\n",
       "      <td>0</td>\n",
       "      <td>...</td>\n",
       "      <td>0</td>\n",
       "      <td>0</td>\n",
       "      <td>0</td>\n",
       "      <td>0</td>\n",
       "      <td>0</td>\n",
       "      <td>1</td>\n",
       "      <td>0</td>\n",
       "      <td>1</td>\n",
       "      <td>1.0</td>\n",
       "      <td>1.0</td>\n",
       "    </tr>\n",
       "    <tr>\n",
       "      <th>1</th>\n",
       "      <td>1.0</td>\n",
       "      <td>2.0</td>\n",
       "      <td>0.0</td>\n",
       "      <td>2.0</td>\n",
       "      <td>5.0</td>\n",
       "      <td>0</td>\n",
       "      <td>0</td>\n",
       "      <td>0</td>\n",
       "      <td>0</td>\n",
       "      <td>6</td>\n",
       "      <td>...</td>\n",
       "      <td>1</td>\n",
       "      <td>0</td>\n",
       "      <td>0</td>\n",
       "      <td>0</td>\n",
       "      <td>1</td>\n",
       "      <td>0</td>\n",
       "      <td>1</td>\n",
       "      <td>0</td>\n",
       "      <td>4.0</td>\n",
       "      <td>1.0</td>\n",
       "    </tr>\n",
       "    <tr>\n",
       "      <th>2</th>\n",
       "      <td>NaN</td>\n",
       "      <td>0.0</td>\n",
       "      <td>0.0</td>\n",
       "      <td>4.0</td>\n",
       "      <td>1.0</td>\n",
       "      <td>0</td>\n",
       "      <td>0</td>\n",
       "      <td>0</td>\n",
       "      <td>0</td>\n",
       "      <td>0</td>\n",
       "      <td>...</td>\n",
       "      <td>0</td>\n",
       "      <td>0</td>\n",
       "      <td>0</td>\n",
       "      <td>0</td>\n",
       "      <td>0</td>\n",
       "      <td>1</td>\n",
       "      <td>1</td>\n",
       "      <td>0</td>\n",
       "      <td>1.0</td>\n",
       "      <td>0.0</td>\n",
       "    </tr>\n",
       "    <tr>\n",
       "      <th>3</th>\n",
       "      <td>4.0</td>\n",
       "      <td>2.0</td>\n",
       "      <td>0.0</td>\n",
       "      <td>4.0</td>\n",
       "      <td>2.0</td>\n",
       "      <td>0</td>\n",
       "      <td>0</td>\n",
       "      <td>6</td>\n",
       "      <td>0</td>\n",
       "      <td>0</td>\n",
       "      <td>...</td>\n",
       "      <td>0</td>\n",
       "      <td>0</td>\n",
       "      <td>0</td>\n",
       "      <td>1</td>\n",
       "      <td>0</td>\n",
       "      <td>0</td>\n",
       "      <td>0</td>\n",
       "      <td>1</td>\n",
       "      <td>1.0</td>\n",
       "      <td>0.0</td>\n",
       "    </tr>\n",
       "    <tr>\n",
       "      <th>4</th>\n",
       "      <td>53.0</td>\n",
       "      <td>1.0</td>\n",
       "      <td>0.0</td>\n",
       "      <td>3.0</td>\n",
       "      <td>4.0</td>\n",
       "      <td>7</td>\n",
       "      <td>0</td>\n",
       "      <td>0</td>\n",
       "      <td>0</td>\n",
       "      <td>0</td>\n",
       "      <td>...</td>\n",
       "      <td>0</td>\n",
       "      <td>0</td>\n",
       "      <td>0</td>\n",
       "      <td>1</td>\n",
       "      <td>0</td>\n",
       "      <td>0</td>\n",
       "      <td>1</td>\n",
       "      <td>0</td>\n",
       "      <td>2.0</td>\n",
       "      <td>1.0</td>\n",
       "    </tr>\n",
       "  </tbody>\n",
       "</table>\n",
       "<p>5 rows × 281 columns</p>\n",
       "</div>"
      ],
      "text/plain": [
       "   ANZ_HAUSHALTE_AKTIV  ANZ_PERSONEN  ANZ_TITEL  ARBEIT  BALLRAUM  \\\n",
       "0                 15.0           1.0        0.0     3.0       5.0   \n",
       "1                  1.0           2.0        0.0     2.0       5.0   \n",
       "2                  NaN           0.0        0.0     4.0       1.0   \n",
       "3                  4.0           2.0        0.0     4.0       2.0   \n",
       "4                 53.0           1.0        0.0     3.0       4.0   \n",
       "\n",
       "   D19_BILDUNG  D19_BIO_OEKO  D19_BUCH_CD  D19_DIGIT_SERV  \\\n",
       "0            0             0            0               0   \n",
       "1            0             0            0               0   \n",
       "2            0             0            0               0   \n",
       "3            0             0            6               0   \n",
       "4            7             0            0               0   \n",
       "\n",
       "   D19_DROGERIEARTIKEL    ...      NATIONALITAET_KZ_2  NATIONALITAET_KZ_3  \\\n",
       "0                    0    ...                       0                   0   \n",
       "1                    6    ...                       1                   0   \n",
       "2                    0    ...                       0                   0   \n",
       "3                    0    ...                       0                   0   \n",
       "4                    0    ...                       0                   0   \n",
       "\n",
       "   SHOPPER_TYP_0.0  SHOPPER_TYP_1.0  SHOPPER_TYP_2.0  SHOPPER_TYP_3.0  \\\n",
       "0                0                0                0                1   \n",
       "1                0                0                1                0   \n",
       "2                0                0                0                1   \n",
       "3                0                1                0                0   \n",
       "4                0                1                0                0   \n",
       "\n",
       "   VERS_TYP_1.0  VERS_TYP_2.0  Pra_j_dec  Pra_j_mov  \n",
       "0             0             1        1.0        1.0  \n",
       "1             1             0        4.0        1.0  \n",
       "2             1             0        1.0        0.0  \n",
       "3             0             1        1.0        0.0  \n",
       "4             1             0        2.0        1.0  \n",
       "\n",
       "[5 rows x 281 columns]"
      ]
     },
     "execution_count": 137,
     "metadata": {},
     "output_type": "execute_result"
    }
   ],
   "source": [
    "# Clean the training data \n",
    "mailout_train = clean_data(mailout_train)\n",
    "mailout_train.head()"
   ]
  },
  {
   "cell_type": "code",
   "execution_count": 138,
   "metadata": {},
   "outputs": [],
   "source": [
    "# Define the labels (y) to be the response column, and the rest of the columns to be X\n",
    "y = mailout_train['RESPONSE']\n",
    "mailout_train.drop(labels=['RESPONSE'], axis=1, inplace=True)"
   ]
  },
  {
   "cell_type": "code",
   "execution_count": 139,
   "metadata": {
    "scrolled": true
   },
   "outputs": [
    {
     "data": {
      "text/plain": [
       "0    33421\n",
       "1      416\n",
       "Name: RESPONSE, dtype: int64"
      ]
     },
     "execution_count": 139,
     "metadata": {},
     "output_type": "execute_result"
    }
   ],
   "source": [
    "y.value_counts()"
   ]
  },
  {
   "cell_type": "code",
   "execution_count": 26,
   "metadata": {
    "scrolled": true
   },
   "outputs": [
    {
     "data": {
      "text/html": [
       "<div>\n",
       "<style scoped>\n",
       "    .dataframe tbody tr th:only-of-type {\n",
       "        vertical-align: middle;\n",
       "    }\n",
       "\n",
       "    .dataframe tbody tr th {\n",
       "        vertical-align: top;\n",
       "    }\n",
       "\n",
       "    .dataframe thead th {\n",
       "        text-align: right;\n",
       "    }\n",
       "</style>\n",
       "<table border=\"1\" class=\"dataframe\">\n",
       "  <thead>\n",
       "    <tr style=\"text-align: right;\">\n",
       "      <th></th>\n",
       "      <th>ANZ_HAUSHALTE_AKTIV</th>\n",
       "      <th>ANZ_PERSONEN</th>\n",
       "      <th>ANZ_TITEL</th>\n",
       "      <th>ARBEIT</th>\n",
       "      <th>BALLRAUM</th>\n",
       "      <th>D19_BILDUNG</th>\n",
       "      <th>D19_BIO_OEKO</th>\n",
       "      <th>D19_BUCH_CD</th>\n",
       "      <th>D19_DIGIT_SERV</th>\n",
       "      <th>D19_DROGERIEARTIKEL</th>\n",
       "      <th>...</th>\n",
       "      <th>NATIONALITAET_KZ_2</th>\n",
       "      <th>NATIONALITAET_KZ_3</th>\n",
       "      <th>SHOPPER_TYP_0.0</th>\n",
       "      <th>SHOPPER_TYP_1.0</th>\n",
       "      <th>SHOPPER_TYP_2.0</th>\n",
       "      <th>SHOPPER_TYP_3.0</th>\n",
       "      <th>VERS_TYP_1.0</th>\n",
       "      <th>VERS_TYP_2.0</th>\n",
       "      <th>Pra_j_dec</th>\n",
       "      <th>Pra_j_mov</th>\n",
       "    </tr>\n",
       "  </thead>\n",
       "  <tbody>\n",
       "    <tr>\n",
       "      <th>0</th>\n",
       "      <td>15.000000</td>\n",
       "      <td>1.0</td>\n",
       "      <td>0.0</td>\n",
       "      <td>3.0</td>\n",
       "      <td>5.0</td>\n",
       "      <td>0.0</td>\n",
       "      <td>0.0</td>\n",
       "      <td>0.0</td>\n",
       "      <td>0.0</td>\n",
       "      <td>0.0</td>\n",
       "      <td>...</td>\n",
       "      <td>0.0</td>\n",
       "      <td>0.0</td>\n",
       "      <td>0.0</td>\n",
       "      <td>0.0</td>\n",
       "      <td>0.0</td>\n",
       "      <td>1.0</td>\n",
       "      <td>0.0</td>\n",
       "      <td>1.0</td>\n",
       "      <td>1.0</td>\n",
       "      <td>1.0</td>\n",
       "    </tr>\n",
       "    <tr>\n",
       "      <th>1</th>\n",
       "      <td>1.000000</td>\n",
       "      <td>2.0</td>\n",
       "      <td>0.0</td>\n",
       "      <td>2.0</td>\n",
       "      <td>5.0</td>\n",
       "      <td>0.0</td>\n",
       "      <td>0.0</td>\n",
       "      <td>0.0</td>\n",
       "      <td>0.0</td>\n",
       "      <td>6.0</td>\n",
       "      <td>...</td>\n",
       "      <td>1.0</td>\n",
       "      <td>0.0</td>\n",
       "      <td>0.0</td>\n",
       "      <td>0.0</td>\n",
       "      <td>1.0</td>\n",
       "      <td>0.0</td>\n",
       "      <td>1.0</td>\n",
       "      <td>0.0</td>\n",
       "      <td>4.0</td>\n",
       "      <td>1.0</td>\n",
       "    </tr>\n",
       "    <tr>\n",
       "      <th>2</th>\n",
       "      <td>6.631345</td>\n",
       "      <td>0.0</td>\n",
       "      <td>0.0</td>\n",
       "      <td>4.0</td>\n",
       "      <td>1.0</td>\n",
       "      <td>0.0</td>\n",
       "      <td>0.0</td>\n",
       "      <td>0.0</td>\n",
       "      <td>0.0</td>\n",
       "      <td>0.0</td>\n",
       "      <td>...</td>\n",
       "      <td>0.0</td>\n",
       "      <td>0.0</td>\n",
       "      <td>0.0</td>\n",
       "      <td>0.0</td>\n",
       "      <td>0.0</td>\n",
       "      <td>1.0</td>\n",
       "      <td>1.0</td>\n",
       "      <td>0.0</td>\n",
       "      <td>1.0</td>\n",
       "      <td>0.0</td>\n",
       "    </tr>\n",
       "    <tr>\n",
       "      <th>3</th>\n",
       "      <td>4.000000</td>\n",
       "      <td>2.0</td>\n",
       "      <td>0.0</td>\n",
       "      <td>4.0</td>\n",
       "      <td>2.0</td>\n",
       "      <td>0.0</td>\n",
       "      <td>0.0</td>\n",
       "      <td>6.0</td>\n",
       "      <td>0.0</td>\n",
       "      <td>0.0</td>\n",
       "      <td>...</td>\n",
       "      <td>0.0</td>\n",
       "      <td>0.0</td>\n",
       "      <td>0.0</td>\n",
       "      <td>1.0</td>\n",
       "      <td>0.0</td>\n",
       "      <td>0.0</td>\n",
       "      <td>0.0</td>\n",
       "      <td>1.0</td>\n",
       "      <td>1.0</td>\n",
       "      <td>0.0</td>\n",
       "    </tr>\n",
       "    <tr>\n",
       "      <th>4</th>\n",
       "      <td>53.000000</td>\n",
       "      <td>1.0</td>\n",
       "      <td>0.0</td>\n",
       "      <td>3.0</td>\n",
       "      <td>4.0</td>\n",
       "      <td>7.0</td>\n",
       "      <td>0.0</td>\n",
       "      <td>0.0</td>\n",
       "      <td>0.0</td>\n",
       "      <td>0.0</td>\n",
       "      <td>...</td>\n",
       "      <td>0.0</td>\n",
       "      <td>0.0</td>\n",
       "      <td>0.0</td>\n",
       "      <td>1.0</td>\n",
       "      <td>0.0</td>\n",
       "      <td>0.0</td>\n",
       "      <td>1.0</td>\n",
       "      <td>0.0</td>\n",
       "      <td>2.0</td>\n",
       "      <td>1.0</td>\n",
       "    </tr>\n",
       "  </tbody>\n",
       "</table>\n",
       "<p>5 rows × 280 columns</p>\n",
       "</div>"
      ],
      "text/plain": [
       "   ANZ_HAUSHALTE_AKTIV  ANZ_PERSONEN  ANZ_TITEL  ARBEIT  BALLRAUM  \\\n",
       "0            15.000000           1.0        0.0     3.0       5.0   \n",
       "1             1.000000           2.0        0.0     2.0       5.0   \n",
       "2             6.631345           0.0        0.0     4.0       1.0   \n",
       "3             4.000000           2.0        0.0     4.0       2.0   \n",
       "4            53.000000           1.0        0.0     3.0       4.0   \n",
       "\n",
       "   D19_BILDUNG  D19_BIO_OEKO  D19_BUCH_CD  D19_DIGIT_SERV  \\\n",
       "0          0.0           0.0          0.0             0.0   \n",
       "1          0.0           0.0          0.0             0.0   \n",
       "2          0.0           0.0          0.0             0.0   \n",
       "3          0.0           0.0          6.0             0.0   \n",
       "4          7.0           0.0          0.0             0.0   \n",
       "\n",
       "   D19_DROGERIEARTIKEL    ...      NATIONALITAET_KZ_2  NATIONALITAET_KZ_3  \\\n",
       "0                  0.0    ...                     0.0                 0.0   \n",
       "1                  6.0    ...                     1.0                 0.0   \n",
       "2                  0.0    ...                     0.0                 0.0   \n",
       "3                  0.0    ...                     0.0                 0.0   \n",
       "4                  0.0    ...                     0.0                 0.0   \n",
       "\n",
       "   SHOPPER_TYP_0.0  SHOPPER_TYP_1.0  SHOPPER_TYP_2.0  SHOPPER_TYP_3.0  \\\n",
       "0              0.0              0.0              0.0              1.0   \n",
       "1              0.0              0.0              1.0              0.0   \n",
       "2              0.0              0.0              0.0              1.0   \n",
       "3              0.0              1.0              0.0              0.0   \n",
       "4              0.0              1.0              0.0              0.0   \n",
       "\n",
       "   VERS_TYP_1.0  VERS_TYP_2.0  Pra_j_dec  Pra_j_mov  \n",
       "0           0.0           1.0        1.0        1.0  \n",
       "1           1.0           0.0        4.0        1.0  \n",
       "2           1.0           0.0        1.0        0.0  \n",
       "3           0.0           1.0        1.0        0.0  \n",
       "4           1.0           0.0        2.0        1.0  \n",
       "\n",
       "[5 rows x 280 columns]"
      ]
     },
     "execution_count": 26,
     "metadata": {},
     "output_type": "execute_result"
    }
   ],
   "source": [
    "\n",
    "mailout_train.head()"
   ]
  },
  {
   "cell_type": "code",
   "execution_count": 140,
   "metadata": {
    "scrolled": true
   },
   "outputs": [],
   "source": [
    "# Apply feature scaling to the train df\n",
    "imp = Imputer()\n",
    "mailout_imp=imp.fit_transform(mailout_train)\n",
    "\n",
    "mailout_df = pd.DataFrame(mailout_imp, columns = mailout_train.columns)\n",
    "\n",
    "scaler = StandardScaler()\n",
    "mailout_scaled_arr = scaler.fit_transform(mailout_df)\n",
    "\n",
    "mailout_scaled = pd.DataFrame(mailout_scaled_arr, columns = mailout_train.columns, index = mailout_train.index)\n"
   ]
  },
  {
   "cell_type": "code",
   "execution_count": 141,
   "metadata": {},
   "outputs": [
    {
     "data": {
      "text/html": [
       "<div>\n",
       "<style scoped>\n",
       "    .dataframe tbody tr th:only-of-type {\n",
       "        vertical-align: middle;\n",
       "    }\n",
       "\n",
       "    .dataframe tbody tr th {\n",
       "        vertical-align: top;\n",
       "    }\n",
       "\n",
       "    .dataframe thead th {\n",
       "        text-align: right;\n",
       "    }\n",
       "</style>\n",
       "<table border=\"1\" class=\"dataframe\">\n",
       "  <thead>\n",
       "    <tr style=\"text-align: right;\">\n",
       "      <th></th>\n",
       "      <th>ANZ_HAUSHALTE_AKTIV</th>\n",
       "      <th>ANZ_PERSONEN</th>\n",
       "      <th>ANZ_TITEL</th>\n",
       "      <th>ARBEIT</th>\n",
       "      <th>BALLRAUM</th>\n",
       "      <th>D19_BILDUNG</th>\n",
       "      <th>D19_BIO_OEKO</th>\n",
       "      <th>D19_BUCH_CD</th>\n",
       "      <th>D19_DIGIT_SERV</th>\n",
       "      <th>D19_DROGERIEARTIKEL</th>\n",
       "      <th>...</th>\n",
       "      <th>NATIONALITAET_KZ_2</th>\n",
       "      <th>NATIONALITAET_KZ_3</th>\n",
       "      <th>SHOPPER_TYP_0.0</th>\n",
       "      <th>SHOPPER_TYP_1.0</th>\n",
       "      <th>SHOPPER_TYP_2.0</th>\n",
       "      <th>SHOPPER_TYP_3.0</th>\n",
       "      <th>VERS_TYP_1.0</th>\n",
       "      <th>VERS_TYP_2.0</th>\n",
       "      <th>Pra_j_dec</th>\n",
       "      <th>Pra_j_mov</th>\n",
       "    </tr>\n",
       "  </thead>\n",
       "  <tbody>\n",
       "    <tr>\n",
       "      <th>0</th>\n",
       "      <td>5.645053e-01</td>\n",
       "      <td>-0.757329</td>\n",
       "      <td>-0.091169</td>\n",
       "      <td>-0.040938</td>\n",
       "      <td>0.336934</td>\n",
       "      <td>-0.509629</td>\n",
       "      <td>-0.375653</td>\n",
       "      <td>-1.063578</td>\n",
       "      <td>-0.214655</td>\n",
       "      <td>-0.427056</td>\n",
       "      <td>...</td>\n",
       "      <td>-0.142130</td>\n",
       "      <td>-0.119195</td>\n",
       "      <td>-0.463417</td>\n",
       "      <td>-0.586667</td>\n",
       "      <td>-0.465110</td>\n",
       "      <td>1.284174</td>\n",
       "      <td>-1.005839</td>\n",
       "      <td>1.029912</td>\n",
       "      <td>-1.317996</td>\n",
       "      <td>0.738358</td>\n",
       "    </tr>\n",
       "    <tr>\n",
       "      <th>1</th>\n",
       "      <td>-3.798608e-01</td>\n",
       "      <td>-0.024851</td>\n",
       "      <td>-0.091169</td>\n",
       "      <td>-1.009639</td>\n",
       "      <td>0.336934</td>\n",
       "      <td>-0.509629</td>\n",
       "      <td>-0.375653</td>\n",
       "      <td>-1.063578</td>\n",
       "      <td>-0.214655</td>\n",
       "      <td>2.715678</td>\n",
       "      <td>...</td>\n",
       "      <td>7.035836</td>\n",
       "      <td>-0.119195</td>\n",
       "      <td>-0.463417</td>\n",
       "      <td>-0.586667</td>\n",
       "      <td>2.150031</td>\n",
       "      <td>-0.778711</td>\n",
       "      <td>0.994195</td>\n",
       "      <td>-0.970957</td>\n",
       "      <td>0.885633</td>\n",
       "      <td>0.738358</td>\n",
       "    </tr>\n",
       "    <tr>\n",
       "      <th>2</th>\n",
       "      <td>-5.991183e-17</td>\n",
       "      <td>-1.489807</td>\n",
       "      <td>-0.091169</td>\n",
       "      <td>0.927763</td>\n",
       "      <td>-1.487340</td>\n",
       "      <td>-0.509629</td>\n",
       "      <td>-0.375653</td>\n",
       "      <td>-1.063578</td>\n",
       "      <td>-0.214655</td>\n",
       "      <td>-0.427056</td>\n",
       "      <td>...</td>\n",
       "      <td>-0.142130</td>\n",
       "      <td>-0.119195</td>\n",
       "      <td>-0.463417</td>\n",
       "      <td>-0.586667</td>\n",
       "      <td>-0.465110</td>\n",
       "      <td>1.284174</td>\n",
       "      <td>0.994195</td>\n",
       "      <td>-0.970957</td>\n",
       "      <td>-1.317996</td>\n",
       "      <td>-1.361600</td>\n",
       "    </tr>\n",
       "    <tr>\n",
       "      <th>3</th>\n",
       "      <td>-1.774967e-01</td>\n",
       "      <td>-0.024851</td>\n",
       "      <td>-0.091169</td>\n",
       "      <td>0.927763</td>\n",
       "      <td>-1.031271</td>\n",
       "      <td>-0.509629</td>\n",
       "      <td>-0.375653</td>\n",
       "      <td>1.040426</td>\n",
       "      <td>-0.214655</td>\n",
       "      <td>-0.427056</td>\n",
       "      <td>...</td>\n",
       "      <td>-0.142130</td>\n",
       "      <td>-0.119195</td>\n",
       "      <td>-0.463417</td>\n",
       "      <td>1.704544</td>\n",
       "      <td>-0.465110</td>\n",
       "      <td>-0.778711</td>\n",
       "      <td>-1.005839</td>\n",
       "      <td>1.029912</td>\n",
       "      <td>-1.317996</td>\n",
       "      <td>-1.361600</td>\n",
       "    </tr>\n",
       "    <tr>\n",
       "      <th>4</th>\n",
       "      <td>3.127785e+00</td>\n",
       "      <td>-0.757329</td>\n",
       "      <td>-0.091169</td>\n",
       "      <td>-0.040938</td>\n",
       "      <td>-0.119134</td>\n",
       "      <td>2.412286</td>\n",
       "      <td>-0.375653</td>\n",
       "      <td>-1.063578</td>\n",
       "      <td>-0.214655</td>\n",
       "      <td>-0.427056</td>\n",
       "      <td>...</td>\n",
       "      <td>-0.142130</td>\n",
       "      <td>-0.119195</td>\n",
       "      <td>-0.463417</td>\n",
       "      <td>1.704544</td>\n",
       "      <td>-0.465110</td>\n",
       "      <td>-0.778711</td>\n",
       "      <td>0.994195</td>\n",
       "      <td>-0.970957</td>\n",
       "      <td>-0.583453</td>\n",
       "      <td>0.738358</td>\n",
       "    </tr>\n",
       "  </tbody>\n",
       "</table>\n",
       "<p>5 rows × 280 columns</p>\n",
       "</div>"
      ],
      "text/plain": [
       "   ANZ_HAUSHALTE_AKTIV  ANZ_PERSONEN  ANZ_TITEL    ARBEIT  BALLRAUM  \\\n",
       "0         5.645053e-01     -0.757329  -0.091169 -0.040938  0.336934   \n",
       "1        -3.798608e-01     -0.024851  -0.091169 -1.009639  0.336934   \n",
       "2        -5.991183e-17     -1.489807  -0.091169  0.927763 -1.487340   \n",
       "3        -1.774967e-01     -0.024851  -0.091169  0.927763 -1.031271   \n",
       "4         3.127785e+00     -0.757329  -0.091169 -0.040938 -0.119134   \n",
       "\n",
       "   D19_BILDUNG  D19_BIO_OEKO  D19_BUCH_CD  D19_DIGIT_SERV  \\\n",
       "0    -0.509629     -0.375653    -1.063578       -0.214655   \n",
       "1    -0.509629     -0.375653    -1.063578       -0.214655   \n",
       "2    -0.509629     -0.375653    -1.063578       -0.214655   \n",
       "3    -0.509629     -0.375653     1.040426       -0.214655   \n",
       "4     2.412286     -0.375653    -1.063578       -0.214655   \n",
       "\n",
       "   D19_DROGERIEARTIKEL    ...      NATIONALITAET_KZ_2  NATIONALITAET_KZ_3  \\\n",
       "0            -0.427056    ...               -0.142130           -0.119195   \n",
       "1             2.715678    ...                7.035836           -0.119195   \n",
       "2            -0.427056    ...               -0.142130           -0.119195   \n",
       "3            -0.427056    ...               -0.142130           -0.119195   \n",
       "4            -0.427056    ...               -0.142130           -0.119195   \n",
       "\n",
       "   SHOPPER_TYP_0.0  SHOPPER_TYP_1.0  SHOPPER_TYP_2.0  SHOPPER_TYP_3.0  \\\n",
       "0        -0.463417        -0.586667        -0.465110         1.284174   \n",
       "1        -0.463417        -0.586667         2.150031        -0.778711   \n",
       "2        -0.463417        -0.586667        -0.465110         1.284174   \n",
       "3        -0.463417         1.704544        -0.465110        -0.778711   \n",
       "4        -0.463417         1.704544        -0.465110        -0.778711   \n",
       "\n",
       "   VERS_TYP_1.0  VERS_TYP_2.0  Pra_j_dec  Pra_j_mov  \n",
       "0     -1.005839      1.029912  -1.317996   0.738358  \n",
       "1      0.994195     -0.970957   0.885633   0.738358  \n",
       "2      0.994195     -0.970957  -1.317996  -1.361600  \n",
       "3     -1.005839      1.029912  -1.317996  -1.361600  \n",
       "4      0.994195     -0.970957  -0.583453   0.738358  \n",
       "\n",
       "[5 rows x 280 columns]"
      ]
     },
     "execution_count": 141,
     "metadata": {},
     "output_type": "execute_result"
    }
   ],
   "source": [
    "mailout_scaled.head()"
   ]
  },
  {
   "cell_type": "markdown",
   "metadata": {},
   "source": [
    "<a id='training'></a>\n",
    "### 4.1 Model Training"
   ]
  },
  {
   "cell_type": "code",
   "execution_count": 142,
   "metadata": {},
   "outputs": [],
   "source": [
    "def classifier_grid(clf, param_grid, X_train=mailout_scaled, y_train=y):\n",
    "    \"\"\"\n",
    "    Fits a classifier to its training data and prints its ROC AUC score.\n",
    "    \n",
    "    INPUT:\n",
    "    - clf (classifier): classifier to fit\n",
    "    - param_grid (dict): classifier parameters used with GridSearchCV\n",
    "    - X_train (DataFrame): training input\n",
    "    - y_train (DataFrame): training output\n",
    "            \n",
    "    OUTPUT:\n",
    "    - classifier: input classifier fitted to the training data\n",
    "    \"\"\"\n",
    "    \n",
    "    # cv uses StratifiedKFold\n",
    "    # scoring roc_auc available as parameter\n",
    "    grid = GridSearchCV(estimator=clf, param_grid=param_grid, scoring='roc_auc', cv=5)\n",
    "    grid.fit(X_train, y_train)\n",
    "    print(grid.best_score_)\n",
    "    \n",
    "    return grid.best_estimator_"
   ]
  },
  {
   "cell_type": "code",
   "execution_count": 143,
   "metadata": {},
   "outputs": [
    {
     "name": "stdout",
     "output_type": "stream",
     "text": [
      "0.587993692143\n"
     ]
    },
    {
     "data": {
      "text/plain": [
       "LogisticRegression(C=1.0, class_weight=None, dual=False, fit_intercept=True,\n",
       "          intercept_scaling=1, max_iter=100, multi_class='ovr', n_jobs=1,\n",
       "          penalty='l2', random_state=12, solver='liblinear', tol=0.0001,\n",
       "          verbose=0, warm_start=False)"
      ]
     },
     "execution_count": 143,
     "metadata": {},
     "output_type": "execute_result"
    }
   ],
   "source": [
    "\n",
    "# LogisticRegression\n",
    "clf_a = LogisticRegression(random_state=12)\n",
    "classifier_grid(clf_a, {})"
   ]
  },
  {
   "cell_type": "code",
   "execution_count": 145,
   "metadata": {
    "scrolled": true
   },
   "outputs": [
    {
     "name": "stdout",
     "output_type": "stream",
     "text": [
      "0.498544731883\n"
     ]
    },
    {
     "data": {
      "text/plain": [
       "RandomForestClassifier(bootstrap=True, class_weight=None, criterion='gini',\n",
       "            max_depth=None, max_features='auto', max_leaf_nodes=None,\n",
       "            min_impurity_decrease=0.0, min_impurity_split=None,\n",
       "            min_samples_leaf=1, min_samples_split=2,\n",
       "            min_weight_fraction_leaf=0.0, n_estimators=10, n_jobs=1,\n",
       "            oob_score=False, random_state=12, verbose=0, warm_start=False)"
      ]
     },
     "execution_count": 145,
     "metadata": {},
     "output_type": "execute_result"
    }
   ],
   "source": [
    "# RandomForestClassifier\n",
    "clf_b = RandomForestClassifier(random_state=12)\n",
    "classifier_grid(clf_b, {})"
   ]
  },
  {
   "cell_type": "code",
   "execution_count": 39,
   "metadata": {
    "scrolled": true
   },
   "outputs": [
    {
     "name": "stdout",
     "output_type": "stream",
     "text": [
      "0.548190249466\n"
     ]
    },
    {
     "data": {
      "text/plain": [
       "GradientBoostingClassifier(criterion='friedman_mse', init=None,\n",
       "              learning_rate=0.1, loss='deviance', max_depth=3,\n",
       "              max_features=None, max_leaf_nodes=None,\n",
       "              min_impurity_decrease=0.0, min_impurity_split=None,\n",
       "              min_samples_leaf=1, min_samples_split=2,\n",
       "              min_weight_fraction_leaf=0.0, n_estimators=100,\n",
       "              presort='auto', random_state=12, subsample=1.0, verbose=0,\n",
       "              warm_start=False)"
      ]
     },
     "execution_count": 39,
     "metadata": {},
     "output_type": "execute_result"
    }
   ],
   "source": [
    "# GradientBoostingClassifier\n",
    "clf_c = GradientBoostingClassifier(random_state=12)\n",
    "classifier_grid(clf_c, {})"
   ]
  },
  {
   "cell_type": "code",
   "execution_count": 37,
   "metadata": {},
   "outputs": [
    {
     "name": "stdout",
     "output_type": "stream",
     "text": [
      "0.543607673822\n"
     ]
    },
    {
     "data": {
      "text/plain": [
       "AdaBoostClassifier(algorithm='SAMME.R', base_estimator=None,\n",
       "          learning_rate=1.0, n_estimators=50, random_state=12)"
      ]
     },
     "execution_count": 37,
     "metadata": {},
     "output_type": "execute_result"
    }
   ],
   "source": [
    "# AdaBoostClassifier\n",
    "clf_d = AdaBoostClassifier(random_state=12)\n",
    "classifier_grid(clf_d, {})"
   ]
  },
  {
   "cell_type": "markdown",
   "metadata": {},
   "source": [
    "<a id='tuning'></a>\n",
    "### 4.2 Model Tuning"
   ]
  },
  {
   "cell_type": "code",
   "execution_count": 147,
   "metadata": {},
   "outputs": [
    {
     "name": "stdout",
     "output_type": "stream",
     "text": [
      "0.558805586645\n"
     ]
    },
    {
     "data": {
      "text/plain": [
       "GradientBoostingClassifier(criterion='friedman_mse', init=None,\n",
       "              learning_rate=0.1, loss='deviance', max_depth=3,\n",
       "              max_features=6, max_leaf_nodes=None,\n",
       "              min_impurity_decrease=0.0, min_impurity_split=None,\n",
       "              min_samples_leaf=1, min_samples_split=2,\n",
       "              min_weight_fraction_leaf=0.0, n_estimators=100,\n",
       "              presort='auto', random_state=12, subsample=1.0, verbose=0,\n",
       "              warm_start=False)"
      ]
     },
     "execution_count": 147,
     "metadata": {},
     "output_type": "execute_result"
    }
   ],
   "source": [
    "# initialize the best classifier\n",
    "clf = GradientBoostingClassifier(random_state=12)\n",
    "param_grid = {\"learning_rate\": [0.1], \n",
    "              \"loss\": ['deviance'], \n",
    "              \"max_features\": [6]\n",
    "             }\n",
    "\n",
    "\n",
    "clf_best_est = classifier_grid(clf, param_grid)\n",
    "clf_best_est"
   ]
  },
  {
   "cell_type": "code",
   "execution_count": 150,
   "metadata": {},
   "outputs": [
    {
     "name": "stdout",
     "output_type": "stream",
     "text": [
      "0.572817422953\n"
     ]
    },
    {
     "data": {
      "text/plain": [
       "AdaBoostClassifier(algorithm='SAMME.R', base_estimator=None,\n",
       "          learning_rate=1.0, n_estimators=100, random_state=12)"
      ]
     },
     "execution_count": 150,
     "metadata": {},
     "output_type": "execute_result"
    }
   ],
   "source": [
    "clf_a = AdaBoostClassifier(random_state=12)\n",
    "param_grid = {'n_estimators':[50,100],\n",
    "             'learning_rate': [1.0, 0.05]\n",
    "             }\n",
    "\n",
    "\n",
    "clf_a_best_est = classifier_grid(clf_a, param_grid)\n",
    "clf_a_best_est"
   ]
  },
  {
   "cell_type": "markdown",
   "metadata": {},
   "source": [
    "<a id='importance'></a>\n",
    "### 4.3 Feature Importance"
   ]
  },
  {
   "cell_type": "code",
   "execution_count": 148,
   "metadata": {},
   "outputs": [
    {
     "data": {
      "image/png": "[encoded data removed]",
      "text/plain": [
       "<matplotlib.figure.Figure at 0x7f85b85a6dd8>"
      ]
     },
     "metadata": {
      "needs_background": "light"
     },
     "output_type": "display_data"
    }
   ],
   "source": [
    "features = mailout_scaled.columns[:mailout_scaled.shape[1]]\n",
    "importances = clf_best_est.feature_importances_\n",
    "indices = np.argsort(importances)\n",
    "\n",
    "plt.title('Feature Importances')\n",
    "plt.barh(range(len(indices)), importances[indices], color='b', align='center')\n",
    "plt.yticks(range(len(indices)), features[indices])\n",
    "plt.xlabel('Relative Importance');"
   ]
  },
  {
   "cell_type": "code",
   "execution_count": 149,
   "metadata": {
    "scrolled": true
   },
   "outputs": [
    {
     "data": {
      "text/html": [
       "<div>\n",
       "<style scoped>\n",
       "    .dataframe tbody tr th:only-of-type {\n",
       "        vertical-align: middle;\n",
       "    }\n",
       "\n",
       "    .dataframe tbody tr th {\n",
       "        vertical-align: top;\n",
       "    }\n",
       "\n",
       "    .dataframe thead th {\n",
       "        text-align: right;\n",
       "    }\n",
       "</style>\n",
       "<table border=\"1\" class=\"dataframe\">\n",
       "  <thead>\n",
       "    <tr style=\"text-align: right;\">\n",
       "      <th></th>\n",
       "      <th>FI</th>\n",
       "    </tr>\n",
       "  </thead>\n",
       "  <tbody>\n",
       "    <tr>\n",
       "      <th>KBA13_ANZAHL_PKW</th>\n",
       "      <td>0.024039</td>\n",
       "    </tr>\n",
       "    <tr>\n",
       "      <th>KBA05_KW2</th>\n",
       "      <td>0.016155</td>\n",
       "    </tr>\n",
       "    <tr>\n",
       "      <th>Pra_j_dec</th>\n",
       "      <td>0.014972</td>\n",
       "    </tr>\n",
       "    <tr>\n",
       "      <th>KBA05_SEG2</th>\n",
       "      <td>0.014551</td>\n",
       "    </tr>\n",
       "    <tr>\n",
       "      <th>KBA13_HERST_EUROPA</th>\n",
       "      <td>0.014428</td>\n",
       "    </tr>\n",
       "    <tr>\n",
       "      <th>D19_SONSTIGE</th>\n",
       "      <td>0.013132</td>\n",
       "    </tr>\n",
       "    <tr>\n",
       "      <th>W_KEIT_KIND_HH</th>\n",
       "      <td>0.013064</td>\n",
       "    </tr>\n",
       "    <tr>\n",
       "      <th>KBA13_KW_60</th>\n",
       "      <td>0.012766</td>\n",
       "    </tr>\n",
       "    <tr>\n",
       "      <th>MIN_GEBAEUDEJAHR</th>\n",
       "      <td>0.012729</td>\n",
       "    </tr>\n",
       "    <tr>\n",
       "      <th>KBA13_HERST_ASIEN</th>\n",
       "      <td>0.012492</td>\n",
       "    </tr>\n",
       "  </tbody>\n",
       "</table>\n",
       "</div>"
      ],
      "text/plain": [
       "                          FI\n",
       "KBA13_ANZAHL_PKW    0.024039\n",
       "KBA05_KW2           0.016155\n",
       "Pra_j_dec           0.014972\n",
       "KBA05_SEG2          0.014551\n",
       "KBA13_HERST_EUROPA  0.014428\n",
       "D19_SONSTIGE        0.013132\n",
       "W_KEIT_KIND_HH      0.013064\n",
       "KBA13_KW_60         0.012766\n",
       "MIN_GEBAEUDEJAHR    0.012729\n",
       "KBA13_HERST_ASIEN   0.012492"
      ]
     },
     "execution_count": 149,
     "metadata": {},
     "output_type": "execute_result"
    }
   ],
   "source": [
    "fi = pd.DataFrame({'FI':clf_best_est.feature_importances_}, index=mailout_train.columns)\n",
    "fi_sorted = fi.sort_values(by=['FI'], ascending=False)\n",
    "fi_sorted.head(10)"
   ]
  },
  {
   "cell_type": "code",
   "execution_count": 151,
   "metadata": {
    "scrolled": true
   },
   "outputs": [
    {
     "data": {
      "text/html": [
       "<div>\n",
       "<style scoped>\n",
       "    .dataframe tbody tr th:only-of-type {\n",
       "        vertical-align: middle;\n",
       "    }\n",
       "\n",
       "    .dataframe tbody tr th {\n",
       "        vertical-align: top;\n",
       "    }\n",
       "\n",
       "    .dataframe thead th {\n",
       "        text-align: right;\n",
       "    }\n",
       "</style>\n",
       "<table border=\"1\" class=\"dataframe\">\n",
       "  <thead>\n",
       "    <tr style=\"text-align: right;\">\n",
       "      <th></th>\n",
       "      <th>FI</th>\n",
       "    </tr>\n",
       "  </thead>\n",
       "  <tbody>\n",
       "    <tr>\n",
       "      <th>ANZ_HAUSHALTE_AKTIV</th>\n",
       "      <td>0.03</td>\n",
       "    </tr>\n",
       "    <tr>\n",
       "      <th>SEMIO_FAM</th>\n",
       "      <td>0.02</td>\n",
       "    </tr>\n",
       "    <tr>\n",
       "      <th>KBA05_ANHANG</th>\n",
       "      <td>0.02</td>\n",
       "    </tr>\n",
       "    <tr>\n",
       "      <th>KBA05_ZUL4</th>\n",
       "      <td>0.02</td>\n",
       "    </tr>\n",
       "    <tr>\n",
       "      <th>KBA13_BJ_2004</th>\n",
       "      <td>0.02</td>\n",
       "    </tr>\n",
       "    <tr>\n",
       "      <th>KBA13_CCM_1200</th>\n",
       "      <td>0.02</td>\n",
       "    </tr>\n",
       "    <tr>\n",
       "      <th>KBA13_CCM_1400</th>\n",
       "      <td>0.02</td>\n",
       "    </tr>\n",
       "    <tr>\n",
       "      <th>D19_SAMMELARTIKEL</th>\n",
       "      <td>0.02</td>\n",
       "    </tr>\n",
       "    <tr>\n",
       "      <th>KBA05_HERST3</th>\n",
       "      <td>0.02</td>\n",
       "    </tr>\n",
       "    <tr>\n",
       "      <th>SEMIO_VERT</th>\n",
       "      <td>0.01</td>\n",
       "    </tr>\n",
       "  </tbody>\n",
       "</table>\n",
       "</div>"
      ],
      "text/plain": [
       "                       FI\n",
       "ANZ_HAUSHALTE_AKTIV  0.03\n",
       "SEMIO_FAM            0.02\n",
       "KBA05_ANHANG         0.02\n",
       "KBA05_ZUL4           0.02\n",
       "KBA13_BJ_2004        0.02\n",
       "KBA13_CCM_1200       0.02\n",
       "KBA13_CCM_1400       0.02\n",
       "D19_SAMMELARTIKEL    0.02\n",
       "KBA05_HERST3         0.02\n",
       "SEMIO_VERT           0.01"
      ]
     },
     "execution_count": 151,
     "metadata": {},
     "output_type": "execute_result"
    }
   ],
   "source": [
    "fi = pd.DataFrame({'FI':clf_a_best_est.feature_importances_}, index=mailout_train.columns)\n",
    "fi_sorted = fi.sort_values(by=['FI'], ascending=False)\n",
    "fi_sorted.head(10)"
   ]
  },
  {
   "cell_type": "markdown",
   "metadata": {},
   "source": [
    "## Part 3: Kaggle Competition\n",
    "\n",
    "Now that you've created a model to predict which individuals are most likely to respond to a mailout campaign, it's time to test that model in competition through Kaggle. If you click on the link [here](http://www.kaggle.com/t/21e6d45d4c574c7fa2d868f0e8c83140), you'll be taken to the competition page where, if you have a Kaggle account, you can enter. If you're one of the top performers, you may have the chance to be contacted by a hiring manager from Arvato or Bertelsmann for an interview!\n",
    "\n",
    "Your entry to the competition should be a CSV file with two columns. The first column should be a copy of \"LNR\", which acts as an ID number for each individual in the \"TEST\" partition. The second column, \"RESPONSE\", should be some measure of how likely each individual became a customer – this might not be a straightforward probability. As you should have found in Part 2, there is a large output class imbalance, where most individuals did not respond to the mailout. Thus, predicting individual classes and using accuracy does not seem to be an appropriate performance evaluation method. Instead, the competition will be using AUC to evaluate performance. The exact values of the \"RESPONSE\" column do not matter as much: only that the higher values try to capture as many of the actual customers as possible, early in the ROC curve sweep."
   ]
  },
  {
   "cell_type": "code",
   "execution_count": 169,
   "metadata": {},
   "outputs": [
    {
     "name": "stderr",
     "output_type": "stream",
     "text": [
      "/opt/conda/lib/python3.6/site-packages/IPython/core/interactiveshell.py:2785: DtypeWarning: Columns (18,19) have mixed types. Specify dtype option on import or set low_memory=False.\n",
      "  interactivity=interactivity, compiler=compiler, result=result)\n"
     ]
    }
   ],
   "source": [
    "mailout_test = pd.read_csv('../../data/Term2/capstone/arvato_data/Udacity_MAILOUT_052018_TEST.csv', sep=';')"
   ]
  },
  {
   "cell_type": "code",
   "execution_count": 162,
   "metadata": {},
   "outputs": [],
   "source": []
  },
  {
   "cell_type": "code",
   "execution_count": 170,
   "metadata": {},
   "outputs": [
    {
     "name": "stdout",
     "output_type": "stream",
     "text": [
      "Features in mailout test that are not in feat_list:\n",
      "53\n",
      "['DSL_FLAG', 'RT_KEIN_ANREIZ', 'D19_TELKO_ONLINE_QUOTE_12', 'KBA13_GBZ', 'LNR', 'EXTSEL992', 'KBA13_ANTG3', 'KBA13_HHZ', 'ALTERSKATEGORIE_FEIN', 'CJT_TYP_3', 'KBA13_ANTG4', 'RT_UEBERGROESSE', 'RT_SCHNAEPPCHEN', 'GEMEINDETYP', 'CJT_TYP_6', 'KBA13_ANTG1', 'VHA', 'ANZ_STATISTISCHE_HAUSHALTE', 'UNGLEICHENN_FLAG', 'EINGEFUEGT_AM', 'STRUKTURTYP', 'CJT_KATALOGNUTZER', 'MOBI_RASTER', 'AKT_DAT_KL', 'CJT_TYP_1', 'VHN', 'CJT_TYP_4', 'ANZ_KINDER', 'VK_DISTANZ', 'HH_DELTA_FLAG', 'KBA13_KMH_210', 'D19_KONSUMTYP_MAX', 'KBA13_ANTG2', 'CJT_TYP_5', 'VK_DHT4A', 'KONSUMZELLE', 'D19_VERSI_ONLINE_QUOTE_12', 'ALTER_KIND3', 'D19_LETZTER_KAUF_BRANCHE', 'CJT_TYP_2', 'KOMBIALTER', 'D19_SOZIALES', 'UMFELD_ALT', 'FIRMENDICHTE', 'UMFELD_JUNG', 'VERDICHTUNGSRAUM', 'VK_ZG11', 'KBA13_BAUMAX', 'EINGEZOGENAM_HH_JAHR', 'ALTER_KIND1', 'ALTER_KIND2', 'ALTER_KIND4', 'KBA13_CCM_1401_2500']\n",
      "***\n"
     ]
    }
   ],
   "source": [
    "diff_not_in_mailout_test = list(set(mailout_test) - set(feat_list))\n",
    "print('Features in mailout test that are not in feat_list:')\n",
    "print(len(diff_not_in_mailout_test))\n",
    "print(diff_not_in_mailout_test)\n",
    "print('***')"
   ]
  },
  {
   "cell_type": "code",
   "execution_count": 171,
   "metadata": {},
   "outputs": [],
   "source": [
    "cols_to_drop_test = ['DSL_FLAG', 'RT_KEIN_ANREIZ', 'D19_TELKO_ONLINE_QUOTE_12', 'KBA13_GBZ','EXTSEL992', 'KBA13_ANTG3', 'KBA13_HHZ', 'ALTERSKATEGORIE_FEIN', 'CJT_TYP_3', 'KBA13_ANTG4', 'RT_UEBERGROESSE', 'RT_SCHNAEPPCHEN', 'GEMEINDETYP', 'CJT_TYP_6', 'KBA13_ANTG1', 'VHA', 'ANZ_STATISTISCHE_HAUSHALTE', 'UNGLEICHENN_FLAG', 'EINGEFUEGT_AM', 'STRUKTURTYP', 'CJT_KATALOGNUTZER', 'MOBI_RASTER', 'AKT_DAT_KL', 'CJT_TYP_1', 'VHN', 'CJT_TYP_4', 'ANZ_KINDER', 'VK_DISTANZ', 'HH_DELTA_FLAG', 'KBA13_KMH_210', 'D19_KONSUMTYP_MAX', 'KBA13_ANTG2', 'CJT_TYP_5', 'VK_DHT4A', 'KONSUMZELLE', 'D19_VERSI_ONLINE_QUOTE_12', 'ALTER_KIND3', 'D19_LETZTER_KAUF_BRANCHE', 'CJT_TYP_2', 'KOMBIALTER', 'D19_SOZIALES', 'UMFELD_ALT', 'FIRMENDICHTE', 'UMFELD_JUNG', 'VERDICHTUNGSRAUM', 'VK_ZG11', 'KBA13_BAUMAX', 'EINGEZOGENAM_HH_JAHR', 'ALTER_KIND1', 'ALTER_KIND2', 'ALTER_KIND4', 'KBA13_CCM_1401_2500']"
   ]
  },
  {
   "cell_type": "code",
   "execution_count": 172,
   "metadata": {},
   "outputs": [],
   "source": [
    "mailout_test.drop(labels=cols_to_drop_test, axis=1, inplace=True)"
   ]
  },
  {
   "cell_type": "code",
   "execution_count": 173,
   "metadata": {},
   "outputs": [
    {
     "data": {
      "text/plain": [
       "(42833, 314)"
      ]
     },
     "execution_count": 173,
     "metadata": {},
     "output_type": "execute_result"
    }
   ],
   "source": [
    "mailout_test.shape"
   ]
  },
  {
   "cell_type": "code",
   "execution_count": 174,
   "metadata": {
    "scrolled": false
   },
   "outputs": [
    {
     "name": "stderr",
     "output_type": "stream",
     "text": [
      "/opt/conda/lib/python3.6/site-packages/pandas/core/generic.py:5890: SettingWithCopyWarning: \n",
      "A value is trying to be set on a copy of a slice from a DataFrame\n",
      "\n",
      "See the caveats in the documentation: http://pandas.pydata.org/pandas-docs/stable/indexing.html#indexing-view-versus-copy\n",
      "  self._update_inplace(new_data)\n"
     ]
    },
    {
     "data": {
      "text/html": [
       "<div>\n",
       "<style scoped>\n",
       "    .dataframe tbody tr th:only-of-type {\n",
       "        vertical-align: middle;\n",
       "    }\n",
       "\n",
       "    .dataframe tbody tr th {\n",
       "        vertical-align: top;\n",
       "    }\n",
       "\n",
       "    .dataframe thead th {\n",
       "        text-align: right;\n",
       "    }\n",
       "</style>\n",
       "<table border=\"1\" class=\"dataframe\">\n",
       "  <thead>\n",
       "    <tr style=\"text-align: right;\">\n",
       "      <th></th>\n",
       "      <th>LNR</th>\n",
       "      <th>ANZ_HAUSHALTE_AKTIV</th>\n",
       "      <th>ANZ_PERSONEN</th>\n",
       "      <th>ANZ_TITEL</th>\n",
       "      <th>ARBEIT</th>\n",
       "      <th>BALLRAUM</th>\n",
       "      <th>D19_BILDUNG</th>\n",
       "      <th>D19_BIO_OEKO</th>\n",
       "      <th>D19_BUCH_CD</th>\n",
       "      <th>D19_DIGIT_SERV</th>\n",
       "      <th>...</th>\n",
       "      <th>NATIONALITAET_KZ_2</th>\n",
       "      <th>NATIONALITAET_KZ_3</th>\n",
       "      <th>SHOPPER_TYP_0.0</th>\n",
       "      <th>SHOPPER_TYP_1.0</th>\n",
       "      <th>SHOPPER_TYP_2.0</th>\n",
       "      <th>SHOPPER_TYP_3.0</th>\n",
       "      <th>VERS_TYP_1.0</th>\n",
       "      <th>VERS_TYP_2.0</th>\n",
       "      <th>Pra_j_dec</th>\n",
       "      <th>Pra_j_mov</th>\n",
       "    </tr>\n",
       "  </thead>\n",
       "  <tbody>\n",
       "    <tr>\n",
       "      <th>0</th>\n",
       "      <td>1754</td>\n",
       "      <td>2.0</td>\n",
       "      <td>2.0</td>\n",
       "      <td>0.0</td>\n",
       "      <td>3.0</td>\n",
       "      <td>6.0</td>\n",
       "      <td>0</td>\n",
       "      <td>0</td>\n",
       "      <td>0</td>\n",
       "      <td>0</td>\n",
       "      <td>...</td>\n",
       "      <td>0</td>\n",
       "      <td>0</td>\n",
       "      <td>0</td>\n",
       "      <td>0</td>\n",
       "      <td>0</td>\n",
       "      <td>1</td>\n",
       "      <td>1</td>\n",
       "      <td>0</td>\n",
       "      <td>1.0</td>\n",
       "      <td>0.0</td>\n",
       "    </tr>\n",
       "    <tr>\n",
       "      <th>1</th>\n",
       "      <td>1770</td>\n",
       "      <td>20.0</td>\n",
       "      <td>1.0</td>\n",
       "      <td>0.0</td>\n",
       "      <td>4.0</td>\n",
       "      <td>7.0</td>\n",
       "      <td>0</td>\n",
       "      <td>0</td>\n",
       "      <td>7</td>\n",
       "      <td>0</td>\n",
       "      <td>...</td>\n",
       "      <td>0</td>\n",
       "      <td>0</td>\n",
       "      <td>0</td>\n",
       "      <td>0</td>\n",
       "      <td>1</td>\n",
       "      <td>0</td>\n",
       "      <td>1</td>\n",
       "      <td>0</td>\n",
       "      <td>3.0</td>\n",
       "      <td>1.0</td>\n",
       "    </tr>\n",
       "    <tr>\n",
       "      <th>2</th>\n",
       "      <td>1465</td>\n",
       "      <td>2.0</td>\n",
       "      <td>4.0</td>\n",
       "      <td>0.0</td>\n",
       "      <td>4.0</td>\n",
       "      <td>1.0</td>\n",
       "      <td>0</td>\n",
       "      <td>0</td>\n",
       "      <td>6</td>\n",
       "      <td>0</td>\n",
       "      <td>...</td>\n",
       "      <td>0</td>\n",
       "      <td>0</td>\n",
       "      <td>0</td>\n",
       "      <td>0</td>\n",
       "      <td>0</td>\n",
       "      <td>1</td>\n",
       "      <td>1</td>\n",
       "      <td>0</td>\n",
       "      <td>3.0</td>\n",
       "      <td>0.0</td>\n",
       "    </tr>\n",
       "    <tr>\n",
       "      <th>3</th>\n",
       "      <td>1470</td>\n",
       "      <td>1.0</td>\n",
       "      <td>0.0</td>\n",
       "      <td>0.0</td>\n",
       "      <td>4.0</td>\n",
       "      <td>1.0</td>\n",
       "      <td>0</td>\n",
       "      <td>0</td>\n",
       "      <td>0</td>\n",
       "      <td>0</td>\n",
       "      <td>...</td>\n",
       "      <td>0</td>\n",
       "      <td>0</td>\n",
       "      <td>0</td>\n",
       "      <td>0</td>\n",
       "      <td>0</td>\n",
       "      <td>1</td>\n",
       "      <td>0</td>\n",
       "      <td>1</td>\n",
       "      <td>3.0</td>\n",
       "      <td>1.0</td>\n",
       "    </tr>\n",
       "    <tr>\n",
       "      <th>4</th>\n",
       "      <td>1478</td>\n",
       "      <td>1.0</td>\n",
       "      <td>4.0</td>\n",
       "      <td>0.0</td>\n",
       "      <td>3.0</td>\n",
       "      <td>6.0</td>\n",
       "      <td>5</td>\n",
       "      <td>0</td>\n",
       "      <td>3</td>\n",
       "      <td>0</td>\n",
       "      <td>...</td>\n",
       "      <td>0</td>\n",
       "      <td>0</td>\n",
       "      <td>0</td>\n",
       "      <td>0</td>\n",
       "      <td>0</td>\n",
       "      <td>1</td>\n",
       "      <td>1</td>\n",
       "      <td>0</td>\n",
       "      <td>4.0</td>\n",
       "      <td>1.0</td>\n",
       "    </tr>\n",
       "  </tbody>\n",
       "</table>\n",
       "<p>5 rows × 281 columns</p>\n",
       "</div>"
      ],
      "text/plain": [
       "    LNR  ANZ_HAUSHALTE_AKTIV  ANZ_PERSONEN  ANZ_TITEL  ARBEIT  BALLRAUM  \\\n",
       "0  1754                  2.0           2.0        0.0     3.0       6.0   \n",
       "1  1770                 20.0           1.0        0.0     4.0       7.0   \n",
       "2  1465                  2.0           4.0        0.0     4.0       1.0   \n",
       "3  1470                  1.0           0.0        0.0     4.0       1.0   \n",
       "4  1478                  1.0           4.0        0.0     3.0       6.0   \n",
       "\n",
       "   D19_BILDUNG  D19_BIO_OEKO  D19_BUCH_CD  D19_DIGIT_SERV    ...      \\\n",
       "0            0             0            0               0    ...       \n",
       "1            0             0            7               0    ...       \n",
       "2            0             0            6               0    ...       \n",
       "3            0             0            0               0    ...       \n",
       "4            5             0            3               0    ...       \n",
       "\n",
       "   NATIONALITAET_KZ_2  NATIONALITAET_KZ_3  SHOPPER_TYP_0.0  SHOPPER_TYP_1.0  \\\n",
       "0                   0                   0                0                0   \n",
       "1                   0                   0                0                0   \n",
       "2                   0                   0                0                0   \n",
       "3                   0                   0                0                0   \n",
       "4                   0                   0                0                0   \n",
       "\n",
       "   SHOPPER_TYP_2.0  SHOPPER_TYP_3.0  VERS_TYP_1.0  VERS_TYP_2.0  Pra_j_dec  \\\n",
       "0                0                1             1             0        1.0   \n",
       "1                1                0             1             0        3.0   \n",
       "2                0                1             1             0        3.0   \n",
       "3                0                1             0             1        3.0   \n",
       "4                0                1             1             0        4.0   \n",
       "\n",
       "   Pra_j_mov  \n",
       "0        0.0  \n",
       "1        1.0  \n",
       "2        0.0  \n",
       "3        1.0  \n",
       "4        1.0  \n",
       "\n",
       "[5 rows x 281 columns]"
      ]
     },
     "execution_count": 174,
     "metadata": {},
     "output_type": "execute_result"
    }
   ],
   "source": [
    "# Clean the test data \n",
    "mailout_test = clean_data(mailout_test)\n",
    "mailout_test.head()"
   ]
  },
  {
   "cell_type": "code",
   "execution_count": 175,
   "metadata": {},
   "outputs": [],
   "source": [
    "# extract lnr\n",
    "test_LNR = mailout_test['LNR']\n",
    "mailout_test.drop(labels=['LNR'], axis=1, inplace=True)"
   ]
  },
  {
   "cell_type": "code",
   "execution_count": 180,
   "metadata": {},
   "outputs": [
    {
     "data": {
      "text/plain": [
       "(33819,)"
      ]
     },
     "execution_count": 180,
     "metadata": {},
     "output_type": "execute_result"
    }
   ],
   "source": [
    "test_LNR.shape"
   ]
  },
  {
   "cell_type": "code",
   "execution_count": 181,
   "metadata": {},
   "outputs": [
    {
     "data": {
      "text/plain": [
       "(33819, 280)"
      ]
     },
     "execution_count": 181,
     "metadata": {},
     "output_type": "execute_result"
    }
   ],
   "source": [
    "mailout_test.shape"
   ]
  },
  {
   "cell_type": "code",
   "execution_count": 176,
   "metadata": {},
   "outputs": [],
   "source": [
    "# Apply feature scaling to the test df\n",
    "imp = Imputer()\n",
    "mailout_test_imp=imp.fit_transform(mailout_test)\n",
    "\n",
    "mailout_test_df = pd.DataFrame(mailout_test_imp, columns = mailout_test.columns)\n",
    "\n",
    "scaler = StandardScaler()\n",
    "mailout_test_scaled_arr = scaler.fit_transform(mailout_test_df)\n",
    "\n",
    "mailout_test_scaled = pd.DataFrame(mailout_test_scaled_arr, columns = mailout_test.columns, index = mailout_test.index)"
   ]
  },
  {
   "cell_type": "code",
   "execution_count": 182,
   "metadata": {},
   "outputs": [
    {
     "data": {
      "text/plain": [
       "(33819, 280)"
      ]
     },
     "execution_count": 182,
     "metadata": {},
     "output_type": "execute_result"
    }
   ],
   "source": [
    "mailout_test_scaled.shape"
   ]
  },
  {
   "cell_type": "code",
   "execution_count": null,
   "metadata": {},
   "outputs": [],
   "source": [
    "def classifier_grid(clf, param_grid, X_train=mailout_test_scaled, y_train=test_LNR):\n",
    "    \"\"\"\n",
    "    Fits a classifier to its training data and prints its ROC AUC score.\n",
    "    \n",
    "    INPUT:\n",
    "    - clf (classifier): classifier to fit\n",
    "    - param_grid (dict): classifier parameters used with GridSearchCV\n",
    "    - X_train (DataFrame): training input\n",
    "    - y_train (DataFrame): training output\n",
    "            \n",
    "    OUTPUT:\n",
    "    - classifier: input classifier fitted to the training data\n",
    "    \"\"\"\n",
    "    \n",
    "    # cv uses StratifiedKFold\n",
    "    # scoring roc_auc available as parameter\n",
    "    grid = GridSearchCV(estimator=clf, param_grid=param_grid, scoring='roc_auc', cv=5)\n",
    "    grid.fit(X_train, y_train)\n",
    "    print(grid.best_score_)\n",
    "    \n",
    "    return grid.best_estimator_"
   ]
  },
  {
   "cell_type": "code",
   "execution_count": null,
   "metadata": {},
   "outputs": [],
   "source": [
    "clf_a = AdaBoostClassifier(random_state=12)\n",
    "param_grid = {'n_estimators':[50,100],\n",
    "             'learning_rate': [1.0, 0.05]\n",
    "             }\n",
    "\n",
    "\n",
    "clf_a_best_est = classifier_grid(clf_a, param_grid)\n",
    "clf_a_best_est"
   ]
  },
  {
   "cell_type": "code",
   "execution_count": 177,
   "metadata": {},
   "outputs": [
    {
     "data": {
      "text/plain": [
       "array([[ 0.5093308 ,  0.4906692 ],\n",
       "       [ 0.51219476,  0.48780524],\n",
       "       [ 0.51243006,  0.48756994],\n",
       "       ..., \n",
       "       [ 0.50993416,  0.49006584],\n",
       "       [ 0.50414167,  0.49585833],\n",
       "       [ 0.51421315,  0.48578685]])"
      ]
     },
     "execution_count": 177,
     "metadata": {},
     "output_type": "execute_result"
    }
   ],
   "source": [
    "# use the trained model to predict the probabilties of the testing data \n",
    "preds = clf_a_best_est.predict_proba(mailout_test_scaled)\n",
    "preds"
   ]
  },
  {
   "cell_type": "code",
   "execution_count": 184,
   "metadata": {},
   "outputs": [
    {
     "data": {
      "text/html": [
       "<div>\n",
       "<style scoped>\n",
       "    .dataframe tbody tr th:only-of-type {\n",
       "        vertical-align: middle;\n",
       "    }\n",
       "\n",
       "    .dataframe tbody tr th {\n",
       "        vertical-align: top;\n",
       "    }\n",
       "\n",
       "    .dataframe thead th {\n",
       "        text-align: right;\n",
       "    }\n",
       "</style>\n",
       "<table border=\"1\" class=\"dataframe\">\n",
       "  <thead>\n",
       "    <tr style=\"text-align: right;\">\n",
       "      <th></th>\n",
       "      <th>LNR</th>\n",
       "      <th>RESPONSE</th>\n",
       "    </tr>\n",
       "  </thead>\n",
       "  <tbody>\n",
       "    <tr>\n",
       "      <th>0</th>\n",
       "      <td>1754</td>\n",
       "      <td>0.490669</td>\n",
       "    </tr>\n",
       "    <tr>\n",
       "      <th>1</th>\n",
       "      <td>1770</td>\n",
       "      <td>0.487805</td>\n",
       "    </tr>\n",
       "    <tr>\n",
       "      <th>2</th>\n",
       "      <td>1465</td>\n",
       "      <td>0.487570</td>\n",
       "    </tr>\n",
       "    <tr>\n",
       "      <th>3</th>\n",
       "      <td>1470</td>\n",
       "      <td>0.486021</td>\n",
       "    </tr>\n",
       "    <tr>\n",
       "      <th>4</th>\n",
       "      <td>1478</td>\n",
       "      <td>0.484721</td>\n",
       "    </tr>\n",
       "  </tbody>\n",
       "</table>\n",
       "</div>"
      ],
      "text/plain": [
       "    LNR  RESPONSE\n",
       "0  1754  0.490669\n",
       "1  1770  0.487805\n",
       "2  1465  0.487570\n",
       "3  1470  0.486021\n",
       "4  1478  0.484721"
      ]
     },
     "execution_count": 184,
     "metadata": {},
     "output_type": "execute_result"
    }
   ],
   "source": [
    "# get a csv file to be submitted to Kaggle\n",
    "# response column - probabilities of positive response.\n",
    "\n",
    "kaggle = pd.DataFrame({'LNR':test_LNR.astype(np.int32), 'RESPONSE':preds[:, 1]})\n",
    "kaggle.to_csv('kaggle.csv', index = False)\n",
    "kaggle.head()"
   ]
  },
  {
   "cell_type": "markdown",
   "metadata": {},
   "source": [
    "#### References"
   ]
  },
  {
   "cell_type": "code",
   "execution_count": null,
   "metadata": {},
   "outputs": [],
   "source": [
    "https://github.com/Tobi81/nano_ds_capstone/blob/master/Arvato%20Project.ipynb"
   ]
  }
 ],
 "metadata": {
  "kernelspec": {
   "display_name": "Python 3",
   "language": "python",
   "name": "python3"
  },
  "language_info": {
   "codemirror_mode": {
    "name": "ipython",
    "version": 3
   },
   "file_extension": ".py",
   "mimetype": "text/x-python",
   "name": "python",
   "nbconvert_exporter": "python",
   "pygments_lexer": "ipython3",
   "version": "3.6.3"
  }
 },
 "nbformat": 4,
 "nbformat_minor": 2
}
